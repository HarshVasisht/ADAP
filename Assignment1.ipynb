{
  "cells": [
    {
      "cell_type": "code",
      "execution_count": 4,
      "metadata": {
        "colab": {
          "base_uri": "https://localhost:8080/"
        },
        "id": "0muvtC5VvCxz",
        "outputId": "8fa34a16-2bf0-49f9-a627-f537e4fec2df"
      },
      "outputs": [
        {
          "output_type": "stream",
          "name": "stdout",
          "text": [
            "/content/drive/MyDrive/Assignment Robotics\n"
          ]
        }
      ],
      "source": [
        "%cd /content/drive/MyDrive/Assignment Robotics"
      ]
    },
    {
      "cell_type": "code",
      "execution_count": 5,
      "metadata": {
        "colab": {
          "base_uri": "https://localhost:8080/"
        },
        "id": "SjfvlOJoudfj",
        "outputId": "68b7b9d2-47a6-426e-860c-4f454c370d50"
      },
      "outputs": [
        {
          "output_type": "stream",
          "name": "stdout",
          "text": [
            "Requirement already satisfied: gradio in /usr/local/lib/python3.10/dist-packages (3.50.2)\n",
            "Requirement already satisfied: aiofiles<24.0,>=22.0 in /usr/local/lib/python3.10/dist-packages (from gradio) (23.2.1)\n",
            "Requirement already satisfied: altair<6.0,>=4.2.0 in /usr/local/lib/python3.10/dist-packages (from gradio) (4.2.2)\n",
            "Requirement already satisfied: fastapi in /usr/local/lib/python3.10/dist-packages (from gradio) (0.104.0)\n",
            "Requirement already satisfied: ffmpy in /usr/local/lib/python3.10/dist-packages (from gradio) (0.3.1)\n",
            "Requirement already satisfied: gradio-client==0.6.1 in /usr/local/lib/python3.10/dist-packages (from gradio) (0.6.1)\n",
            "Requirement already satisfied: httpx in /usr/local/lib/python3.10/dist-packages (from gradio) (0.23.3)\n",
            "Requirement already satisfied: huggingface-hub>=0.14.0 in /usr/local/lib/python3.10/dist-packages (from gradio) (0.18.0)\n",
            "Requirement already satisfied: importlib-resources<7.0,>=1.3 in /usr/local/lib/python3.10/dist-packages (from gradio) (6.1.0)\n",
            "Requirement already satisfied: jinja2<4.0 in /usr/local/lib/python3.10/dist-packages (from gradio) (3.1.2)\n",
            "Requirement already satisfied: markupsafe~=2.0 in /usr/local/lib/python3.10/dist-packages (from gradio) (2.1.3)\n",
            "Requirement already satisfied: matplotlib~=3.0 in /usr/local/lib/python3.10/dist-packages (from gradio) (3.7.1)\n",
            "Requirement already satisfied: numpy~=1.0 in /usr/local/lib/python3.10/dist-packages (from gradio) (1.23.5)\n",
            "Requirement already satisfied: orjson~=3.0 in /usr/local/lib/python3.10/dist-packages (from gradio) (3.9.9)\n",
            "Requirement already satisfied: packaging in /usr/local/lib/python3.10/dist-packages (from gradio) (23.2)\n",
            "Requirement already satisfied: pandas<3.0,>=1.0 in /usr/local/lib/python3.10/dist-packages (from gradio) (1.5.3)\n",
            "Requirement already satisfied: pillow<11.0,>=8.0 in /usr/local/lib/python3.10/dist-packages (from gradio) (9.4.0)\n",
            "Requirement already satisfied: pydantic!=1.8,!=1.8.1,!=2.0.0,!=2.0.1,<3.0.0,>=1.7.4 in /usr/local/lib/python3.10/dist-packages (from gradio) (1.10.13)\n",
            "Requirement already satisfied: pydub in /usr/local/lib/python3.10/dist-packages (from gradio) (0.25.1)\n",
            "Requirement already satisfied: python-multipart in /usr/local/lib/python3.10/dist-packages (from gradio) (0.0.6)\n",
            "Requirement already satisfied: pyyaml<7.0,>=5.0 in /usr/local/lib/python3.10/dist-packages (from gradio) (6.0.1)\n",
            "Requirement already satisfied: requests~=2.0 in /usr/local/lib/python3.10/dist-packages (from gradio) (2.31.0)\n",
            "Requirement already satisfied: semantic-version~=2.0 in /usr/local/lib/python3.10/dist-packages (from gradio) (2.10.0)\n",
            "Requirement already satisfied: typing-extensions~=4.0 in /usr/local/lib/python3.10/dist-packages (from gradio) (4.8.0)\n",
            "Requirement already satisfied: uvicorn>=0.14.0 in /usr/local/lib/python3.10/dist-packages (from gradio) (0.23.2)\n",
            "Requirement already satisfied: websockets<12.0,>=10.0 in /usr/local/lib/python3.10/dist-packages (from gradio) (11.0.3)\n",
            "Requirement already satisfied: fsspec in /usr/local/lib/python3.10/dist-packages (from gradio-client==0.6.1->gradio) (2023.6.0)\n",
            "Requirement already satisfied: entrypoints in /usr/local/lib/python3.10/dist-packages (from altair<6.0,>=4.2.0->gradio) (0.4)\n",
            "Requirement already satisfied: jsonschema>=3.0 in /usr/local/lib/python3.10/dist-packages (from altair<6.0,>=4.2.0->gradio) (4.19.1)\n",
            "Requirement already satisfied: toolz in /usr/local/lib/python3.10/dist-packages (from altair<6.0,>=4.2.0->gradio) (0.12.0)\n",
            "Requirement already satisfied: filelock in /usr/local/lib/python3.10/dist-packages (from huggingface-hub>=0.14.0->gradio) (3.12.4)\n",
            "Requirement already satisfied: tqdm>=4.42.1 in /usr/local/lib/python3.10/dist-packages (from huggingface-hub>=0.14.0->gradio) (4.66.1)\n",
            "Requirement already satisfied: contourpy>=1.0.1 in /usr/local/lib/python3.10/dist-packages (from matplotlib~=3.0->gradio) (1.1.1)\n",
            "Requirement already satisfied: cycler>=0.10 in /usr/local/lib/python3.10/dist-packages (from matplotlib~=3.0->gradio) (0.12.1)\n",
            "Requirement already satisfied: fonttools>=4.22.0 in /usr/local/lib/python3.10/dist-packages (from matplotlib~=3.0->gradio) (4.43.1)\n",
            "Requirement already satisfied: kiwisolver>=1.0.1 in /usr/local/lib/python3.10/dist-packages (from matplotlib~=3.0->gradio) (1.4.5)\n",
            "Requirement already satisfied: pyparsing>=2.3.1 in /usr/local/lib/python3.10/dist-packages (from matplotlib~=3.0->gradio) (3.1.1)\n",
            "Requirement already satisfied: python-dateutil>=2.7 in /usr/local/lib/python3.10/dist-packages (from matplotlib~=3.0->gradio) (2.8.2)\n",
            "Requirement already satisfied: pytz>=2020.1 in /usr/local/lib/python3.10/dist-packages (from pandas<3.0,>=1.0->gradio) (2023.3.post1)\n",
            "Requirement already satisfied: charset-normalizer<4,>=2 in /usr/local/lib/python3.10/dist-packages (from requests~=2.0->gradio) (3.3.0)\n",
            "Requirement already satisfied: idna<4,>=2.5 in /usr/local/lib/python3.10/dist-packages (from requests~=2.0->gradio) (3.4)\n",
            "Requirement already satisfied: urllib3<3,>=1.21.1 in /usr/local/lib/python3.10/dist-packages (from requests~=2.0->gradio) (1.26.18)\n",
            "Requirement already satisfied: certifi>=2017.4.17 in /usr/local/lib/python3.10/dist-packages (from requests~=2.0->gradio) (2023.7.22)\n",
            "Requirement already satisfied: click>=7.0 in /usr/local/lib/python3.10/dist-packages (from uvicorn>=0.14.0->gradio) (8.1.7)\n",
            "Requirement already satisfied: h11>=0.8 in /usr/local/lib/python3.10/dist-packages (from uvicorn>=0.14.0->gradio) (0.14.0)\n",
            "Requirement already satisfied: anyio<4.0.0,>=3.7.1 in /usr/local/lib/python3.10/dist-packages (from fastapi->gradio) (3.7.1)\n",
            "Requirement already satisfied: starlette<0.28.0,>=0.27.0 in /usr/local/lib/python3.10/dist-packages (from fastapi->gradio) (0.27.0)\n",
            "Requirement already satisfied: httpcore<0.17.0,>=0.15.0 in /usr/local/lib/python3.10/dist-packages (from httpx->gradio) (0.16.3)\n",
            "Requirement already satisfied: rfc3986[idna2008]<2,>=1.3 in /usr/local/lib/python3.10/dist-packages (from httpx->gradio) (1.5.0)\n",
            "Requirement already satisfied: sniffio in /usr/local/lib/python3.10/dist-packages (from httpx->gradio) (1.3.0)\n",
            "Requirement already satisfied: exceptiongroup in /usr/local/lib/python3.10/dist-packages (from anyio<4.0.0,>=3.7.1->fastapi->gradio) (1.1.3)\n",
            "Requirement already satisfied: attrs>=22.2.0 in /usr/local/lib/python3.10/dist-packages (from jsonschema>=3.0->altair<6.0,>=4.2.0->gradio) (23.1.0)\n",
            "Requirement already satisfied: jsonschema-specifications>=2023.03.6 in /usr/local/lib/python3.10/dist-packages (from jsonschema>=3.0->altair<6.0,>=4.2.0->gradio) (2023.7.1)\n",
            "Requirement already satisfied: referencing>=0.28.4 in /usr/local/lib/python3.10/dist-packages (from jsonschema>=3.0->altair<6.0,>=4.2.0->gradio) (0.30.2)\n",
            "Requirement already satisfied: rpds-py>=0.7.1 in /usr/local/lib/python3.10/dist-packages (from jsonschema>=3.0->altair<6.0,>=4.2.0->gradio) (0.10.6)\n",
            "Requirement already satisfied: six>=1.5 in /usr/local/lib/python3.10/dist-packages (from python-dateutil>=2.7->matplotlib~=3.0->gradio) (1.16.0)\n"
          ]
        }
      ],
      "source": [
        "!pip install gradio"
      ]
    },
    {
      "cell_type": "code",
      "execution_count": 6,
      "metadata": {
        "colab": {
          "base_uri": "https://localhost:8080/"
        },
        "id": "b4DXOFYoaAQm",
        "outputId": "4a88c081-1ad4-4325-cd79-629ffea41a4e"
      },
      "outputs": [
        {
          "output_type": "stream",
          "name": "stdout",
          "text": [
            "Requirement already satisfied: icecream in /usr/local/lib/python3.10/dist-packages (2.1.3)\n",
            "Requirement already satisfied: colorama>=0.3.9 in /usr/local/lib/python3.10/dist-packages (from icecream) (0.4.6)\n",
            "Requirement already satisfied: pygments>=2.2.0 in /usr/local/lib/python3.10/dist-packages (from icecream) (2.16.1)\n",
            "Requirement already satisfied: executing>=0.3.1 in /usr/local/lib/python3.10/dist-packages (from icecream) (2.0.0)\n",
            "Requirement already satisfied: asttokens>=2.0.1 in /usr/local/lib/python3.10/dist-packages (from icecream) (2.4.0)\n",
            "Requirement already satisfied: six>=1.12.0 in /usr/local/lib/python3.10/dist-packages (from asttokens>=2.0.1->icecream) (1.16.0)\n"
          ]
        }
      ],
      "source": [
        "!pip install icecream"
      ]
    },
    {
      "cell_type": "code",
      "execution_count": 7,
      "metadata": {
        "colab": {
          "base_uri": "https://localhost:8080/"
        },
        "id": "rqwpAQMZd0wv",
        "outputId": "59ffb024-31b7-4fc4-e822-24e9ab48e87d"
      },
      "outputs": [
        {
          "output_type": "stream",
          "name": "stdout",
          "text": [
            "Requirement already satisfied: mlflow in /usr/local/lib/python3.10/dist-packages (2.7.1)\n",
            "Requirement already satisfied: dvc in /usr/local/lib/python3.10/dist-packages (3.27.0)\n",
            "Requirement already satisfied: click<9,>=7.0 in /usr/local/lib/python3.10/dist-packages (from mlflow) (8.1.7)\n",
            "Requirement already satisfied: cloudpickle<3 in /usr/local/lib/python3.10/dist-packages (from mlflow) (2.2.1)\n",
            "Requirement already satisfied: databricks-cli<1,>=0.8.7 in /usr/local/lib/python3.10/dist-packages (from mlflow) (0.18.0)\n",
            "Requirement already satisfied: entrypoints<1 in /usr/local/lib/python3.10/dist-packages (from mlflow) (0.4)\n",
            "Requirement already satisfied: gitpython<4,>=2.1.0 in /usr/local/lib/python3.10/dist-packages (from mlflow) (3.1.40)\n",
            "Requirement already satisfied: pyyaml<7,>=5.1 in /usr/local/lib/python3.10/dist-packages (from mlflow) (6.0.1)\n",
            "Requirement already satisfied: protobuf<5,>=3.12.0 in /usr/local/lib/python3.10/dist-packages (from mlflow) (3.20.3)\n",
            "Requirement already satisfied: pytz<2024 in /usr/local/lib/python3.10/dist-packages (from mlflow) (2023.3.post1)\n",
            "Requirement already satisfied: requests<3,>=2.17.3 in /usr/local/lib/python3.10/dist-packages (from mlflow) (2.31.0)\n",
            "Requirement already satisfied: packaging<24 in /usr/local/lib/python3.10/dist-packages (from mlflow) (23.2)\n",
            "Requirement already satisfied: importlib-metadata!=4.7.0,<7,>=3.7.0 in /usr/local/lib/python3.10/dist-packages (from mlflow) (6.8.0)\n",
            "Requirement already satisfied: sqlparse<1,>=0.4.0 in /usr/local/lib/python3.10/dist-packages (from mlflow) (0.4.4)\n",
            "Requirement already satisfied: alembic!=1.10.0,<2 in /usr/local/lib/python3.10/dist-packages (from mlflow) (1.12.0)\n",
            "Requirement already satisfied: docker<7,>=4.0.0 in /usr/local/lib/python3.10/dist-packages (from mlflow) (6.1.3)\n",
            "Requirement already satisfied: Flask<3 in /usr/local/lib/python3.10/dist-packages (from mlflow) (2.2.5)\n",
            "Requirement already satisfied: numpy<2 in /usr/local/lib/python3.10/dist-packages (from mlflow) (1.23.5)\n",
            "Requirement already satisfied: scipy<2 in /usr/local/lib/python3.10/dist-packages (from mlflow) (1.11.3)\n",
            "Requirement already satisfied: pandas<3 in /usr/local/lib/python3.10/dist-packages (from mlflow) (1.5.3)\n",
            "Requirement already satisfied: querystring-parser<2 in /usr/local/lib/python3.10/dist-packages (from mlflow) (1.2.4)\n",
            "Requirement already satisfied: sqlalchemy<3,>=1.4.0 in /usr/local/lib/python3.10/dist-packages (from mlflow) (2.0.22)\n",
            "Requirement already satisfied: scikit-learn<2 in /usr/local/lib/python3.10/dist-packages (from mlflow) (1.2.2)\n",
            "Requirement already satisfied: pyarrow<14,>=4.0.0 in /usr/local/lib/python3.10/dist-packages (from mlflow) (9.0.0)\n",
            "Requirement already satisfied: markdown<4,>=3.3 in /usr/local/lib/python3.10/dist-packages (from mlflow) (3.5)\n",
            "Requirement already satisfied: matplotlib<4 in /usr/local/lib/python3.10/dist-packages (from mlflow) (3.7.1)\n",
            "Requirement already satisfied: gunicorn<22 in /usr/local/lib/python3.10/dist-packages (from mlflow) (21.2.0)\n",
            "Requirement already satisfied: Jinja2<4,>=2.11 in /usr/local/lib/python3.10/dist-packages (from mlflow) (3.1.2)\n",
            "Requirement already satisfied: colorama>=0.3.9 in /usr/local/lib/python3.10/dist-packages (from dvc) (0.4.6)\n",
            "Requirement already satisfied: configobj>=5.0.6 in /usr/local/lib/python3.10/dist-packages (from dvc) (5.0.8)\n",
            "Requirement already satisfied: distro>=1.3 in /usr/lib/python3/dist-packages (from dvc) (1.7.0)\n",
            "Requirement already satisfied: dpath<3,>=2.1.0 in /usr/local/lib/python3.10/dist-packages (from dvc) (2.1.6)\n",
            "Requirement already satisfied: dvc-data<2.19.0,>=2.18.1 in /usr/local/lib/python3.10/dist-packages (from dvc) (2.18.1)\n",
            "Requirement already satisfied: dvc-http>=2.29.0 in /usr/local/lib/python3.10/dist-packages (from dvc) (2.30.2)\n",
            "Requirement already satisfied: dvc-render<1,>=0.3.1 in /usr/local/lib/python3.10/dist-packages (from dvc) (0.6.0)\n",
            "Requirement already satisfied: dvc-studio-client<1,>=0.13.0 in /usr/local/lib/python3.10/dist-packages (from dvc) (0.15.0)\n",
            "Requirement already satisfied: dvc-task<1,>=0.3.0 in /usr/local/lib/python3.10/dist-packages (from dvc) (0.3.0)\n",
            "Requirement already satisfied: flatten-dict<1,>=0.4.1 in /usr/local/lib/python3.10/dist-packages (from dvc) (0.4.2)\n",
            "Requirement already satisfied: flufl.lock<8,>=5 in /usr/local/lib/python3.10/dist-packages (from dvc) (7.1.1)\n",
            "Requirement already satisfied: funcy>=1.14 in /usr/local/lib/python3.10/dist-packages (from dvc) (2.0)\n",
            "Requirement already satisfied: grandalf<1,>=0.7 in /usr/local/lib/python3.10/dist-packages (from dvc) (0.8)\n",
            "Requirement already satisfied: gto<2,>=1.4.0 in /usr/local/lib/python3.10/dist-packages (from dvc) (1.4.0)\n",
            "Requirement already satisfied: hydra-core>=1.1 in /usr/local/lib/python3.10/dist-packages (from dvc) (1.3.2)\n",
            "Requirement already satisfied: iterative-telemetry>=0.0.7 in /usr/local/lib/python3.10/dist-packages (from dvc) (0.0.8)\n",
            "Requirement already satisfied: networkx>=2.5 in /usr/local/lib/python3.10/dist-packages (from dvc) (3.1)\n",
            "Requirement already satisfied: pathspec>=0.10.3 in /usr/local/lib/python3.10/dist-packages (from dvc) (0.11.2)\n",
            "Requirement already satisfied: platformdirs<4,>=3.1.1 in /usr/local/lib/python3.10/dist-packages (from dvc) (3.11.0)\n",
            "Requirement already satisfied: psutil>=5.8 in /usr/local/lib/python3.10/dist-packages (from dvc) (5.9.5)\n",
            "Requirement already satisfied: pydot>=1.2.4 in /usr/local/lib/python3.10/dist-packages (from dvc) (1.4.2)\n",
            "Requirement already satisfied: pygtrie>=2.3.2 in /usr/local/lib/python3.10/dist-packages (from dvc) (2.5.0)\n",
            "Requirement already satisfied: pyparsing>=2.4.7 in /usr/local/lib/python3.10/dist-packages (from dvc) (3.1.1)\n",
            "Requirement already satisfied: rich>=12 in /usr/local/lib/python3.10/dist-packages (from dvc) (13.1.0)\n",
            "Requirement already satisfied: ruamel.yaml>=0.17.11 in /usr/local/lib/python3.10/dist-packages (from dvc) (0.17.40)\n",
            "Requirement already satisfied: scmrepo<2,>=1.2.1 in /usr/local/lib/python3.10/dist-packages (from dvc) (1.4.0)\n",
            "Requirement already satisfied: shortuuid>=0.5 in /usr/local/lib/python3.10/dist-packages (from dvc) (1.0.11)\n",
            "Requirement already satisfied: shtab<2,>=1.3.4 in /usr/local/lib/python3.10/dist-packages (from dvc) (1.6.4)\n",
            "Requirement already satisfied: tabulate>=0.8.7 in /usr/local/lib/python3.10/dist-packages (from dvc) (0.9.0)\n",
            "Requirement already satisfied: tomlkit>=0.11.1 in /usr/local/lib/python3.10/dist-packages (from dvc) (0.12.1)\n",
            "Requirement already satisfied: tqdm<5,>=4.63.1 in /usr/local/lib/python3.10/dist-packages (from dvc) (4.66.1)\n",
            "Requirement already satisfied: voluptuous>=0.11.7 in /usr/local/lib/python3.10/dist-packages (from dvc) (0.13.1)\n",
            "Requirement already satisfied: zc.lockfile>=1.2.1 in /usr/local/lib/python3.10/dist-packages (from dvc) (3.0.post1)\n",
            "Requirement already satisfied: Mako in /usr/local/lib/python3.10/dist-packages (from alembic!=1.10.0,<2->mlflow) (1.2.4)\n",
            "Requirement already satisfied: typing-extensions>=4 in /usr/local/lib/python3.10/dist-packages (from alembic!=1.10.0,<2->mlflow) (4.8.0)\n",
            "Requirement already satisfied: six in /usr/local/lib/python3.10/dist-packages (from configobj>=5.0.6->dvc) (1.16.0)\n",
            "Requirement already satisfied: pyjwt>=1.7.0 in /usr/lib/python3/dist-packages (from databricks-cli<1,>=0.8.7->mlflow) (2.3.0)\n",
            "Requirement already satisfied: oauthlib>=3.1.0 in /usr/local/lib/python3.10/dist-packages (from databricks-cli<1,>=0.8.7->mlflow) (3.2.2)\n",
            "Requirement already satisfied: urllib3<3,>=1.26.7 in /usr/local/lib/python3.10/dist-packages (from databricks-cli<1,>=0.8.7->mlflow) (1.26.18)\n",
            "Requirement already satisfied: websocket-client>=0.32.0 in /usr/local/lib/python3.10/dist-packages (from docker<7,>=4.0.0->mlflow) (1.6.4)\n",
            "Requirement already satisfied: dictdiffer>=0.8.1 in /usr/local/lib/python3.10/dist-packages (from dvc-data<2.19.0,>=2.18.1->dvc) (0.9.0)\n",
            "Requirement already satisfied: dvc-objects<2,>=1.0.1 in /usr/local/lib/python3.10/dist-packages (from dvc-data<2.19.0,>=2.18.1->dvc) (1.0.1)\n",
            "Requirement already satisfied: diskcache>=5.2.1 in /usr/local/lib/python3.10/dist-packages (from dvc-data<2.19.0,>=2.18.1->dvc) (5.6.3)\n",
            "Requirement already satisfied: attrs>=21.3.0 in /usr/local/lib/python3.10/dist-packages (from dvc-data<2.19.0,>=2.18.1->dvc) (23.1.0)\n",
            "Requirement already satisfied: sqltrie<1,>=0.8.0 in /usr/local/lib/python3.10/dist-packages (from dvc-data<2.19.0,>=2.18.1->dvc) (0.8.0)\n",
            "Requirement already satisfied: fsspec[http] in /usr/local/lib/python3.10/dist-packages (from dvc-http>=2.29.0->dvc) (2023.6.0)\n",
            "Requirement already satisfied: aiohttp-retry>=2.5.0 in /usr/local/lib/python3.10/dist-packages (from dvc-http>=2.29.0->dvc) (2.8.3)\n",
            "Requirement already satisfied: dulwich in /usr/local/lib/python3.10/dist-packages (from dvc-studio-client<1,>=0.13.0->dvc) (0.21.6)\n",
            "Requirement already satisfied: celery<6,>=5.3.0 in /usr/local/lib/python3.10/dist-packages (from dvc-task<1,>=0.3.0->dvc) (5.3.4)\n",
            "Requirement already satisfied: kombu<6,>=5.3.0 in /usr/local/lib/python3.10/dist-packages (from dvc-task<1,>=0.3.0->dvc) (5.3.2)\n",
            "Requirement already satisfied: Werkzeug>=2.2.2 in /usr/local/lib/python3.10/dist-packages (from Flask<3->mlflow) (3.0.0)\n",
            "Requirement already satisfied: itsdangerous>=2.0 in /usr/local/lib/python3.10/dist-packages (from Flask<3->mlflow) (2.1.2)\n",
            "Requirement already satisfied: atpublic>=2.3 in /usr/local/lib/python3.10/dist-packages (from flufl.lock<8,>=5->dvc) (4.0)\n",
            "Requirement already satisfied: gitdb<5,>=4.0.1 in /usr/local/lib/python3.10/dist-packages (from gitpython<4,>=2.1.0->mlflow) (4.0.11)\n",
            "Requirement already satisfied: typer>=0.4.1 in /usr/local/lib/python3.10/dist-packages (from gto<2,>=1.4.0->dvc) (0.9.0)\n",
            "Requirement already satisfied: pydantic!=2.0.0,<3,>=1.9.0 in /usr/local/lib/python3.10/dist-packages (from gto<2,>=1.4.0->dvc) (1.10.13)\n",
            "Requirement already satisfied: semver>=3.0.0 in /usr/local/lib/python3.10/dist-packages (from gto<2,>=1.4.0->dvc) (3.0.2)\n",
            "Requirement already satisfied: omegaconf<2.4,>=2.2 in /usr/local/lib/python3.10/dist-packages (from hydra-core>=1.1->dvc) (2.3.0)\n",
            "Requirement already satisfied: antlr4-python3-runtime==4.9.* in /usr/local/lib/python3.10/dist-packages (from hydra-core>=1.1->dvc) (4.9.3)\n",
            "Requirement already satisfied: zipp>=0.5 in /usr/local/lib/python3.10/dist-packages (from importlib-metadata!=4.7.0,<7,>=3.7.0->mlflow) (3.17.0)\n",
            "Requirement already satisfied: appdirs in /usr/local/lib/python3.10/dist-packages (from iterative-telemetry>=0.0.7->dvc) (1.4.4)\n",
            "Requirement already satisfied: filelock in /usr/local/lib/python3.10/dist-packages (from iterative-telemetry>=0.0.7->dvc) (3.12.4)\n",
            "Requirement already satisfied: MarkupSafe>=2.0 in /usr/local/lib/python3.10/dist-packages (from Jinja2<4,>=2.11->mlflow) (2.1.3)\n",
            "Requirement already satisfied: contourpy>=1.0.1 in /usr/local/lib/python3.10/dist-packages (from matplotlib<4->mlflow) (1.1.1)\n",
            "Requirement already satisfied: cycler>=0.10 in /usr/local/lib/python3.10/dist-packages (from matplotlib<4->mlflow) (0.12.1)\n",
            "Requirement already satisfied: fonttools>=4.22.0 in /usr/local/lib/python3.10/dist-packages (from matplotlib<4->mlflow) (4.43.1)\n",
            "Requirement already satisfied: kiwisolver>=1.0.1 in /usr/local/lib/python3.10/dist-packages (from matplotlib<4->mlflow) (1.4.5)\n",
            "Requirement already satisfied: pillow>=6.2.0 in /usr/local/lib/python3.10/dist-packages (from matplotlib<4->mlflow) (9.4.0)\n",
            "Requirement already satisfied: python-dateutil>=2.7 in /usr/local/lib/python3.10/dist-packages (from matplotlib<4->mlflow) (2.8.2)\n",
            "Requirement already satisfied: charset-normalizer<4,>=2 in /usr/local/lib/python3.10/dist-packages (from requests<3,>=2.17.3->mlflow) (3.3.0)\n",
            "Requirement already satisfied: idna<4,>=2.5 in /usr/local/lib/python3.10/dist-packages (from requests<3,>=2.17.3->mlflow) (3.4)\n",
            "Requirement already satisfied: certifi>=2017.4.17 in /usr/local/lib/python3.10/dist-packages (from requests<3,>=2.17.3->mlflow) (2023.7.22)\n",
            "Requirement already satisfied: commonmark<0.10.0,>=0.9.0 in /usr/local/lib/python3.10/dist-packages (from rich>=12->dvc) (0.9.1)\n",
            "Requirement already satisfied: pygments<3.0.0,>=2.6.0 in /usr/local/lib/python3.10/dist-packages (from rich>=12->dvc) (2.16.1)\n",
            "Requirement already satisfied: ruamel.yaml.clib>=0.2.7 in /usr/local/lib/python3.10/dist-packages (from ruamel.yaml>=0.17.11->dvc) (0.2.8)\n",
            "Requirement already satisfied: joblib>=1.1.1 in /usr/local/lib/python3.10/dist-packages (from scikit-learn<2->mlflow) (1.3.2)\n",
            "Requirement already satisfied: threadpoolctl>=2.0.0 in /usr/local/lib/python3.10/dist-packages (from scikit-learn<2->mlflow) (3.2.0)\n",
            "Requirement already satisfied: pygit2>=1.13.0 in /usr/local/lib/python3.10/dist-packages (from scmrepo<2,>=1.2.1->dvc) (1.13.1)\n",
            "Requirement already satisfied: asyncssh<3,>=2.13.1 in /usr/local/lib/python3.10/dist-packages (from scmrepo<2,>=1.2.1->dvc) (2.14.0)\n",
            "Requirement already satisfied: greenlet!=0.4.17 in /usr/local/lib/python3.10/dist-packages (from sqlalchemy<3,>=1.4.0->mlflow) (3.0.0)\n",
            "Requirement already satisfied: setuptools in /usr/local/lib/python3.10/dist-packages (from zc.lockfile>=1.2.1->dvc) (67.7.2)\n",
            "Requirement already satisfied: aiohttp in /usr/local/lib/python3.10/dist-packages (from aiohttp-retry>=2.5.0->dvc-http>=2.29.0->dvc) (3.8.6)\n",
            "Requirement already satisfied: cryptography>=39.0 in /usr/local/lib/python3.10/dist-packages (from asyncssh<3,>=2.13.1->scmrepo<2,>=1.2.1->dvc) (41.0.4)\n",
            "Requirement already satisfied: billiard<5.0,>=4.1.0 in /usr/local/lib/python3.10/dist-packages (from celery<6,>=5.3.0->dvc-task<1,>=0.3.0->dvc) (4.1.0)\n",
            "Requirement already satisfied: vine<6.0,>=5.0.0 in /usr/local/lib/python3.10/dist-packages (from celery<6,>=5.3.0->dvc-task<1,>=0.3.0->dvc) (5.0.0)\n",
            "Requirement already satisfied: click-didyoumean>=0.3.0 in /usr/local/lib/python3.10/dist-packages (from celery<6,>=5.3.0->dvc-task<1,>=0.3.0->dvc) (0.3.0)\n",
            "Requirement already satisfied: click-repl>=0.2.0 in /usr/local/lib/python3.10/dist-packages (from celery<6,>=5.3.0->dvc-task<1,>=0.3.0->dvc) (0.3.0)\n",
            "Requirement already satisfied: click-plugins>=1.1.1 in /usr/local/lib/python3.10/dist-packages (from celery<6,>=5.3.0->dvc-task<1,>=0.3.0->dvc) (1.1.1)\n",
            "Requirement already satisfied: tzdata>=2022.7 in /usr/local/lib/python3.10/dist-packages (from celery<6,>=5.3.0->dvc-task<1,>=0.3.0->dvc) (2023.3)\n",
            "Requirement already satisfied: smmap<6,>=3.0.1 in /usr/local/lib/python3.10/dist-packages (from gitdb<5,>=4.0.1->gitpython<4,>=2.1.0->mlflow) (5.0.1)\n",
            "Requirement already satisfied: amqp<6.0.0,>=5.1.1 in /usr/local/lib/python3.10/dist-packages (from kombu<6,>=5.3.0->dvc-task<1,>=0.3.0->dvc) (5.1.1)\n",
            "Requirement already satisfied: cffi>=1.9.1 in /usr/local/lib/python3.10/dist-packages (from pygit2>=1.13.0->scmrepo<2,>=1.2.1->dvc) (1.16.0)\n",
            "Requirement already satisfied: orjson in /usr/local/lib/python3.10/dist-packages (from sqltrie<1,>=0.8.0->dvc-data<2.19.0,>=2.18.1->dvc) (3.9.9)\n",
            "Requirement already satisfied: multidict<7.0,>=4.5 in /usr/local/lib/python3.10/dist-packages (from aiohttp->aiohttp-retry>=2.5.0->dvc-http>=2.29.0->dvc) (6.0.4)\n",
            "Requirement already satisfied: async-timeout<5.0,>=4.0.0a3 in /usr/local/lib/python3.10/dist-packages (from aiohttp->aiohttp-retry>=2.5.0->dvc-http>=2.29.0->dvc) (4.0.3)\n",
            "Requirement already satisfied: yarl<2.0,>=1.0 in /usr/local/lib/python3.10/dist-packages (from aiohttp->aiohttp-retry>=2.5.0->dvc-http>=2.29.0->dvc) (1.9.2)\n",
            "Requirement already satisfied: frozenlist>=1.1.1 in /usr/local/lib/python3.10/dist-packages (from aiohttp->aiohttp-retry>=2.5.0->dvc-http>=2.29.0->dvc) (1.4.0)\n",
            "Requirement already satisfied: aiosignal>=1.1.2 in /usr/local/lib/python3.10/dist-packages (from aiohttp->aiohttp-retry>=2.5.0->dvc-http>=2.29.0->dvc) (1.3.1)\n",
            "Requirement already satisfied: pycparser in /usr/local/lib/python3.10/dist-packages (from cffi>=1.9.1->pygit2>=1.13.0->scmrepo<2,>=1.2.1->dvc) (2.21)\n",
            "Requirement already satisfied: prompt-toolkit>=3.0.36 in /usr/local/lib/python3.10/dist-packages (from click-repl>=0.2.0->celery<6,>=5.3.0->dvc-task<1,>=0.3.0->dvc) (3.0.39)\n",
            "Requirement already satisfied: wcwidth in /usr/local/lib/python3.10/dist-packages (from prompt-toolkit>=3.0.36->click-repl>=0.2.0->celery<6,>=5.3.0->dvc-task<1,>=0.3.0->dvc) (0.2.8)\n"
          ]
        }
      ],
      "source": [
        "!pip install mlflow dvc"
      ]
    },
    {
      "cell_type": "code",
      "execution_count": 8,
      "metadata": {
        "id": "2LvHVQ-ovZ5p"
      },
      "outputs": [],
      "source": [
        "from icecream import ic\n",
        "import numpy as np\n",
        "import pandas as pd\n",
        "import matplotlib.pyplot as plt\n",
        "import seaborn as sns\n",
        "sns.set(color_codes=True)\n",
        "import warnings\n",
        "warnings.filterwarnings(\"ignore\")\n",
        "from glob import glob\n",
        "import re\n",
        "import gc\n",
        "import mlflow\n",
        "import dvc.api\n",
        "import joblib\n",
        "import os\n",
        "from scipy.stats import zscore\n",
        "from sklearn.covariance import EllipticEnvelope\n",
        "from sklearn.preprocessing import StandardScaler\n",
        "from sklearn.model_selection import train_test_split\n",
        "from sklearn import metrics\n",
        "from sklearn.neighbors import KNeighborsClassifier\n",
        "from sklearn.tree import DecisionTreeClassifier\n",
        "from sklearn.ensemble import RandomForestClassifier\n",
        "from sklearn.naive_bayes import GaussianNB\n",
        "from sklearn.model_selection import RandomizedSearchCV,GridSearchCV,cross_validate\n",
        "from sklearn.experimental import enable_halving_search_cv\n",
        "from sklearn.model_selection import HalvingGridSearchCV"
      ]
    },
    {
      "cell_type": "code",
      "execution_count": 9,
      "metadata": {
        "id": "Col3p3J9x3cb"
      },
      "outputs": [],
      "source": [
        "dir_path = \"/content/drive/MyDrive/Assignment Robotics/ActivityAccelerometer\""
      ]
    },
    {
      "cell_type": "code",
      "execution_count": 10,
      "metadata": {
        "colab": {
          "base_uri": "https://localhost:8080/",
          "height": 36
        },
        "id": "iGnPnlvQzyC4",
        "outputId": "7bc19249-db94-4fc3-c7fe-edf74d955f39"
      },
      "outputs": [
        {
          "output_type": "execute_result",
          "data": {
            "text/plain": [
              "'/content/drive/MyDrive/Assignment Robotics/ActivityAccelerometer/*.csv'"
            ],
            "application/vnd.google.colaboratory.intrinsic+json": {
              "type": "string"
            }
          },
          "metadata": {},
          "execution_count": 10
        }
      ],
      "source": [
        "dir_path  + \"/*.csv\""
      ]
    },
    {
      "cell_type": "code",
      "execution_count": 11,
      "metadata": {
        "colab": {
          "base_uri": "https://localhost:8080/"
        },
        "id": "iv5Z0KSdzmVB",
        "outputId": "ecd42d6e-6f40-47d8-abaf-f7f7c3ac3d07"
      },
      "outputs": [
        {
          "output_type": "execute_result",
          "data": {
            "text/plain": [
              "['/content/drive/MyDrive/Assignment Robotics/ActivityAccelerometer/11.csv',\n",
              " '/content/drive/MyDrive/Assignment Robotics/ActivityAccelerometer/1.csv',\n",
              " '/content/drive/MyDrive/Assignment Robotics/ActivityAccelerometer/12.csv',\n",
              " '/content/drive/MyDrive/Assignment Robotics/ActivityAccelerometer/13.csv',\n",
              " '/content/drive/MyDrive/Assignment Robotics/ActivityAccelerometer/10.csv',\n",
              " '/content/drive/MyDrive/Assignment Robotics/ActivityAccelerometer/2.csv',\n",
              " '/content/drive/MyDrive/Assignment Robotics/ActivityAccelerometer/14.csv',\n",
              " '/content/drive/MyDrive/Assignment Robotics/ActivityAccelerometer/4.csv',\n",
              " '/content/drive/MyDrive/Assignment Robotics/ActivityAccelerometer/15.csv',\n",
              " '/content/drive/MyDrive/Assignment Robotics/ActivityAccelerometer/5.csv',\n",
              " '/content/drive/MyDrive/Assignment Robotics/ActivityAccelerometer/3.csv',\n",
              " '/content/drive/MyDrive/Assignment Robotics/ActivityAccelerometer/9.csv',\n",
              " '/content/drive/MyDrive/Assignment Robotics/ActivityAccelerometer/8.csv',\n",
              " '/content/drive/MyDrive/Assignment Robotics/ActivityAccelerometer/7.csv',\n",
              " '/content/drive/MyDrive/Assignment Robotics/ActivityAccelerometer/6.csv']"
            ]
          },
          "metadata": {},
          "execution_count": 11
        }
      ],
      "source": [
        "files_path=glob(dir_path+\"/*.csv\")\n",
        "files_path"
      ]
    },
    {
      "cell_type": "code",
      "execution_count": 12,
      "metadata": {
        "id": "p5akA1dmz9st"
      },
      "outputs": [],
      "source": [
        "def Dataframe(files_path):\n",
        "    df_participants=pd.DataFrame()\n",
        "    for index,file_path in enumerate(files_path):\n",
        "        df=pd.read_csv(file_path,header=None)\n",
        "        df[\"User_id\"]=int(re.sub(r'[^0-9]',\"\",file_path))\n",
        "        df_participants=df_participants.append(df.iloc[:,1:])\n",
        "    return df_participants"
      ]
    },
    {
      "cell_type": "code",
      "execution_count": 13,
      "metadata": {
        "id": "2QyCkLu40avI"
      },
      "outputs": [],
      "source": [
        "data = Dataframe(files_path)"
      ]
    },
    {
      "cell_type": "code",
      "execution_count": 14,
      "metadata": {
        "colab": {
          "base_uri": "https://localhost:8080/",
          "height": 423
        },
        "id": "efaKEC3S1iyI",
        "outputId": "fec229b7-1ed7-4133-bab2-30662235a0d6"
      },
      "outputs": [
        {
          "output_type": "execute_result",
          "data": {
            "text/plain": [
              "           1     2     3  4  User_id\n",
              "0       1983  2438  1825  1       11\n",
              "1       1948  2442  1797  1       11\n",
              "2       1927  2388  1784  1       11\n",
              "3       1960  2319  1831  1       11\n",
              "4       1967  2274  1871  1       11\n",
              "...      ...   ...   ... ..      ...\n",
              "140896  2098  2305  1982  7        6\n",
              "140897  2106  2314  1980  7        6\n",
              "140898  2112  2319  1973  7        6\n",
              "140899  2111  2319  1969  7        6\n",
              "140900  2110  2312  1972  0        6\n",
              "\n",
              "[1926896 rows x 5 columns]"
            ],
            "text/html": [
              "\n",
              "  <div id=\"df-e34c0800-3d73-4338-8433-be1b1fd88082\" class=\"colab-df-container\">\n",
              "    <div>\n",
              "<style scoped>\n",
              "    .dataframe tbody tr th:only-of-type {\n",
              "        vertical-align: middle;\n",
              "    }\n",
              "\n",
              "    .dataframe tbody tr th {\n",
              "        vertical-align: top;\n",
              "    }\n",
              "\n",
              "    .dataframe thead th {\n",
              "        text-align: right;\n",
              "    }\n",
              "</style>\n",
              "<table border=\"1\" class=\"dataframe\">\n",
              "  <thead>\n",
              "    <tr style=\"text-align: right;\">\n",
              "      <th></th>\n",
              "      <th>1</th>\n",
              "      <th>2</th>\n",
              "      <th>3</th>\n",
              "      <th>4</th>\n",
              "      <th>User_id</th>\n",
              "    </tr>\n",
              "  </thead>\n",
              "  <tbody>\n",
              "    <tr>\n",
              "      <th>0</th>\n",
              "      <td>1983</td>\n",
              "      <td>2438</td>\n",
              "      <td>1825</td>\n",
              "      <td>1</td>\n",
              "      <td>11</td>\n",
              "    </tr>\n",
              "    <tr>\n",
              "      <th>1</th>\n",
              "      <td>1948</td>\n",
              "      <td>2442</td>\n",
              "      <td>1797</td>\n",
              "      <td>1</td>\n",
              "      <td>11</td>\n",
              "    </tr>\n",
              "    <tr>\n",
              "      <th>2</th>\n",
              "      <td>1927</td>\n",
              "      <td>2388</td>\n",
              "      <td>1784</td>\n",
              "      <td>1</td>\n",
              "      <td>11</td>\n",
              "    </tr>\n",
              "    <tr>\n",
              "      <th>3</th>\n",
              "      <td>1960</td>\n",
              "      <td>2319</td>\n",
              "      <td>1831</td>\n",
              "      <td>1</td>\n",
              "      <td>11</td>\n",
              "    </tr>\n",
              "    <tr>\n",
              "      <th>4</th>\n",
              "      <td>1967</td>\n",
              "      <td>2274</td>\n",
              "      <td>1871</td>\n",
              "      <td>1</td>\n",
              "      <td>11</td>\n",
              "    </tr>\n",
              "    <tr>\n",
              "      <th>...</th>\n",
              "      <td>...</td>\n",
              "      <td>...</td>\n",
              "      <td>...</td>\n",
              "      <td>...</td>\n",
              "      <td>...</td>\n",
              "    </tr>\n",
              "    <tr>\n",
              "      <th>140896</th>\n",
              "      <td>2098</td>\n",
              "      <td>2305</td>\n",
              "      <td>1982</td>\n",
              "      <td>7</td>\n",
              "      <td>6</td>\n",
              "    </tr>\n",
              "    <tr>\n",
              "      <th>140897</th>\n",
              "      <td>2106</td>\n",
              "      <td>2314</td>\n",
              "      <td>1980</td>\n",
              "      <td>7</td>\n",
              "      <td>6</td>\n",
              "    </tr>\n",
              "    <tr>\n",
              "      <th>140898</th>\n",
              "      <td>2112</td>\n",
              "      <td>2319</td>\n",
              "      <td>1973</td>\n",
              "      <td>7</td>\n",
              "      <td>6</td>\n",
              "    </tr>\n",
              "    <tr>\n",
              "      <th>140899</th>\n",
              "      <td>2111</td>\n",
              "      <td>2319</td>\n",
              "      <td>1969</td>\n",
              "      <td>7</td>\n",
              "      <td>6</td>\n",
              "    </tr>\n",
              "    <tr>\n",
              "      <th>140900</th>\n",
              "      <td>2110</td>\n",
              "      <td>2312</td>\n",
              "      <td>1972</td>\n",
              "      <td>0</td>\n",
              "      <td>6</td>\n",
              "    </tr>\n",
              "  </tbody>\n",
              "</table>\n",
              "<p>1926896 rows × 5 columns</p>\n",
              "</div>\n",
              "    <div class=\"colab-df-buttons\">\n",
              "\n",
              "  <div class=\"colab-df-container\">\n",
              "    <button class=\"colab-df-convert\" onclick=\"convertToInteractive('df-e34c0800-3d73-4338-8433-be1b1fd88082')\"\n",
              "            title=\"Convert this dataframe to an interactive table.\"\n",
              "            style=\"display:none;\">\n",
              "\n",
              "  <svg xmlns=\"http://www.w3.org/2000/svg\" height=\"24px\" viewBox=\"0 -960 960 960\">\n",
              "    <path d=\"M120-120v-720h720v720H120Zm60-500h600v-160H180v160Zm220 220h160v-160H400v160Zm0 220h160v-160H400v160ZM180-400h160v-160H180v160Zm440 0h160v-160H620v160ZM180-180h160v-160H180v160Zm440 0h160v-160H620v160Z\"/>\n",
              "  </svg>\n",
              "    </button>\n",
              "\n",
              "  <style>\n",
              "    .colab-df-container {\n",
              "      display:flex;\n",
              "      gap: 12px;\n",
              "    }\n",
              "\n",
              "    .colab-df-convert {\n",
              "      background-color: #E8F0FE;\n",
              "      border: none;\n",
              "      border-radius: 50%;\n",
              "      cursor: pointer;\n",
              "      display: none;\n",
              "      fill: #1967D2;\n",
              "      height: 32px;\n",
              "      padding: 0 0 0 0;\n",
              "      width: 32px;\n",
              "    }\n",
              "\n",
              "    .colab-df-convert:hover {\n",
              "      background-color: #E2EBFA;\n",
              "      box-shadow: 0px 1px 2px rgba(60, 64, 67, 0.3), 0px 1px 3px 1px rgba(60, 64, 67, 0.15);\n",
              "      fill: #174EA6;\n",
              "    }\n",
              "\n",
              "    .colab-df-buttons div {\n",
              "      margin-bottom: 4px;\n",
              "    }\n",
              "\n",
              "    [theme=dark] .colab-df-convert {\n",
              "      background-color: #3B4455;\n",
              "      fill: #D2E3FC;\n",
              "    }\n",
              "\n",
              "    [theme=dark] .colab-df-convert:hover {\n",
              "      background-color: #434B5C;\n",
              "      box-shadow: 0px 1px 3px 1px rgba(0, 0, 0, 0.15);\n",
              "      filter: drop-shadow(0px 1px 2px rgba(0, 0, 0, 0.3));\n",
              "      fill: #FFFFFF;\n",
              "    }\n",
              "  </style>\n",
              "\n",
              "    <script>\n",
              "      const buttonEl =\n",
              "        document.querySelector('#df-e34c0800-3d73-4338-8433-be1b1fd88082 button.colab-df-convert');\n",
              "      buttonEl.style.display =\n",
              "        google.colab.kernel.accessAllowed ? 'block' : 'none';\n",
              "\n",
              "      async function convertToInteractive(key) {\n",
              "        const element = document.querySelector('#df-e34c0800-3d73-4338-8433-be1b1fd88082');\n",
              "        const dataTable =\n",
              "          await google.colab.kernel.invokeFunction('convertToInteractive',\n",
              "                                                    [key], {});\n",
              "        if (!dataTable) return;\n",
              "\n",
              "        const docLinkHtml = 'Like what you see? Visit the ' +\n",
              "          '<a target=\"_blank\" href=https://colab.research.google.com/notebooks/data_table.ipynb>data table notebook</a>'\n",
              "          + ' to learn more about interactive tables.';\n",
              "        element.innerHTML = '';\n",
              "        dataTable['output_type'] = 'display_data';\n",
              "        await google.colab.output.renderOutput(dataTable, element);\n",
              "        const docLink = document.createElement('div');\n",
              "        docLink.innerHTML = docLinkHtml;\n",
              "        element.appendChild(docLink);\n",
              "      }\n",
              "    </script>\n",
              "  </div>\n",
              "\n",
              "\n",
              "<div id=\"df-6018a853-c81e-4a2c-a3f2-918a2b9abc5a\">\n",
              "  <button class=\"colab-df-quickchart\" onclick=\"quickchart('df-6018a853-c81e-4a2c-a3f2-918a2b9abc5a')\"\n",
              "            title=\"Suggest charts.\"\n",
              "            style=\"display:none;\">\n",
              "\n",
              "<svg xmlns=\"http://www.w3.org/2000/svg\" height=\"24px\"viewBox=\"0 0 24 24\"\n",
              "     width=\"24px\">\n",
              "    <g>\n",
              "        <path d=\"M19 3H5c-1.1 0-2 .9-2 2v14c0 1.1.9 2 2 2h14c1.1 0 2-.9 2-2V5c0-1.1-.9-2-2-2zM9 17H7v-7h2v7zm4 0h-2V7h2v10zm4 0h-2v-4h2v4z\"/>\n",
              "    </g>\n",
              "</svg>\n",
              "  </button>\n",
              "\n",
              "<style>\n",
              "  .colab-df-quickchart {\n",
              "      --bg-color: #E8F0FE;\n",
              "      --fill-color: #1967D2;\n",
              "      --hover-bg-color: #E2EBFA;\n",
              "      --hover-fill-color: #174EA6;\n",
              "      --disabled-fill-color: #AAA;\n",
              "      --disabled-bg-color: #DDD;\n",
              "  }\n",
              "\n",
              "  [theme=dark] .colab-df-quickchart {\n",
              "      --bg-color: #3B4455;\n",
              "      --fill-color: #D2E3FC;\n",
              "      --hover-bg-color: #434B5C;\n",
              "      --hover-fill-color: #FFFFFF;\n",
              "      --disabled-bg-color: #3B4455;\n",
              "      --disabled-fill-color: #666;\n",
              "  }\n",
              "\n",
              "  .colab-df-quickchart {\n",
              "    background-color: var(--bg-color);\n",
              "    border: none;\n",
              "    border-radius: 50%;\n",
              "    cursor: pointer;\n",
              "    display: none;\n",
              "    fill: var(--fill-color);\n",
              "    height: 32px;\n",
              "    padding: 0;\n",
              "    width: 32px;\n",
              "  }\n",
              "\n",
              "  .colab-df-quickchart:hover {\n",
              "    background-color: var(--hover-bg-color);\n",
              "    box-shadow: 0 1px 2px rgba(60, 64, 67, 0.3), 0 1px 3px 1px rgba(60, 64, 67, 0.15);\n",
              "    fill: var(--button-hover-fill-color);\n",
              "  }\n",
              "\n",
              "  .colab-df-quickchart-complete:disabled,\n",
              "  .colab-df-quickchart-complete:disabled:hover {\n",
              "    background-color: var(--disabled-bg-color);\n",
              "    fill: var(--disabled-fill-color);\n",
              "    box-shadow: none;\n",
              "  }\n",
              "\n",
              "  .colab-df-spinner {\n",
              "    border: 2px solid var(--fill-color);\n",
              "    border-color: transparent;\n",
              "    border-bottom-color: var(--fill-color);\n",
              "    animation:\n",
              "      spin 1s steps(1) infinite;\n",
              "  }\n",
              "\n",
              "  @keyframes spin {\n",
              "    0% {\n",
              "      border-color: transparent;\n",
              "      border-bottom-color: var(--fill-color);\n",
              "      border-left-color: var(--fill-color);\n",
              "    }\n",
              "    20% {\n",
              "      border-color: transparent;\n",
              "      border-left-color: var(--fill-color);\n",
              "      border-top-color: var(--fill-color);\n",
              "    }\n",
              "    30% {\n",
              "      border-color: transparent;\n",
              "      border-left-color: var(--fill-color);\n",
              "      border-top-color: var(--fill-color);\n",
              "      border-right-color: var(--fill-color);\n",
              "    }\n",
              "    40% {\n",
              "      border-color: transparent;\n",
              "      border-right-color: var(--fill-color);\n",
              "      border-top-color: var(--fill-color);\n",
              "    }\n",
              "    60% {\n",
              "      border-color: transparent;\n",
              "      border-right-color: var(--fill-color);\n",
              "    }\n",
              "    80% {\n",
              "      border-color: transparent;\n",
              "      border-right-color: var(--fill-color);\n",
              "      border-bottom-color: var(--fill-color);\n",
              "    }\n",
              "    90% {\n",
              "      border-color: transparent;\n",
              "      border-bottom-color: var(--fill-color);\n",
              "    }\n",
              "  }\n",
              "</style>\n",
              "\n",
              "  <script>\n",
              "    async function quickchart(key) {\n",
              "      const quickchartButtonEl =\n",
              "        document.querySelector('#' + key + ' button');\n",
              "      quickchartButtonEl.disabled = true;  // To prevent multiple clicks.\n",
              "      quickchartButtonEl.classList.add('colab-df-spinner');\n",
              "      try {\n",
              "        const charts = await google.colab.kernel.invokeFunction(\n",
              "            'suggestCharts', [key], {});\n",
              "      } catch (error) {\n",
              "        console.error('Error during call to suggestCharts:', error);\n",
              "      }\n",
              "      quickchartButtonEl.classList.remove('colab-df-spinner');\n",
              "      quickchartButtonEl.classList.add('colab-df-quickchart-complete');\n",
              "    }\n",
              "    (() => {\n",
              "      let quickchartButtonEl =\n",
              "        document.querySelector('#df-6018a853-c81e-4a2c-a3f2-918a2b9abc5a button');\n",
              "      quickchartButtonEl.style.display =\n",
              "        google.colab.kernel.accessAllowed ? 'block' : 'none';\n",
              "    })();\n",
              "  </script>\n",
              "</div>\n",
              "    </div>\n",
              "  </div>\n"
            ]
          },
          "metadata": {},
          "execution_count": 14
        }
      ],
      "source": [
        "data"
      ]
    },
    {
      "cell_type": "code",
      "execution_count": 15,
      "metadata": {
        "id": "tVNSbJgg1asN"
      },
      "outputs": [],
      "source": [
        "data.columns = ['x_acceleration','y_acceleration','z_acceleration','Label','User_id']"
      ]
    },
    {
      "cell_type": "code",
      "execution_count": 16,
      "metadata": {
        "id": "jSB9a3uB1vdy"
      },
      "outputs": [],
      "source": [
        "data.index = range(len(data))"
      ]
    },
    {
      "cell_type": "code",
      "execution_count": 17,
      "metadata": {
        "colab": {
          "base_uri": "https://localhost:8080/",
          "height": 423
        },
        "id": "h6zN8eqs2JEB",
        "outputId": "30079c34-3ca6-4f9c-b438-ae1c49d8e07e"
      },
      "outputs": [
        {
          "output_type": "execute_result",
          "data": {
            "text/plain": [
              "         User_id  x_acceleration  y_acceleration  z_acceleration  Label\n",
              "0             11            1983            2438            1825      1\n",
              "1             11            1948            2442            1797      1\n",
              "2             11            1927            2388            1784      1\n",
              "3             11            1960            2319            1831      1\n",
              "4             11            1967            2274            1871      1\n",
              "...          ...             ...             ...             ...    ...\n",
              "1926891        6            2098            2305            1982      7\n",
              "1926892        6            2106            2314            1980      7\n",
              "1926893        6            2112            2319            1973      7\n",
              "1926894        6            2111            2319            1969      7\n",
              "1926895        6            2110            2312            1972      0\n",
              "\n",
              "[1926896 rows x 5 columns]"
            ],
            "text/html": [
              "\n",
              "  <div id=\"df-2556518a-663c-4c81-bfcb-eb9d1dbb505b\" class=\"colab-df-container\">\n",
              "    <div>\n",
              "<style scoped>\n",
              "    .dataframe tbody tr th:only-of-type {\n",
              "        vertical-align: middle;\n",
              "    }\n",
              "\n",
              "    .dataframe tbody tr th {\n",
              "        vertical-align: top;\n",
              "    }\n",
              "\n",
              "    .dataframe thead th {\n",
              "        text-align: right;\n",
              "    }\n",
              "</style>\n",
              "<table border=\"1\" class=\"dataframe\">\n",
              "  <thead>\n",
              "    <tr style=\"text-align: right;\">\n",
              "      <th></th>\n",
              "      <th>User_id</th>\n",
              "      <th>x_acceleration</th>\n",
              "      <th>y_acceleration</th>\n",
              "      <th>z_acceleration</th>\n",
              "      <th>Label</th>\n",
              "    </tr>\n",
              "  </thead>\n",
              "  <tbody>\n",
              "    <tr>\n",
              "      <th>0</th>\n",
              "      <td>11</td>\n",
              "      <td>1983</td>\n",
              "      <td>2438</td>\n",
              "      <td>1825</td>\n",
              "      <td>1</td>\n",
              "    </tr>\n",
              "    <tr>\n",
              "      <th>1</th>\n",
              "      <td>11</td>\n",
              "      <td>1948</td>\n",
              "      <td>2442</td>\n",
              "      <td>1797</td>\n",
              "      <td>1</td>\n",
              "    </tr>\n",
              "    <tr>\n",
              "      <th>2</th>\n",
              "      <td>11</td>\n",
              "      <td>1927</td>\n",
              "      <td>2388</td>\n",
              "      <td>1784</td>\n",
              "      <td>1</td>\n",
              "    </tr>\n",
              "    <tr>\n",
              "      <th>3</th>\n",
              "      <td>11</td>\n",
              "      <td>1960</td>\n",
              "      <td>2319</td>\n",
              "      <td>1831</td>\n",
              "      <td>1</td>\n",
              "    </tr>\n",
              "    <tr>\n",
              "      <th>4</th>\n",
              "      <td>11</td>\n",
              "      <td>1967</td>\n",
              "      <td>2274</td>\n",
              "      <td>1871</td>\n",
              "      <td>1</td>\n",
              "    </tr>\n",
              "    <tr>\n",
              "      <th>...</th>\n",
              "      <td>...</td>\n",
              "      <td>...</td>\n",
              "      <td>...</td>\n",
              "      <td>...</td>\n",
              "      <td>...</td>\n",
              "    </tr>\n",
              "    <tr>\n",
              "      <th>1926891</th>\n",
              "      <td>6</td>\n",
              "      <td>2098</td>\n",
              "      <td>2305</td>\n",
              "      <td>1982</td>\n",
              "      <td>7</td>\n",
              "    </tr>\n",
              "    <tr>\n",
              "      <th>1926892</th>\n",
              "      <td>6</td>\n",
              "      <td>2106</td>\n",
              "      <td>2314</td>\n",
              "      <td>1980</td>\n",
              "      <td>7</td>\n",
              "    </tr>\n",
              "    <tr>\n",
              "      <th>1926893</th>\n",
              "      <td>6</td>\n",
              "      <td>2112</td>\n",
              "      <td>2319</td>\n",
              "      <td>1973</td>\n",
              "      <td>7</td>\n",
              "    </tr>\n",
              "    <tr>\n",
              "      <th>1926894</th>\n",
              "      <td>6</td>\n",
              "      <td>2111</td>\n",
              "      <td>2319</td>\n",
              "      <td>1969</td>\n",
              "      <td>7</td>\n",
              "    </tr>\n",
              "    <tr>\n",
              "      <th>1926895</th>\n",
              "      <td>6</td>\n",
              "      <td>2110</td>\n",
              "      <td>2312</td>\n",
              "      <td>1972</td>\n",
              "      <td>0</td>\n",
              "    </tr>\n",
              "  </tbody>\n",
              "</table>\n",
              "<p>1926896 rows × 5 columns</p>\n",
              "</div>\n",
              "    <div class=\"colab-df-buttons\">\n",
              "\n",
              "  <div class=\"colab-df-container\">\n",
              "    <button class=\"colab-df-convert\" onclick=\"convertToInteractive('df-2556518a-663c-4c81-bfcb-eb9d1dbb505b')\"\n",
              "            title=\"Convert this dataframe to an interactive table.\"\n",
              "            style=\"display:none;\">\n",
              "\n",
              "  <svg xmlns=\"http://www.w3.org/2000/svg\" height=\"24px\" viewBox=\"0 -960 960 960\">\n",
              "    <path d=\"M120-120v-720h720v720H120Zm60-500h600v-160H180v160Zm220 220h160v-160H400v160Zm0 220h160v-160H400v160ZM180-400h160v-160H180v160Zm440 0h160v-160H620v160ZM180-180h160v-160H180v160Zm440 0h160v-160H620v160Z\"/>\n",
              "  </svg>\n",
              "    </button>\n",
              "\n",
              "  <style>\n",
              "    .colab-df-container {\n",
              "      display:flex;\n",
              "      gap: 12px;\n",
              "    }\n",
              "\n",
              "    .colab-df-convert {\n",
              "      background-color: #E8F0FE;\n",
              "      border: none;\n",
              "      border-radius: 50%;\n",
              "      cursor: pointer;\n",
              "      display: none;\n",
              "      fill: #1967D2;\n",
              "      height: 32px;\n",
              "      padding: 0 0 0 0;\n",
              "      width: 32px;\n",
              "    }\n",
              "\n",
              "    .colab-df-convert:hover {\n",
              "      background-color: #E2EBFA;\n",
              "      box-shadow: 0px 1px 2px rgba(60, 64, 67, 0.3), 0px 1px 3px 1px rgba(60, 64, 67, 0.15);\n",
              "      fill: #174EA6;\n",
              "    }\n",
              "\n",
              "    .colab-df-buttons div {\n",
              "      margin-bottom: 4px;\n",
              "    }\n",
              "\n",
              "    [theme=dark] .colab-df-convert {\n",
              "      background-color: #3B4455;\n",
              "      fill: #D2E3FC;\n",
              "    }\n",
              "\n",
              "    [theme=dark] .colab-df-convert:hover {\n",
              "      background-color: #434B5C;\n",
              "      box-shadow: 0px 1px 3px 1px rgba(0, 0, 0, 0.15);\n",
              "      filter: drop-shadow(0px 1px 2px rgba(0, 0, 0, 0.3));\n",
              "      fill: #FFFFFF;\n",
              "    }\n",
              "  </style>\n",
              "\n",
              "    <script>\n",
              "      const buttonEl =\n",
              "        document.querySelector('#df-2556518a-663c-4c81-bfcb-eb9d1dbb505b button.colab-df-convert');\n",
              "      buttonEl.style.display =\n",
              "        google.colab.kernel.accessAllowed ? 'block' : 'none';\n",
              "\n",
              "      async function convertToInteractive(key) {\n",
              "        const element = document.querySelector('#df-2556518a-663c-4c81-bfcb-eb9d1dbb505b');\n",
              "        const dataTable =\n",
              "          await google.colab.kernel.invokeFunction('convertToInteractive',\n",
              "                                                    [key], {});\n",
              "        if (!dataTable) return;\n",
              "\n",
              "        const docLinkHtml = 'Like what you see? Visit the ' +\n",
              "          '<a target=\"_blank\" href=https://colab.research.google.com/notebooks/data_table.ipynb>data table notebook</a>'\n",
              "          + ' to learn more about interactive tables.';\n",
              "        element.innerHTML = '';\n",
              "        dataTable['output_type'] = 'display_data';\n",
              "        await google.colab.output.renderOutput(dataTable, element);\n",
              "        const docLink = document.createElement('div');\n",
              "        docLink.innerHTML = docLinkHtml;\n",
              "        element.appendChild(docLink);\n",
              "      }\n",
              "    </script>\n",
              "  </div>\n",
              "\n",
              "\n",
              "<div id=\"df-bb94c4b7-a51e-481d-8396-ada00dd3163d\">\n",
              "  <button class=\"colab-df-quickchart\" onclick=\"quickchart('df-bb94c4b7-a51e-481d-8396-ada00dd3163d')\"\n",
              "            title=\"Suggest charts.\"\n",
              "            style=\"display:none;\">\n",
              "\n",
              "<svg xmlns=\"http://www.w3.org/2000/svg\" height=\"24px\"viewBox=\"0 0 24 24\"\n",
              "     width=\"24px\">\n",
              "    <g>\n",
              "        <path d=\"M19 3H5c-1.1 0-2 .9-2 2v14c0 1.1.9 2 2 2h14c1.1 0 2-.9 2-2V5c0-1.1-.9-2-2-2zM9 17H7v-7h2v7zm4 0h-2V7h2v10zm4 0h-2v-4h2v4z\"/>\n",
              "    </g>\n",
              "</svg>\n",
              "  </button>\n",
              "\n",
              "<style>\n",
              "  .colab-df-quickchart {\n",
              "      --bg-color: #E8F0FE;\n",
              "      --fill-color: #1967D2;\n",
              "      --hover-bg-color: #E2EBFA;\n",
              "      --hover-fill-color: #174EA6;\n",
              "      --disabled-fill-color: #AAA;\n",
              "      --disabled-bg-color: #DDD;\n",
              "  }\n",
              "\n",
              "  [theme=dark] .colab-df-quickchart {\n",
              "      --bg-color: #3B4455;\n",
              "      --fill-color: #D2E3FC;\n",
              "      --hover-bg-color: #434B5C;\n",
              "      --hover-fill-color: #FFFFFF;\n",
              "      --disabled-bg-color: #3B4455;\n",
              "      --disabled-fill-color: #666;\n",
              "  }\n",
              "\n",
              "  .colab-df-quickchart {\n",
              "    background-color: var(--bg-color);\n",
              "    border: none;\n",
              "    border-radius: 50%;\n",
              "    cursor: pointer;\n",
              "    display: none;\n",
              "    fill: var(--fill-color);\n",
              "    height: 32px;\n",
              "    padding: 0;\n",
              "    width: 32px;\n",
              "  }\n",
              "\n",
              "  .colab-df-quickchart:hover {\n",
              "    background-color: var(--hover-bg-color);\n",
              "    box-shadow: 0 1px 2px rgba(60, 64, 67, 0.3), 0 1px 3px 1px rgba(60, 64, 67, 0.15);\n",
              "    fill: var(--button-hover-fill-color);\n",
              "  }\n",
              "\n",
              "  .colab-df-quickchart-complete:disabled,\n",
              "  .colab-df-quickchart-complete:disabled:hover {\n",
              "    background-color: var(--disabled-bg-color);\n",
              "    fill: var(--disabled-fill-color);\n",
              "    box-shadow: none;\n",
              "  }\n",
              "\n",
              "  .colab-df-spinner {\n",
              "    border: 2px solid var(--fill-color);\n",
              "    border-color: transparent;\n",
              "    border-bottom-color: var(--fill-color);\n",
              "    animation:\n",
              "      spin 1s steps(1) infinite;\n",
              "  }\n",
              "\n",
              "  @keyframes spin {\n",
              "    0% {\n",
              "      border-color: transparent;\n",
              "      border-bottom-color: var(--fill-color);\n",
              "      border-left-color: var(--fill-color);\n",
              "    }\n",
              "    20% {\n",
              "      border-color: transparent;\n",
              "      border-left-color: var(--fill-color);\n",
              "      border-top-color: var(--fill-color);\n",
              "    }\n",
              "    30% {\n",
              "      border-color: transparent;\n",
              "      border-left-color: var(--fill-color);\n",
              "      border-top-color: var(--fill-color);\n",
              "      border-right-color: var(--fill-color);\n",
              "    }\n",
              "    40% {\n",
              "      border-color: transparent;\n",
              "      border-right-color: var(--fill-color);\n",
              "      border-top-color: var(--fill-color);\n",
              "    }\n",
              "    60% {\n",
              "      border-color: transparent;\n",
              "      border-right-color: var(--fill-color);\n",
              "    }\n",
              "    80% {\n",
              "      border-color: transparent;\n",
              "      border-right-color: var(--fill-color);\n",
              "      border-bottom-color: var(--fill-color);\n",
              "    }\n",
              "    90% {\n",
              "      border-color: transparent;\n",
              "      border-bottom-color: var(--fill-color);\n",
              "    }\n",
              "  }\n",
              "</style>\n",
              "\n",
              "  <script>\n",
              "    async function quickchart(key) {\n",
              "      const quickchartButtonEl =\n",
              "        document.querySelector('#' + key + ' button');\n",
              "      quickchartButtonEl.disabled = true;  // To prevent multiple clicks.\n",
              "      quickchartButtonEl.classList.add('colab-df-spinner');\n",
              "      try {\n",
              "        const charts = await google.colab.kernel.invokeFunction(\n",
              "            'suggestCharts', [key], {});\n",
              "      } catch (error) {\n",
              "        console.error('Error during call to suggestCharts:', error);\n",
              "      }\n",
              "      quickchartButtonEl.classList.remove('colab-df-spinner');\n",
              "      quickchartButtonEl.classList.add('colab-df-quickchart-complete');\n",
              "    }\n",
              "    (() => {\n",
              "      let quickchartButtonEl =\n",
              "        document.querySelector('#df-bb94c4b7-a51e-481d-8396-ada00dd3163d button');\n",
              "      quickchartButtonEl.style.display =\n",
              "        google.colab.kernel.accessAllowed ? 'block' : 'none';\n",
              "    })();\n",
              "  </script>\n",
              "</div>\n",
              "    </div>\n",
              "  </div>\n"
            ]
          },
          "metadata": {},
          "execution_count": 17
        }
      ],
      "source": [
        "data=data.reindex(columns=[\"User_id\",\"x_acceleration\",\"y_acceleration\",\"z_acceleration\",\"Label\"])\n",
        "data"
      ]
    },
    {
      "cell_type": "code",
      "execution_count": 18,
      "metadata": {
        "colab": {
          "base_uri": "https://localhost:8080/"
        },
        "id": "z_ZI2j002JvO",
        "outputId": "fa61d803-759f-40e0-da3a-b55119416ce6"
      },
      "outputs": [
        {
          "output_type": "execute_result",
          "data": {
            "text/plain": [
              "1     162501\n",
              "2     138001\n",
              "3     102341\n",
              "4     122201\n",
              "5     160001\n",
              "6     140901\n",
              "7     163001\n",
              "8     138001\n",
              "9     166741\n",
              "10    126801\n",
              "11    104451\n",
              "12    114702\n",
              "13     67651\n",
              "14    116101\n",
              "15    103501\n",
              "Name: User_id, dtype: int64"
            ]
          },
          "metadata": {},
          "execution_count": 18
        }
      ],
      "source": [
        "data.User_id.value_counts().sort_index()"
      ]
    },
    {
      "cell_type": "code",
      "execution_count": 19,
      "metadata": {
        "colab": {
          "base_uri": "https://localhost:8080/"
        },
        "id": "3SgfjjBT2cpq",
        "outputId": "612cddff-9422-4677-e477-aa8e008b573e"
      },
      "outputs": [
        {
          "output_type": "execute_result",
          "data": {
            "text/plain": [
              "User_id           0\n",
              "x_acceleration    0\n",
              "y_acceleration    0\n",
              "z_acceleration    0\n",
              "Label             0\n",
              "dtype: int64"
            ]
          },
          "metadata": {},
          "execution_count": 19
        }
      ],
      "source": [
        "data.isnull().sum()"
      ]
    },
    {
      "cell_type": "code",
      "execution_count": 20,
      "metadata": {
        "colab": {
          "base_uri": "https://localhost:8080/",
          "height": 300
        },
        "id": "0URHQIMB2giR",
        "outputId": "55ecb8a4-d830-479d-ee4a-48acb9a017f5"
      },
      "outputs": [
        {
          "output_type": "execute_result",
          "data": {
            "text/plain": [
              "            User_id  x_acceleration  y_acceleration  z_acceleration  \\\n",
              "count  1.926896e+06    1.926896e+06    1.926896e+06    1.926896e+06   \n",
              "mean   7.512711e+00    1.987652e+03    2.382523e+03    1.970596e+03   \n",
              "std    4.172396e+00    1.113578e+02    1.003151e+02    9.445893e+01   \n",
              "min    1.000000e+00    2.820000e+02    2.000000e+00    1.000000e+00   \n",
              "25%    4.000000e+00    1.904000e+03    2.337000e+03    1.918000e+03   \n",
              "50%    7.000000e+00    1.992000e+03    2.367000e+03    1.988000e+03   \n",
              "75%    1.100000e+01    2.076000e+03    2.413000e+03    2.032000e+03   \n",
              "max    1.500000e+01    3.828000e+03    4.095000e+03    4.095000e+03   \n",
              "\n",
              "              Label  \n",
              "count  1.926896e+06  \n",
              "mean   3.882898e+00  \n",
              "std    2.443402e+00  \n",
              "min    0.000000e+00  \n",
              "25%    1.000000e+00  \n",
              "50%    4.000000e+00  \n",
              "75%    7.000000e+00  \n",
              "max    7.000000e+00  "
            ],
            "text/html": [
              "\n",
              "  <div id=\"df-dff711e6-0594-4a45-bd31-0b21e17c5e2c\" class=\"colab-df-container\">\n",
              "    <div>\n",
              "<style scoped>\n",
              "    .dataframe tbody tr th:only-of-type {\n",
              "        vertical-align: middle;\n",
              "    }\n",
              "\n",
              "    .dataframe tbody tr th {\n",
              "        vertical-align: top;\n",
              "    }\n",
              "\n",
              "    .dataframe thead th {\n",
              "        text-align: right;\n",
              "    }\n",
              "</style>\n",
              "<table border=\"1\" class=\"dataframe\">\n",
              "  <thead>\n",
              "    <tr style=\"text-align: right;\">\n",
              "      <th></th>\n",
              "      <th>User_id</th>\n",
              "      <th>x_acceleration</th>\n",
              "      <th>y_acceleration</th>\n",
              "      <th>z_acceleration</th>\n",
              "      <th>Label</th>\n",
              "    </tr>\n",
              "  </thead>\n",
              "  <tbody>\n",
              "    <tr>\n",
              "      <th>count</th>\n",
              "      <td>1.926896e+06</td>\n",
              "      <td>1.926896e+06</td>\n",
              "      <td>1.926896e+06</td>\n",
              "      <td>1.926896e+06</td>\n",
              "      <td>1.926896e+06</td>\n",
              "    </tr>\n",
              "    <tr>\n",
              "      <th>mean</th>\n",
              "      <td>7.512711e+00</td>\n",
              "      <td>1.987652e+03</td>\n",
              "      <td>2.382523e+03</td>\n",
              "      <td>1.970596e+03</td>\n",
              "      <td>3.882898e+00</td>\n",
              "    </tr>\n",
              "    <tr>\n",
              "      <th>std</th>\n",
              "      <td>4.172396e+00</td>\n",
              "      <td>1.113578e+02</td>\n",
              "      <td>1.003151e+02</td>\n",
              "      <td>9.445893e+01</td>\n",
              "      <td>2.443402e+00</td>\n",
              "    </tr>\n",
              "    <tr>\n",
              "      <th>min</th>\n",
              "      <td>1.000000e+00</td>\n",
              "      <td>2.820000e+02</td>\n",
              "      <td>2.000000e+00</td>\n",
              "      <td>1.000000e+00</td>\n",
              "      <td>0.000000e+00</td>\n",
              "    </tr>\n",
              "    <tr>\n",
              "      <th>25%</th>\n",
              "      <td>4.000000e+00</td>\n",
              "      <td>1.904000e+03</td>\n",
              "      <td>2.337000e+03</td>\n",
              "      <td>1.918000e+03</td>\n",
              "      <td>1.000000e+00</td>\n",
              "    </tr>\n",
              "    <tr>\n",
              "      <th>50%</th>\n",
              "      <td>7.000000e+00</td>\n",
              "      <td>1.992000e+03</td>\n",
              "      <td>2.367000e+03</td>\n",
              "      <td>1.988000e+03</td>\n",
              "      <td>4.000000e+00</td>\n",
              "    </tr>\n",
              "    <tr>\n",
              "      <th>75%</th>\n",
              "      <td>1.100000e+01</td>\n",
              "      <td>2.076000e+03</td>\n",
              "      <td>2.413000e+03</td>\n",
              "      <td>2.032000e+03</td>\n",
              "      <td>7.000000e+00</td>\n",
              "    </tr>\n",
              "    <tr>\n",
              "      <th>max</th>\n",
              "      <td>1.500000e+01</td>\n",
              "      <td>3.828000e+03</td>\n",
              "      <td>4.095000e+03</td>\n",
              "      <td>4.095000e+03</td>\n",
              "      <td>7.000000e+00</td>\n",
              "    </tr>\n",
              "  </tbody>\n",
              "</table>\n",
              "</div>\n",
              "    <div class=\"colab-df-buttons\">\n",
              "\n",
              "  <div class=\"colab-df-container\">\n",
              "    <button class=\"colab-df-convert\" onclick=\"convertToInteractive('df-dff711e6-0594-4a45-bd31-0b21e17c5e2c')\"\n",
              "            title=\"Convert this dataframe to an interactive table.\"\n",
              "            style=\"display:none;\">\n",
              "\n",
              "  <svg xmlns=\"http://www.w3.org/2000/svg\" height=\"24px\" viewBox=\"0 -960 960 960\">\n",
              "    <path d=\"M120-120v-720h720v720H120Zm60-500h600v-160H180v160Zm220 220h160v-160H400v160Zm0 220h160v-160H400v160ZM180-400h160v-160H180v160Zm440 0h160v-160H620v160ZM180-180h160v-160H180v160Zm440 0h160v-160H620v160Z\"/>\n",
              "  </svg>\n",
              "    </button>\n",
              "\n",
              "  <style>\n",
              "    .colab-df-container {\n",
              "      display:flex;\n",
              "      gap: 12px;\n",
              "    }\n",
              "\n",
              "    .colab-df-convert {\n",
              "      background-color: #E8F0FE;\n",
              "      border: none;\n",
              "      border-radius: 50%;\n",
              "      cursor: pointer;\n",
              "      display: none;\n",
              "      fill: #1967D2;\n",
              "      height: 32px;\n",
              "      padding: 0 0 0 0;\n",
              "      width: 32px;\n",
              "    }\n",
              "\n",
              "    .colab-df-convert:hover {\n",
              "      background-color: #E2EBFA;\n",
              "      box-shadow: 0px 1px 2px rgba(60, 64, 67, 0.3), 0px 1px 3px 1px rgba(60, 64, 67, 0.15);\n",
              "      fill: #174EA6;\n",
              "    }\n",
              "\n",
              "    .colab-df-buttons div {\n",
              "      margin-bottom: 4px;\n",
              "    }\n",
              "\n",
              "    [theme=dark] .colab-df-convert {\n",
              "      background-color: #3B4455;\n",
              "      fill: #D2E3FC;\n",
              "    }\n",
              "\n",
              "    [theme=dark] .colab-df-convert:hover {\n",
              "      background-color: #434B5C;\n",
              "      box-shadow: 0px 1px 3px 1px rgba(0, 0, 0, 0.15);\n",
              "      filter: drop-shadow(0px 1px 2px rgba(0, 0, 0, 0.3));\n",
              "      fill: #FFFFFF;\n",
              "    }\n",
              "  </style>\n",
              "\n",
              "    <script>\n",
              "      const buttonEl =\n",
              "        document.querySelector('#df-dff711e6-0594-4a45-bd31-0b21e17c5e2c button.colab-df-convert');\n",
              "      buttonEl.style.display =\n",
              "        google.colab.kernel.accessAllowed ? 'block' : 'none';\n",
              "\n",
              "      async function convertToInteractive(key) {\n",
              "        const element = document.querySelector('#df-dff711e6-0594-4a45-bd31-0b21e17c5e2c');\n",
              "        const dataTable =\n",
              "          await google.colab.kernel.invokeFunction('convertToInteractive',\n",
              "                                                    [key], {});\n",
              "        if (!dataTable) return;\n",
              "\n",
              "        const docLinkHtml = 'Like what you see? Visit the ' +\n",
              "          '<a target=\"_blank\" href=https://colab.research.google.com/notebooks/data_table.ipynb>data table notebook</a>'\n",
              "          + ' to learn more about interactive tables.';\n",
              "        element.innerHTML = '';\n",
              "        dataTable['output_type'] = 'display_data';\n",
              "        await google.colab.output.renderOutput(dataTable, element);\n",
              "        const docLink = document.createElement('div');\n",
              "        docLink.innerHTML = docLinkHtml;\n",
              "        element.appendChild(docLink);\n",
              "      }\n",
              "    </script>\n",
              "  </div>\n",
              "\n",
              "\n",
              "<div id=\"df-e9f4bc0f-a083-4d22-af78-df602c7ef554\">\n",
              "  <button class=\"colab-df-quickchart\" onclick=\"quickchart('df-e9f4bc0f-a083-4d22-af78-df602c7ef554')\"\n",
              "            title=\"Suggest charts.\"\n",
              "            style=\"display:none;\">\n",
              "\n",
              "<svg xmlns=\"http://www.w3.org/2000/svg\" height=\"24px\"viewBox=\"0 0 24 24\"\n",
              "     width=\"24px\">\n",
              "    <g>\n",
              "        <path d=\"M19 3H5c-1.1 0-2 .9-2 2v14c0 1.1.9 2 2 2h14c1.1 0 2-.9 2-2V5c0-1.1-.9-2-2-2zM9 17H7v-7h2v7zm4 0h-2V7h2v10zm4 0h-2v-4h2v4z\"/>\n",
              "    </g>\n",
              "</svg>\n",
              "  </button>\n",
              "\n",
              "<style>\n",
              "  .colab-df-quickchart {\n",
              "      --bg-color: #E8F0FE;\n",
              "      --fill-color: #1967D2;\n",
              "      --hover-bg-color: #E2EBFA;\n",
              "      --hover-fill-color: #174EA6;\n",
              "      --disabled-fill-color: #AAA;\n",
              "      --disabled-bg-color: #DDD;\n",
              "  }\n",
              "\n",
              "  [theme=dark] .colab-df-quickchart {\n",
              "      --bg-color: #3B4455;\n",
              "      --fill-color: #D2E3FC;\n",
              "      --hover-bg-color: #434B5C;\n",
              "      --hover-fill-color: #FFFFFF;\n",
              "      --disabled-bg-color: #3B4455;\n",
              "      --disabled-fill-color: #666;\n",
              "  }\n",
              "\n",
              "  .colab-df-quickchart {\n",
              "    background-color: var(--bg-color);\n",
              "    border: none;\n",
              "    border-radius: 50%;\n",
              "    cursor: pointer;\n",
              "    display: none;\n",
              "    fill: var(--fill-color);\n",
              "    height: 32px;\n",
              "    padding: 0;\n",
              "    width: 32px;\n",
              "  }\n",
              "\n",
              "  .colab-df-quickchart:hover {\n",
              "    background-color: var(--hover-bg-color);\n",
              "    box-shadow: 0 1px 2px rgba(60, 64, 67, 0.3), 0 1px 3px 1px rgba(60, 64, 67, 0.15);\n",
              "    fill: var(--button-hover-fill-color);\n",
              "  }\n",
              "\n",
              "  .colab-df-quickchart-complete:disabled,\n",
              "  .colab-df-quickchart-complete:disabled:hover {\n",
              "    background-color: var(--disabled-bg-color);\n",
              "    fill: var(--disabled-fill-color);\n",
              "    box-shadow: none;\n",
              "  }\n",
              "\n",
              "  .colab-df-spinner {\n",
              "    border: 2px solid var(--fill-color);\n",
              "    border-color: transparent;\n",
              "    border-bottom-color: var(--fill-color);\n",
              "    animation:\n",
              "      spin 1s steps(1) infinite;\n",
              "  }\n",
              "\n",
              "  @keyframes spin {\n",
              "    0% {\n",
              "      border-color: transparent;\n",
              "      border-bottom-color: var(--fill-color);\n",
              "      border-left-color: var(--fill-color);\n",
              "    }\n",
              "    20% {\n",
              "      border-color: transparent;\n",
              "      border-left-color: var(--fill-color);\n",
              "      border-top-color: var(--fill-color);\n",
              "    }\n",
              "    30% {\n",
              "      border-color: transparent;\n",
              "      border-left-color: var(--fill-color);\n",
              "      border-top-color: var(--fill-color);\n",
              "      border-right-color: var(--fill-color);\n",
              "    }\n",
              "    40% {\n",
              "      border-color: transparent;\n",
              "      border-right-color: var(--fill-color);\n",
              "      border-top-color: var(--fill-color);\n",
              "    }\n",
              "    60% {\n",
              "      border-color: transparent;\n",
              "      border-right-color: var(--fill-color);\n",
              "    }\n",
              "    80% {\n",
              "      border-color: transparent;\n",
              "      border-right-color: var(--fill-color);\n",
              "      border-bottom-color: var(--fill-color);\n",
              "    }\n",
              "    90% {\n",
              "      border-color: transparent;\n",
              "      border-bottom-color: var(--fill-color);\n",
              "    }\n",
              "  }\n",
              "</style>\n",
              "\n",
              "  <script>\n",
              "    async function quickchart(key) {\n",
              "      const quickchartButtonEl =\n",
              "        document.querySelector('#' + key + ' button');\n",
              "      quickchartButtonEl.disabled = true;  // To prevent multiple clicks.\n",
              "      quickchartButtonEl.classList.add('colab-df-spinner');\n",
              "      try {\n",
              "        const charts = await google.colab.kernel.invokeFunction(\n",
              "            'suggestCharts', [key], {});\n",
              "      } catch (error) {\n",
              "        console.error('Error during call to suggestCharts:', error);\n",
              "      }\n",
              "      quickchartButtonEl.classList.remove('colab-df-spinner');\n",
              "      quickchartButtonEl.classList.add('colab-df-quickchart-complete');\n",
              "    }\n",
              "    (() => {\n",
              "      let quickchartButtonEl =\n",
              "        document.querySelector('#df-e9f4bc0f-a083-4d22-af78-df602c7ef554 button');\n",
              "      quickchartButtonEl.style.display =\n",
              "        google.colab.kernel.accessAllowed ? 'block' : 'none';\n",
              "    })();\n",
              "  </script>\n",
              "</div>\n",
              "    </div>\n",
              "  </div>\n"
            ]
          },
          "metadata": {},
          "execution_count": 20
        }
      ],
      "source": [
        "data.describe()"
      ]
    },
    {
      "cell_type": "code",
      "execution_count": 21,
      "metadata": {
        "id": "lD4JARVV3tYF"
      },
      "outputs": [],
      "source": [
        "data.drop(list(data[data.Label==0].index),axis=0,inplace=True)\n",
        "data.set_axis(range(len(data)),axis=0,inplace=True)\n",
        "A_x=np.square(data['x_acceleration'])\n",
        "A_y=np.square(data['y_acceleration'])\n",
        "A_z=np.square(data['z_acceleration'])\n",
        "A_m=np.sqrt(A_x + A_y + A_z)\n",
        "data[\"mag_acceleration\"]=A_m\n",
        "data=data.reindex([\"User_id\",\"x_acceleration\",\"y_acceleration\",\"z_acceleration\",\"mag_acceleration\",\"Label\"],axis=1)"
      ]
    },
    {
      "cell_type": "markdown",
      "metadata": {
        "id": "tasp1qNG2l9z"
      },
      "source": [
        "EDA"
      ]
    },
    {
      "cell_type": "code",
      "execution_count": 22,
      "metadata": {
        "colab": {
          "base_uri": "https://localhost:8080/"
        },
        "id": "K_Qx3xQ52jwl",
        "outputId": "08d9c224-7c5f-4760-e7a9-cbe01783bb58"
      },
      "outputs": [
        {
          "output_type": "execute_result",
          "data": {
            "text/plain": [
              "User_id            -0.168296\n",
              "z_acceleration      0.035025\n",
              "y_acceleration      0.048724\n",
              "mag_acceleration    0.074253\n",
              "x_acceleration      0.077737\n",
              "Label               1.000000\n",
              "Name: Label, dtype: float64"
            ]
          },
          "metadata": {},
          "execution_count": 22
        }
      ],
      "source": [
        "data.corr().Label.sort_values()"
      ]
    },
    {
      "cell_type": "code",
      "execution_count": 23,
      "metadata": {
        "colab": {
          "base_uri": "https://localhost:8080/",
          "height": 574
        },
        "id": "SKu7lXJP3AbT",
        "outputId": "3e09337e-8caa-4a7e-81cd-b0450d54c289"
      },
      "outputs": [
        {
          "output_type": "execute_result",
          "data": {
            "text/plain": [
              "<Axes: >"
            ]
          },
          "metadata": {},
          "execution_count": 23
        },
        {
          "output_type": "display_data",
          "data": {
            "text/plain": [
              "<Figure size 640x480 with 2 Axes>"
            ],
            "image/png": "[encoded data removed]"
          },
          "metadata": {}
        }
      ],
      "source": [
        "mask = np.triu(np.ones_like(data.corr(), dtype=bool))\n",
        "sns.heatmap(data.corr(), mask=mask,annot=True)"
      ]
    },
    {
      "cell_type": "markdown",
      "metadata": {
        "id": "HBY8bdUa5Lfe"
      },
      "source": [
        "Model Selection"
      ]
    },
    {
      "cell_type": "code",
      "execution_count": 23,
      "metadata": {
        "id": "YwPzLoCNY5PW"
      },
      "outputs": [],
      "source": [
        "x=data.iloc[:,:-1]\n",
        "y=data.iloc[:,-1:]"
      ]
    },
    {
      "cell_type": "code",
      "execution_count": 24,
      "metadata": {
        "id": "0ba7Ivwgal3z"
      },
      "outputs": [],
      "source": [
        "train_x,test_x,train_y,test_y=train_test_split(x,y,test_size=0.3,random_state=117)\n",
        "sc=StandardScaler()\n",
        "train_x=sc.fit_transform(train_x)\n",
        "test_x=sc.transform(test_x)"
      ]
    },
    {
      "cell_type": "markdown",
      "metadata": {
        "id": "U6onsSz7a73P"
      },
      "source": [
        "Searching for the optimal value of K"
      ]
    },
    {
      "cell_type": "code",
      "execution_count": 25,
      "metadata": {
        "id": "QujzD2FmayHF"
      },
      "outputs": [],
      "source": [
        "non_y=[]\n",
        "for i in range(1,10):\n",
        "    knn=KNeighborsClassifier(n_neighbors=i,p=2)\n",
        "    knn.fit(train_x,train_y)\n",
        "    optimal_y=knn.predict(test_x)\n",
        "    optimal_y=optimal_y.reshape(len(optimal_y),1)\n",
        "    non_y.append(np.mean(optimal_y!=test_y))"
      ]
    },
    {
      "cell_type": "code",
      "execution_count": 26,
      "metadata": {
        "id": "964BgnHkbWgC",
        "colab": {
          "base_uri": "https://localhost:8080/",
          "height": 417
        },
        "outputId": "451544c0-2e4c-4e5b-af75-d2bb654c1a96"
      },
      "outputs": [
        {
          "output_type": "display_data",
          "data": {
            "text/plain": [
              "<Figure size 1000x400 with 1 Axes>"
            ],
            "image/png": "[encoded data removed]"
          },
          "metadata": {}
        }
      ],
      "source": [
        "fig=plt.gcf()\n",
        "fig.set_size_inches((10,4))\n",
        "plt.plot(range(1,len(non_y)+1),non_y,\"-ok\")\n",
        "plt.title(\"To find Optimal value of K\",fontsize=15)\n",
        "plt.xlabel(\"K\",fontsize=10)\n",
        "plt.ylabel(\"Error\",fontsize=10)\n",
        "plt.show()"
      ]
    },
    {
      "cell_type": "markdown",
      "metadata": {
        "id": "ZQtLIH3pbnXT"
      },
      "source": [
        "Model Pipeline"
      ]
    },
    {
      "cell_type": "code",
      "execution_count": 27,
      "metadata": {
        "id": "QF2LzsLUbpCG",
        "colab": {
          "base_uri": "https://localhost:8080/"
        },
        "outputId": "68d12019-833a-43f5-b2ac-a356ad40ba0c"
      },
      "outputs": [
        {
          "output_type": "stream",
          "name": "stdout",
          "text": [
            "Showing results for knn classifier :- \n",
            "For Training Set :-\n",
            "Accuracy_Score = 0.8307457234054091\n",
            "For Testing Set :-\n",
            "Accuracy_Score = 0.7944636834132357\n",
            "\n",
            "Showing results for random_forest classifier :- \n",
            "For Training Set :-\n",
            "Accuracy_Score = 0.9716451137738695\n",
            "For Testing Set :-\n",
            "Accuracy_Score = 0.7890906380751325\n",
            "\n",
            "Showing results for decision_tree classifier :- \n",
            "For Training Set :-\n",
            "Accuracy_Score = 0.9717602507162632\n",
            "For Testing Set :-\n",
            "Accuracy_Score = 0.7361644082543842\n",
            "\n",
            "Showing results for naive_bayes classifier :- \n",
            "For Training Set :-\n",
            "Accuracy_Score = 0.44928291969458256\n",
            "For Testing Set :-\n",
            "Accuracy_Score = 0.44900806650096886\n",
            "\n"
          ]
        }
      ],
      "source": [
        " model_pipeline=[\n",
        "    (\"knn\",KNeighborsClassifier(n_neighbors=7,p=2,n_jobs=-1)),\n",
        "    (\"random_forest\",RandomForestClassifier(n_estimators=70,random_state=17,n_jobs=-1)),\n",
        "    (\"decision_tree\",DecisionTreeClassifier(criterion=\"entropy\",random_state=17)),\n",
        "    (\"naive_bayes\", GaussianNB())\n",
        "]\n",
        "\n",
        "estimators={}\n",
        "for model_name , model in model_pipeline:\n",
        "    estimator_metrics,d=[],{}\n",
        "    print(f\"Showing results for {model_name} classifier :- \")\n",
        "    model.fit(train_x,train_y)\n",
        "    estimator_metrics.append(model)\n",
        "\n",
        "    pred_train_y=model.predict(train_x)\n",
        "    d[\"pred_train_y\"]=pred_train_y\n",
        "\n",
        "    pred_test_y=model.predict(test_x)\n",
        "    d[\"pred_test_y\"]=pred_test_y\n",
        "\n",
        "    print(\"For Training Set :-\")\n",
        "    print(f\"Accuracy_Score = {metrics.accuracy_score(train_y,pred_train_y)}\")\n",
        "    d[\"Accuracy_Score_train\"]=metrics.accuracy_score(train_y,pred_train_y)\n",
        "\n",
        "    print(\"For Testing Set :-\")\n",
        "    print(f\"Accuracy_Score = {metrics.accuracy_score(test_y,pred_test_y)}\\n\")\n",
        "    d[\"Accuracy_Score_test\"]=metrics.accuracy_score(test_y,pred_test_y)\n",
        "\n",
        "    estimator_metrics.append(d)\n",
        "    estimators[model_name]=estimator_metrics\n"
      ]
    },
    {
      "cell_type": "code",
      "source": [
        "KNN_score=[estimators[\"knn\"][1][\"Accuracy_Score_train\"],estimators[\"knn\"][1][\"Accuracy_Score_test\"]]\n",
        "decision_score=[estimators[\"decision_tree\"][1][\"Accuracy_Score_train\"],estimators[\"decision_tree\"][1][\"Accuracy_Score_test\"]]\n",
        "random_score=[estimators[\"random_forest\"][1][\"Accuracy_Score_train\"],estimators[\"random_forest\"][1][\"Accuracy_Score_test\"]]\n",
        "naive_bayes_score=[estimators[\"naive_bayes\"][1][\"Accuracy_Score_train\"],estimators[\"naive_bayes\"][1][\"Accuracy_Score_test\"]]"
      ],
      "metadata": {
        "id": "COfqFrwZkNFL"
      },
      "execution_count": 28,
      "outputs": []
    },
    {
      "cell_type": "code",
      "source": [
        "ind = np.arange(2)\n",
        "width = 0.15\n",
        "data = {\n",
        "    'Naive Bayes': naive_bayes_score,\n",
        "    'KNN': KNN_score,\n",
        "    'Random Forest': random_score,\n",
        "    'Decision Tree': decision_score\n",
        "}\n",
        "\n",
        "colors = ['b', 'g', 'r', 'c']\n",
        "\n",
        "plt.figure(figsize=(10, 6))\n",
        "\n",
        "for i, (label, scores) in enumerate(data.items()):\n",
        "    plt.bar(ind + i * width, scores, width, label=label, color=colors[i])\n",
        "\n",
        "plt.ylabel('Accuracy', fontsize=12)\n",
        "plt.title('Comparison of Model Accuracy', fontsize=14)\n",
        "\n",
        "plt.xticks(ind + width * (len(data) - 1) / 2, ('Train Data', 'Test Data'), fontsize=12)\n",
        "plt.legend(fontsize=12)\n",
        "\n",
        "# Add data labels\n",
        "for i, (label, scores) in enumerate(data.items()):\n",
        "    for j, score in enumerate(scores):\n",
        "        plt.text(ind[j] + i * width, score, f'{score:.2f}', ha='center', va='bottom', fontsize=10)\n",
        "\n",
        "plt.show()"
      ],
      "metadata": {
        "id": "S9n5BTlHlluD",
        "colab": {
          "base_uri": "https://localhost:8080/",
          "height": 553
        },
        "outputId": "98b5e6e3-1c65-4f8c-e327-8823b95a4c7c"
      },
      "execution_count": 29,
      "outputs": [
        {
          "output_type": "display_data",
          "data": {
            "text/plain": [
              "<Figure size 1000x600 with 1 Axes>"
            ],
            "image/png": "[encoded data removed]"
          },
          "metadata": {}
        }
      ]
    },
    {
      "cell_type": "code",
      "source": [],
      "metadata": {
        "id": "nrDuFexVBj-d"
      },
      "execution_count": 29,
      "outputs": []
    },
    {
      "cell_type": "code",
      "source": [
        "# from time import time\n",
        "# from sklearn.ensemble import RandomForestClassifier\n",
        "# from sklearn.model_selection import RandomizedSearchCV\n",
        "\n",
        "# param_dist = {\n",
        "#     \"n_estimators\": [50, 100],\n",
        "#     \"max_depth\": [None, 10,],\n",
        "#     \"min_samples_split\": [2, 5],\n",
        "#     \"min_samples_leaf\": [1, 2, 4],\n",
        "#     \"max_features\": [\"auto\", \"sqrt\"],\n",
        "#     \"bootstrap\": [True, False]\n",
        "# }\n",
        "\n",
        "# rfc = RandomForestClassifier(random_state=17, n_jobs=-1)\n",
        "\n",
        "# n_iter_search = 15\n",
        "# random_search = RandomizedSearchCV(rfc, param_distributions=param_dist, n_iter=n_iter_search, cv=5)\n",
        "\n",
        "# start = time()\n",
        "# random_search.fit(train_x, train_y)\n",
        "# print(\n",
        "#     \"RandomizedSearchCV took %.2f seconds for %d candidates parameter settings.\"\n",
        "#     % ((time() - start), n_iter_search)\n",
        "# )"
      ],
      "metadata": {
        "id": "r0e1oxMKl2EG"
      },
      "execution_count": 30,
      "outputs": []
    },
    {
      "cell_type": "markdown",
      "source": [
        "# ***`MLFlow Practices:`***"
      ],
      "metadata": {
        "id": "RPgATIwIQCXc"
      }
    },
    {
      "cell_type": "code",
      "source": [
        "import logging\n",
        "import sys\n",
        "import warnings\n",
        "from urllib.parse import urlparse\n",
        "from sklearn.linear_model import ElasticNet\n",
        "from sklearn.metrics import mean_absolute_error, mean_squared_error, r2_score\n",
        "import mlflow\n",
        "import mlflow.sklearn\n",
        "from mlflow.models import infer_signature\n",
        "\n",
        "logging.basicConfig(level=logging.WARN)\n",
        "logger = logging.getLogger(__name__)\n",
        "\n",
        "\n",
        "def eval_metrics(actual, pred):\n",
        "    rmse = np.sqrt(mean_squared_error(actual, pred))\n",
        "    mae = mean_absolute_error(actual, pred)\n",
        "    r2 = r2_score(actual, pred)\n",
        "    return rmse, mae, r2"
      ],
      "metadata": {
        "id": "7SLvujdrpHCh"
      },
      "execution_count": 25,
      "outputs": []
    },
    {
      "cell_type": "code",
      "source": [
        "!pip3 install mlflow --upgrade"
      ],
      "metadata": {
        "id": "wmSfVWLuo2Dk"
      },
      "execution_count": null,
      "outputs": []
    },
    {
      "cell_type": "code",
      "source": [
        "!dagshub upload harryvasisht/ADAP data/ data/"
      ],
      "metadata": {
        "id": "UlENq7F8o9Fq"
      },
      "execution_count": null,
      "outputs": []
    },
    {
      "cell_type": "markdown",
      "source": [
        "# ***`Random Forest`***"
      ],
      "metadata": {
        "id": "Xng0iZ6cigDU"
      }
    },
    {
      "cell_type": "code",
      "source": [
        "os.environ['MLFLOW_TRACKING_USERNAME'] = 'harryvasisht'\n",
        "os.environ['MLFLOW_TRACKING_PASSWORD'] = '4a7bea066695ef999dfda84bab1b8bba477df009'\n",
        "remote_server_uri = \"https://dagshub.com/harryvasisht/ADAP.mlflow\"\n",
        "with mlflow.start_run():\n",
        "      mlflow.set_experiment(\"RandomForestTest\")\n",
        "      mlflow.autolog()\n",
        "      RFC = RandomForestClassifier(alpha = 0.5, l1_ratio = 0.5, n_estimators=60,random_state=17,n_jobs=-1)\n",
        "      RFC.fit(train_x, train_y)\n",
        "      predicted_qualities = RFC.predict(test_x)\n",
        "      (rmse, mae, r2) = eval_metrics(test_y, predicted_qualities)\n",
        "      print(f\"  Alpha: {alpha}\")\n",
        "      print(f\"  l1_ratio: {l1_ratio}\")\n",
        "      print(f\"  RMSE: {rmse}\")\n",
        "      print(f\"  MAE: {mae}\")\n",
        "      print(f\"  R2: {r2}\")\n",
        "      mlflow.log_metric(\"rmse\", rmse)\n",
        "      mlflow.log_metric(\"r2\", r2)\n",
        "      mlflow.log_metric(\"mae\", mae)\n",
        "      predictions = RFC.predict(train_x)\n",
        "      signature = infer_signature(train_x, predictions)\n",
        "      mlflow.set_tracking_uri(remote_server_uri)\n",
        "      tracking_url_type_store = urlparse(mlflow.get_tracking_uri()).scheme\n",
        "                # Model registry does not work with file store\n",
        "      if tracking_url_type_store != \"file\":\n",
        "        mlflow.sklearn.log_model(\n",
        "                RFC, \"model\", registered_model_name=\"RandomForestClassifier\", signature=signature\n",
        "            )\n",
        "      else:\n",
        "        mlflow.sklearn.log_model(RFC, \"model\", signature=signature)"
      ],
      "metadata": {
        "colab": {
          "base_uri": "https://localhost:8080/",
          "height": 697
        },
        "id": "td9cLonWike0",
        "outputId": "ca3aa5be-bd20-473d-bc50-b705f12b2644"
      },
      "execution_count": 26,
      "outputs": [
        {
          "output_type": "stream",
          "name": "stderr",
          "text": [
            "2023/10/21 20:23:36 INFO mlflow.tracking.fluent: Experiment with name 'RandomForestTest' does not exist. Creating a new experiment.\n",
            "2023/10/21 20:23:36 INFO mlflow.tracking.fluent: Autologging successfully enabled for sklearn.\n",
            "2023/10/21 20:23:37 INFO mlflow.tracking.fluent: Autologging successfully enabled for statsmodels.\n",
            "2023/10/21 20:23:37 WARNING mlflow.sklearn: Failed to log training dataset information to MLflow Tracking. Reason: 'DataFrame' object has no attribute 'flatten'\n",
            "2023/10/21 20:28:32 WARNING mlflow.sklearn.utils: roc_auc_score failed. The metric training_roc_auc will not be recorded. Metric error: too many indices for array: array is 2-dimensional, but 3 were indexed\n"
          ]
        },
        {
          "output_type": "stream",
          "name": "stdout",
          "text": [
            "  RMSE: 1.284220231004849\n",
            "  MAE: 0.513765395508134\n",
            "  R2: 0.7228176739255991\n"
          ]
        },
        {
          "output_type": "error",
          "ename": "MlflowException",
          "evalue": "ignored",
          "traceback": [
            "\u001b[0;31m---------------------------------------------------------------------------\u001b[0m",
            "\u001b[0;31mMlflowException\u001b[0m                           Traceback (most recent call last)",
            "\u001b[0;32m/usr/local/lib/python3.10/dist-packages/mlflow/models/model.py\u001b[0m in \u001b[0;36mlog\u001b[0;34m(cls, artifact_path, flavor, registered_model_name, await_registration_for, metadata, **kwargs)\u001b[0m\n\u001b[1;32m    581\u001b[0m             \u001b[0;32mtry\u001b[0m\u001b[0;34m:\u001b[0m\u001b[0;34m\u001b[0m\u001b[0;34m\u001b[0m\u001b[0m\n\u001b[0;32m--> 582\u001b[0;31m                 \u001b[0mmlflow\u001b[0m\u001b[0;34m.\u001b[0m\u001b[0mtracking\u001b[0m\u001b[0;34m.\u001b[0m\u001b[0mfluent\u001b[0m\u001b[0;34m.\u001b[0m\u001b[0m_record_logged_model\u001b[0m\u001b[0;34m(\u001b[0m\u001b[0mmlflow_model\u001b[0m\u001b[0;34m)\u001b[0m\u001b[0;34m\u001b[0m\u001b[0;34m\u001b[0m\u001b[0m\n\u001b[0m\u001b[1;32m    583\u001b[0m             \u001b[0;32mexcept\u001b[0m \u001b[0mMlflowException\u001b[0m\u001b[0;34m:\u001b[0m\u001b[0;34m\u001b[0m\u001b[0;34m\u001b[0m\u001b[0m\n",
            "\u001b[0;32m/usr/local/lib/python3.10/dist-packages/mlflow/tracking/fluent.py\u001b[0m in \u001b[0;36m_record_logged_model\u001b[0;34m(mlflow_model)\u001b[0m\n\u001b[1;32m   1208\u001b[0m     \u001b[0mrun_id\u001b[0m \u001b[0;34m=\u001b[0m \u001b[0m_get_or_start_run\u001b[0m\u001b[0;34m(\u001b[0m\u001b[0;34m)\u001b[0m\u001b[0;34m.\u001b[0m\u001b[0minfo\u001b[0m\u001b[0;34m.\u001b[0m\u001b[0mrun_id\u001b[0m\u001b[0;34m\u001b[0m\u001b[0;34m\u001b[0m\u001b[0m\n\u001b[0;32m-> 1209\u001b[0;31m     \u001b[0mMlflowClient\u001b[0m\u001b[0;34m(\u001b[0m\u001b[0;34m)\u001b[0m\u001b[0;34m.\u001b[0m\u001b[0m_record_logged_model\u001b[0m\u001b[0;34m(\u001b[0m\u001b[0mrun_id\u001b[0m\u001b[0;34m,\u001b[0m \u001b[0mmlflow_model\u001b[0m\u001b[0;34m)\u001b[0m\u001b[0;34m\u001b[0m\u001b[0;34m\u001b[0m\u001b[0m\n\u001b[0m\u001b[1;32m   1210\u001b[0m \u001b[0;34m\u001b[0m\u001b[0m\n",
            "\u001b[0;32m/usr/local/lib/python3.10/dist-packages/mlflow/tracking/client.py\u001b[0m in \u001b[0;36m_record_logged_model\u001b[0;34m(self, run_id, mlflow_model)\u001b[0m\n\u001b[1;32m   1710\u001b[0m         \"\"\"\n\u001b[0;32m-> 1711\u001b[0;31m         \u001b[0mself\u001b[0m\u001b[0;34m.\u001b[0m\u001b[0m_tracking_client\u001b[0m\u001b[0;34m.\u001b[0m\u001b[0m_record_logged_model\u001b[0m\u001b[0;34m(\u001b[0m\u001b[0mrun_id\u001b[0m\u001b[0;34m,\u001b[0m \u001b[0mmlflow_model\u001b[0m\u001b[0;34m)\u001b[0m\u001b[0;34m\u001b[0m\u001b[0;34m\u001b[0m\u001b[0m\n\u001b[0m\u001b[1;32m   1712\u001b[0m \u001b[0;34m\u001b[0m\u001b[0m\n",
            "\u001b[0;32m/usr/local/lib/python3.10/dist-packages/mlflow/tracking/_tracking_service/client.py\u001b[0m in \u001b[0;36m_record_logged_model\u001b[0;34m(self, run_id, mlflow_model)\u001b[0m\n\u001b[1;32m    418\u001b[0m             )\n\u001b[0;32m--> 419\u001b[0;31m         \u001b[0mself\u001b[0m\u001b[0;34m.\u001b[0m\u001b[0mstore\u001b[0m\u001b[0;34m.\u001b[0m\u001b[0mrecord_logged_model\u001b[0m\u001b[0;34m(\u001b[0m\u001b[0mrun_id\u001b[0m\u001b[0;34m,\u001b[0m \u001b[0mmlflow_model\u001b[0m\u001b[0;34m)\u001b[0m\u001b[0;34m\u001b[0m\u001b[0;34m\u001b[0m\u001b[0m\n\u001b[0m\u001b[1;32m    420\u001b[0m \u001b[0;34m\u001b[0m\u001b[0m\n",
            "\u001b[0;32m/usr/local/lib/python3.10/dist-packages/mlflow/store/tracking/rest_store.py\u001b[0m in \u001b[0;36mrecord_logged_model\u001b[0;34m(self, run_id, mlflow_model)\u001b[0m\n\u001b[1;32m    326\u001b[0m         \u001b[0mreq_body\u001b[0m \u001b[0;34m=\u001b[0m \u001b[0mmessage_to_json\u001b[0m\u001b[0;34m(\u001b[0m\u001b[0mLogModel\u001b[0m\u001b[0;34m(\u001b[0m\u001b[0mrun_id\u001b[0m\u001b[0;34m=\u001b[0m\u001b[0mrun_id\u001b[0m\u001b[0;34m,\u001b[0m \u001b[0mmodel_json\u001b[0m\u001b[0;34m=\u001b[0m\u001b[0mmlflow_model\u001b[0m\u001b[0;34m.\u001b[0m\u001b[0mto_json\u001b[0m\u001b[0;34m(\u001b[0m\u001b[0;34m)\u001b[0m\u001b[0;34m)\u001b[0m\u001b[0;34m)\u001b[0m\u001b[0;34m\u001b[0m\u001b[0;34m\u001b[0m\u001b[0m\n\u001b[0;32m--> 327\u001b[0;31m         \u001b[0mself\u001b[0m\u001b[0;34m.\u001b[0m\u001b[0m_call_endpoint\u001b[0m\u001b[0;34m(\u001b[0m\u001b[0mLogModel\u001b[0m\u001b[0;34m,\u001b[0m \u001b[0mreq_body\u001b[0m\u001b[0;34m)\u001b[0m\u001b[0;34m\u001b[0m\u001b[0;34m\u001b[0m\u001b[0m\n\u001b[0m\u001b[1;32m    328\u001b[0m \u001b[0;34m\u001b[0m\u001b[0m\n",
            "\u001b[0;32m/usr/local/lib/python3.10/dist-packages/mlflow/store/tracking/rest_store.py\u001b[0m in \u001b[0;36m_call_endpoint\u001b[0;34m(self, api, json_body)\u001b[0m\n\u001b[1;32m     58\u001b[0m         \u001b[0mresponse_proto\u001b[0m \u001b[0;34m=\u001b[0m \u001b[0mapi\u001b[0m\u001b[0;34m.\u001b[0m\u001b[0mResponse\u001b[0m\u001b[0;34m(\u001b[0m\u001b[0;34m)\u001b[0m\u001b[0;34m\u001b[0m\u001b[0;34m\u001b[0m\u001b[0m\n\u001b[0;32m---> 59\u001b[0;31m         \u001b[0;32mreturn\u001b[0m \u001b[0mcall_endpoint\u001b[0m\u001b[0;34m(\u001b[0m\u001b[0mself\u001b[0m\u001b[0;34m.\u001b[0m\u001b[0mget_host_creds\u001b[0m\u001b[0;34m(\u001b[0m\u001b[0;34m)\u001b[0m\u001b[0;34m,\u001b[0m \u001b[0mendpoint\u001b[0m\u001b[0;34m,\u001b[0m \u001b[0mmethod\u001b[0m\u001b[0;34m,\u001b[0m \u001b[0mjson_body\u001b[0m\u001b[0;34m,\u001b[0m \u001b[0mresponse_proto\u001b[0m\u001b[0;34m)\u001b[0m\u001b[0;34m\u001b[0m\u001b[0;34m\u001b[0m\u001b[0m\n\u001b[0m\u001b[1;32m     60\u001b[0m \u001b[0;34m\u001b[0m\u001b[0m\n",
            "\u001b[0;32m/usr/local/lib/python3.10/dist-packages/mlflow/utils/rest_utils.py\u001b[0m in \u001b[0;36mcall_endpoint\u001b[0;34m(host_creds, endpoint, method, json_body, response_proto, extra_headers)\u001b[0m\n\u001b[1;32m    201\u001b[0m         \u001b[0mresponse\u001b[0m \u001b[0;34m=\u001b[0m \u001b[0mhttp_request\u001b[0m\u001b[0;34m(\u001b[0m\u001b[0;34m**\u001b[0m\u001b[0mcall_kwargs\u001b[0m\u001b[0;34m)\u001b[0m\u001b[0;34m\u001b[0m\u001b[0;34m\u001b[0m\u001b[0m\n\u001b[0;32m--> 202\u001b[0;31m     \u001b[0mresponse\u001b[0m \u001b[0;34m=\u001b[0m \u001b[0mverify_rest_response\u001b[0m\u001b[0;34m(\u001b[0m\u001b[0mresponse\u001b[0m\u001b[0;34m,\u001b[0m \u001b[0mendpoint\u001b[0m\u001b[0;34m)\u001b[0m\u001b[0;34m\u001b[0m\u001b[0;34m\u001b[0m\u001b[0m\n\u001b[0m\u001b[1;32m    203\u001b[0m     \u001b[0mjs_dict\u001b[0m \u001b[0;34m=\u001b[0m \u001b[0mjson\u001b[0m\u001b[0;34m.\u001b[0m\u001b[0mloads\u001b[0m\u001b[0;34m(\u001b[0m\u001b[0mresponse\u001b[0m\u001b[0;34m.\u001b[0m\u001b[0mtext\u001b[0m\u001b[0;34m)\u001b[0m\u001b[0;34m\u001b[0m\u001b[0;34m\u001b[0m\u001b[0m\n",
            "\u001b[0;32m/usr/local/lib/python3.10/dist-packages/mlflow/utils/rest_utils.py\u001b[0m in \u001b[0;36mverify_rest_response\u001b[0;34m(response, endpoint)\u001b[0m\n\u001b[1;32m    139\u001b[0m             )\n\u001b[0;32m--> 140\u001b[0;31m             raise MlflowException(\n\u001b[0m\u001b[1;32m    141\u001b[0m                 \u001b[0;34mf\"{base_msg}. Response body: '{response.text}'\"\u001b[0m\u001b[0;34m,\u001b[0m\u001b[0;34m\u001b[0m\u001b[0;34m\u001b[0m\u001b[0m\n",
            "\u001b[0;31mMlflowException\u001b[0m: API request to endpoint /api/2.0/mlflow/runs/log-model failed with error code 400 != 200. Response body: '\"repo not associated with run\"'",
            "\nDuring handling of the above exception, another exception occurred:\n",
            "\u001b[0;31mMlflowException\u001b[0m                           Traceback (most recent call last)",
            "\u001b[0;32m<ipython-input-26-74eac28d63c2>\u001b[0m in \u001b[0;36m<cell line: 3>\u001b[0;34m()\u001b[0m\n\u001b[1;32m     22\u001b[0m       \u001b[0;32mif\u001b[0m \u001b[0mtracking_url_type_store\u001b[0m \u001b[0;34m!=\u001b[0m \u001b[0;34m\"file\"\u001b[0m\u001b[0;34m:\u001b[0m\u001b[0;34m\u001b[0m\u001b[0;34m\u001b[0m\u001b[0m\n\u001b[0;32m---> 23\u001b[0;31m         mlflow.sklearn.log_model(\n\u001b[0m\u001b[1;32m     24\u001b[0m                 \u001b[0mRFC\u001b[0m\u001b[0;34m,\u001b[0m \u001b[0;34m\"model\"\u001b[0m\u001b[0;34m,\u001b[0m \u001b[0mregistered_model_name\u001b[0m\u001b[0;34m=\u001b[0m\u001b[0;34m\"DecisionTreeClassifier\"\u001b[0m\u001b[0;34m,\u001b[0m \u001b[0msignature\u001b[0m\u001b[0;34m=\u001b[0m\u001b[0msignature\u001b[0m\u001b[0;34m\u001b[0m\u001b[0;34m\u001b[0m\u001b[0m\n",
            "\u001b[0;32m/usr/local/lib/python3.10/dist-packages/mlflow/sklearn/__init__.py\u001b[0m in \u001b[0;36mlog_model\u001b[0;34m(sk_model, artifact_path, conda_env, code_paths, serialization_format, registered_model_name, signature, input_example, await_registration_for, pip_requirements, extra_pip_requirements, pyfunc_predict_fn, metadata)\u001b[0m\n\u001b[1;32m    407\u001b[0m     \"\"\"\n\u001b[0;32m--> 408\u001b[0;31m     return Model.log(\n\u001b[0m\u001b[1;32m    409\u001b[0m         \u001b[0martifact_path\u001b[0m\u001b[0;34m=\u001b[0m\u001b[0martifact_path\u001b[0m\u001b[0;34m,\u001b[0m\u001b[0;34m\u001b[0m\u001b[0;34m\u001b[0m\u001b[0m\n",
            "\u001b[0;32m/usr/local/lib/python3.10/dist-packages/mlflow/models/model.py\u001b[0m in \u001b[0;36mlog\u001b[0;34m(cls, artifact_path, flavor, registered_model_name, await_registration_for, metadata, **kwargs)\u001b[0m\n\u001b[1;32m    585\u001b[0m                 \u001b[0;31m# older tracking servers. Only print out a warning for now.\u001b[0m\u001b[0;34m\u001b[0m\u001b[0;34m\u001b[0m\u001b[0m\n\u001b[0;32m--> 586\u001b[0;31m                 \u001b[0m_logger\u001b[0m\u001b[0;34m.\u001b[0m\u001b[0mwarning\u001b[0m\u001b[0;34m(\u001b[0m\u001b[0m_LOG_MODEL_METADATA_WARNING_TEMPLATE\u001b[0m\u001b[0;34m,\u001b[0m \u001b[0mmlflow\u001b[0m\u001b[0;34m.\u001b[0m\u001b[0mget_artifact_uri\u001b[0m\u001b[0;34m(\u001b[0m\u001b[0;34m)\u001b[0m\u001b[0;34m)\u001b[0m\u001b[0;34m\u001b[0m\u001b[0;34m\u001b[0m\u001b[0m\n\u001b[0m\u001b[1;32m    587\u001b[0m                 \u001b[0m_logger\u001b[0m\u001b[0;34m.\u001b[0m\u001b[0mdebug\u001b[0m\u001b[0;34m(\u001b[0m\u001b[0;34m\"\"\u001b[0m\u001b[0;34m,\u001b[0m \u001b[0mexc_info\u001b[0m\u001b[0;34m=\u001b[0m\u001b[0;32mTrue\u001b[0m\u001b[0;34m)\u001b[0m\u001b[0;34m\u001b[0m\u001b[0;34m\u001b[0m\u001b[0m\n",
            "\u001b[0;32m/usr/local/lib/python3.10/dist-packages/mlflow/tracking/fluent.py\u001b[0m in \u001b[0;36mget_artifact_uri\u001b[0;34m(artifact_path)\u001b[0m\n\u001b[1;32m   1546\u001b[0m     \"\"\"\n\u001b[0;32m-> 1547\u001b[0;31m     return artifact_utils.get_artifact_uri(\n\u001b[0m\u001b[1;32m   1548\u001b[0m         \u001b[0mrun_id\u001b[0m\u001b[0;34m=\u001b[0m\u001b[0m_get_or_start_run\u001b[0m\u001b[0;34m(\u001b[0m\u001b[0;34m)\u001b[0m\u001b[0;34m.\u001b[0m\u001b[0minfo\u001b[0m\u001b[0;34m.\u001b[0m\u001b[0mrun_id\u001b[0m\u001b[0;34m,\u001b[0m \u001b[0martifact_path\u001b[0m\u001b[0;34m=\u001b[0m\u001b[0martifact_path\u001b[0m\u001b[0;34m\u001b[0m\u001b[0;34m\u001b[0m\u001b[0m\n",
            "\u001b[0;32m/usr/local/lib/python3.10/dist-packages/mlflow/tracking/artifact_utils.py\u001b[0m in \u001b[0;36mget_artifact_uri\u001b[0;34m(run_id, artifact_path, tracking_uri)\u001b[0m\n\u001b[1;32m     46\u001b[0m     \u001b[0mstore\u001b[0m \u001b[0;34m=\u001b[0m \u001b[0m_get_store\u001b[0m\u001b[0;34m(\u001b[0m\u001b[0mtracking_uri\u001b[0m\u001b[0;34m)\u001b[0m\u001b[0;34m\u001b[0m\u001b[0;34m\u001b[0m\u001b[0m\n\u001b[0;32m---> 47\u001b[0;31m     \u001b[0mrun\u001b[0m \u001b[0;34m=\u001b[0m \u001b[0mstore\u001b[0m\u001b[0;34m.\u001b[0m\u001b[0mget_run\u001b[0m\u001b[0;34m(\u001b[0m\u001b[0mrun_id\u001b[0m\u001b[0;34m)\u001b[0m\u001b[0;34m\u001b[0m\u001b[0;34m\u001b[0m\u001b[0m\n\u001b[0m\u001b[1;32m     48\u001b[0m     \u001b[0;31m# Maybe move this method to RunsArtifactRepository so the circular dependency is clearer.\u001b[0m\u001b[0;34m\u001b[0m\u001b[0;34m\u001b[0m\u001b[0m\n",
            "\u001b[0;32m/usr/local/lib/python3.10/dist-packages/mlflow/store/tracking/rest_store.py\u001b[0m in \u001b[0;36mget_run\u001b[0;34m(self, run_id)\u001b[0m\n\u001b[1;32m    136\u001b[0m         \u001b[0mreq_body\u001b[0m \u001b[0;34m=\u001b[0m \u001b[0mmessage_to_json\u001b[0m\u001b[0;34m(\u001b[0m\u001b[0mGetRun\u001b[0m\u001b[0;34m(\u001b[0m\u001b[0mrun_uuid\u001b[0m\u001b[0;34m=\u001b[0m\u001b[0mrun_id\u001b[0m\u001b[0;34m,\u001b[0m \u001b[0mrun_id\u001b[0m\u001b[0;34m=\u001b[0m\u001b[0mrun_id\u001b[0m\u001b[0;34m)\u001b[0m\u001b[0;34m)\u001b[0m\u001b[0;34m\u001b[0m\u001b[0;34m\u001b[0m\u001b[0m\n\u001b[0;32m--> 137\u001b[0;31m         \u001b[0mresponse_proto\u001b[0m \u001b[0;34m=\u001b[0m \u001b[0mself\u001b[0m\u001b[0;34m.\u001b[0m\u001b[0m_call_endpoint\u001b[0m\u001b[0;34m(\u001b[0m\u001b[0mGetRun\u001b[0m\u001b[0;34m,\u001b[0m \u001b[0mreq_body\u001b[0m\u001b[0;34m)\u001b[0m\u001b[0;34m\u001b[0m\u001b[0;34m\u001b[0m\u001b[0m\n\u001b[0m\u001b[1;32m    138\u001b[0m         \u001b[0;32mreturn\u001b[0m \u001b[0mRun\u001b[0m\u001b[0;34m.\u001b[0m\u001b[0mfrom_proto\u001b[0m\u001b[0;34m(\u001b[0m\u001b[0mresponse_proto\u001b[0m\u001b[0;34m.\u001b[0m\u001b[0mrun\u001b[0m\u001b[0;34m)\u001b[0m\u001b[0;34m\u001b[0m\u001b[0;34m\u001b[0m\u001b[0m\n",
            "\u001b[0;32m/usr/local/lib/python3.10/dist-packages/mlflow/store/tracking/rest_store.py\u001b[0m in \u001b[0;36m_call_endpoint\u001b[0;34m(self, api, json_body)\u001b[0m\n\u001b[1;32m     58\u001b[0m         \u001b[0mresponse_proto\u001b[0m \u001b[0;34m=\u001b[0m \u001b[0mapi\u001b[0m\u001b[0;34m.\u001b[0m\u001b[0mResponse\u001b[0m\u001b[0;34m(\u001b[0m\u001b[0;34m)\u001b[0m\u001b[0;34m\u001b[0m\u001b[0;34m\u001b[0m\u001b[0m\n\u001b[0;32m---> 59\u001b[0;31m         \u001b[0;32mreturn\u001b[0m \u001b[0mcall_endpoint\u001b[0m\u001b[0;34m(\u001b[0m\u001b[0mself\u001b[0m\u001b[0;34m.\u001b[0m\u001b[0mget_host_creds\u001b[0m\u001b[0;34m(\u001b[0m\u001b[0;34m)\u001b[0m\u001b[0;34m,\u001b[0m \u001b[0mendpoint\u001b[0m\u001b[0;34m,\u001b[0m \u001b[0mmethod\u001b[0m\u001b[0;34m,\u001b[0m \u001b[0mjson_body\u001b[0m\u001b[0;34m,\u001b[0m \u001b[0mresponse_proto\u001b[0m\u001b[0;34m)\u001b[0m\u001b[0;34m\u001b[0m\u001b[0;34m\u001b[0m\u001b[0m\n\u001b[0m\u001b[1;32m     60\u001b[0m \u001b[0;34m\u001b[0m\u001b[0m\n",
            "\u001b[0;32m/usr/local/lib/python3.10/dist-packages/mlflow/utils/rest_utils.py\u001b[0m in \u001b[0;36mcall_endpoint\u001b[0;34m(host_creds, endpoint, method, json_body, response_proto, extra_headers)\u001b[0m\n\u001b[1;32m    201\u001b[0m         \u001b[0mresponse\u001b[0m \u001b[0;34m=\u001b[0m \u001b[0mhttp_request\u001b[0m\u001b[0;34m(\u001b[0m\u001b[0;34m**\u001b[0m\u001b[0mcall_kwargs\u001b[0m\u001b[0;34m)\u001b[0m\u001b[0;34m\u001b[0m\u001b[0;34m\u001b[0m\u001b[0m\n\u001b[0;32m--> 202\u001b[0;31m     \u001b[0mresponse\u001b[0m \u001b[0;34m=\u001b[0m \u001b[0mverify_rest_response\u001b[0m\u001b[0;34m(\u001b[0m\u001b[0mresponse\u001b[0m\u001b[0;34m,\u001b[0m \u001b[0mendpoint\u001b[0m\u001b[0;34m)\u001b[0m\u001b[0;34m\u001b[0m\u001b[0;34m\u001b[0m\u001b[0m\n\u001b[0m\u001b[1;32m    203\u001b[0m     \u001b[0mjs_dict\u001b[0m \u001b[0;34m=\u001b[0m \u001b[0mjson\u001b[0m\u001b[0;34m.\u001b[0m\u001b[0mloads\u001b[0m\u001b[0;34m(\u001b[0m\u001b[0mresponse\u001b[0m\u001b[0;34m.\u001b[0m\u001b[0mtext\u001b[0m\u001b[0;34m)\u001b[0m\u001b[0;34m\u001b[0m\u001b[0;34m\u001b[0m\u001b[0m\n",
            "\u001b[0;32m/usr/local/lib/python3.10/dist-packages/mlflow/utils/rest_utils.py\u001b[0m in \u001b[0;36mverify_rest_response\u001b[0;34m(response, endpoint)\u001b[0m\n\u001b[1;32m    139\u001b[0m             )\n\u001b[0;32m--> 140\u001b[0;31m             raise MlflowException(\n\u001b[0m\u001b[1;32m    141\u001b[0m                 \u001b[0;34mf\"{base_msg}. Response body: '{response.text}'\"\u001b[0m\u001b[0;34m,\u001b[0m\u001b[0;34m\u001b[0m\u001b[0;34m\u001b[0m\u001b[0m\n",
            "\u001b[0;31mMlflowException\u001b[0m: API request to endpoint /api/2.0/mlflow/runs/get failed with error code 400 != 200. Response body: '\"repo not associated with run\"'",
            "\nDuring handling of the above exception, another exception occurred:\n",
            "\u001b[0;31mMlflowException\u001b[0m                           Traceback (most recent call last)",
            "\u001b[0;32m<ipython-input-26-74eac28d63c2>\u001b[0m in \u001b[0;36m<cell line: 3>\u001b[0;34m()\u001b[0m\n\u001b[1;32m      1\u001b[0m \u001b[0mos\u001b[0m\u001b[0;34m.\u001b[0m\u001b[0menviron\u001b[0m\u001b[0;34m[\u001b[0m\u001b[0;34m'MLFLOW_TRACKING_USERNAME'\u001b[0m\u001b[0;34m]\u001b[0m \u001b[0;34m=\u001b[0m \u001b[0;34m'harryvasisht'\u001b[0m\u001b[0;34m\u001b[0m\u001b[0;34m\u001b[0m\u001b[0m\n\u001b[1;32m      2\u001b[0m \u001b[0mos\u001b[0m\u001b[0;34m.\u001b[0m\u001b[0menviron\u001b[0m\u001b[0;34m[\u001b[0m\u001b[0;34m'MLFLOW_TRACKING_PASSWORD'\u001b[0m\u001b[0;34m]\u001b[0m \u001b[0;34m=\u001b[0m \u001b[0;34m'4a7bea066695ef999dfda84bab1b8bba477df009'\u001b[0m\u001b[0;34m\u001b[0m\u001b[0;34m\u001b[0m\u001b[0m\n\u001b[0;32m----> 3\u001b[0;31m \u001b[0;32mwith\u001b[0m \u001b[0mmlflow\u001b[0m\u001b[0;34m.\u001b[0m\u001b[0mstart_run\u001b[0m\u001b[0;34m(\u001b[0m\u001b[0;34m)\u001b[0m\u001b[0;34m:\u001b[0m\u001b[0;34m\u001b[0m\u001b[0;34m\u001b[0m\u001b[0m\n\u001b[0m\u001b[1;32m      4\u001b[0m       \u001b[0mmlflow\u001b[0m\u001b[0;34m.\u001b[0m\u001b[0mset_experiment\u001b[0m\u001b[0;34m(\u001b[0m\u001b[0;34m\"RandomForestTest\"\u001b[0m\u001b[0;34m)\u001b[0m\u001b[0;34m\u001b[0m\u001b[0;34m\u001b[0m\u001b[0m\n\u001b[1;32m      5\u001b[0m       \u001b[0mmlflow\u001b[0m\u001b[0;34m.\u001b[0m\u001b[0mautolog\u001b[0m\u001b[0;34m(\u001b[0m\u001b[0;34m)\u001b[0m\u001b[0;34m\u001b[0m\u001b[0;34m\u001b[0m\u001b[0m\n",
            "\u001b[0;32m/usr/local/lib/python3.10/dist-packages/mlflow/tracking/fluent.py\u001b[0m in \u001b[0;36m__exit__\u001b[0;34m(self, exc_type, exc_val, exc_tb)\u001b[0m\n\u001b[1;32m    181\u001b[0m     \u001b[0;32mdef\u001b[0m \u001b[0m__exit__\u001b[0m\u001b[0;34m(\u001b[0m\u001b[0mself\u001b[0m\u001b[0;34m,\u001b[0m \u001b[0mexc_type\u001b[0m\u001b[0;34m,\u001b[0m \u001b[0mexc_val\u001b[0m\u001b[0;34m,\u001b[0m \u001b[0mexc_tb\u001b[0m\u001b[0;34m)\u001b[0m\u001b[0;34m:\u001b[0m\u001b[0;34m\u001b[0m\u001b[0;34m\u001b[0m\u001b[0m\n\u001b[1;32m    182\u001b[0m         \u001b[0mstatus\u001b[0m \u001b[0;34m=\u001b[0m \u001b[0mRunStatus\u001b[0m\u001b[0;34m.\u001b[0m\u001b[0mFINISHED\u001b[0m \u001b[0;32mif\u001b[0m \u001b[0mexc_type\u001b[0m \u001b[0;32mis\u001b[0m \u001b[0;32mNone\u001b[0m \u001b[0;32melse\u001b[0m \u001b[0mRunStatus\u001b[0m\u001b[0;34m.\u001b[0m\u001b[0mFAILED\u001b[0m\u001b[0;34m\u001b[0m\u001b[0;34m\u001b[0m\u001b[0m\n\u001b[0;32m--> 183\u001b[0;31m         \u001b[0mend_run\u001b[0m\u001b[0;34m(\u001b[0m\u001b[0mRunStatus\u001b[0m\u001b[0;34m.\u001b[0m\u001b[0mto_string\u001b[0m\u001b[0;34m(\u001b[0m\u001b[0mstatus\u001b[0m\u001b[0;34m)\u001b[0m\u001b[0;34m)\u001b[0m\u001b[0;34m\u001b[0m\u001b[0;34m\u001b[0m\u001b[0m\n\u001b[0m\u001b[1;32m    184\u001b[0m         \u001b[0;32mreturn\u001b[0m \u001b[0mexc_type\u001b[0m \u001b[0;32mis\u001b[0m \u001b[0;32mNone\u001b[0m\u001b[0;34m\u001b[0m\u001b[0;34m\u001b[0m\u001b[0m\n\u001b[1;32m    185\u001b[0m \u001b[0;34m\u001b[0m\u001b[0m\n",
            "\u001b[0;32m/usr/local/lib/python3.10/dist-packages/mlflow/tracking/fluent.py\u001b[0m in \u001b[0;36mend_run\u001b[0;34m(status)\u001b[0m\n\u001b[1;32m    406\u001b[0m         \u001b[0mMLFLOW_RUN_ID\u001b[0m\u001b[0;34m.\u001b[0m\u001b[0munset\u001b[0m\u001b[0;34m(\u001b[0m\u001b[0;34m)\u001b[0m\u001b[0;34m\u001b[0m\u001b[0;34m\u001b[0m\u001b[0m\n\u001b[1;32m    407\u001b[0m         \u001b[0mrun\u001b[0m \u001b[0;34m=\u001b[0m \u001b[0m_active_run_stack\u001b[0m\u001b[0;34m.\u001b[0m\u001b[0mpop\u001b[0m\u001b[0;34m(\u001b[0m\u001b[0;34m)\u001b[0m\u001b[0;34m\u001b[0m\u001b[0;34m\u001b[0m\u001b[0m\n\u001b[0;32m--> 408\u001b[0;31m         \u001b[0mMlflowClient\u001b[0m\u001b[0;34m(\u001b[0m\u001b[0;34m)\u001b[0m\u001b[0;34m.\u001b[0m\u001b[0mset_terminated\u001b[0m\u001b[0;34m(\u001b[0m\u001b[0mrun\u001b[0m\u001b[0;34m.\u001b[0m\u001b[0minfo\u001b[0m\u001b[0;34m.\u001b[0m\u001b[0mrun_id\u001b[0m\u001b[0;34m,\u001b[0m \u001b[0mstatus\u001b[0m\u001b[0;34m)\u001b[0m\u001b[0;34m\u001b[0m\u001b[0;34m\u001b[0m\u001b[0m\n\u001b[0m\u001b[1;32m    409\u001b[0m         \u001b[0m_last_active_run_id\u001b[0m \u001b[0;34m=\u001b[0m \u001b[0mrun\u001b[0m\u001b[0;34m.\u001b[0m\u001b[0minfo\u001b[0m\u001b[0;34m.\u001b[0m\u001b[0mrun_id\u001b[0m\u001b[0;34m\u001b[0m\u001b[0;34m\u001b[0m\u001b[0m\n\u001b[1;32m    410\u001b[0m \u001b[0;34m\u001b[0m\u001b[0m\n",
            "\u001b[0;32m/usr/local/lib/python3.10/dist-packages/mlflow/tracking/client.py\u001b[0m in \u001b[0;36mset_terminated\u001b[0;34m(self, run_id, status, end_time)\u001b[0m\n\u001b[1;32m   1855\u001b[0m             \u001b[0mstatus\u001b[0m\u001b[0;34m:\u001b[0m \u001b[0mKILLED\u001b[0m\u001b[0;34m\u001b[0m\u001b[0;34m\u001b[0m\u001b[0m\n\u001b[1;32m   1856\u001b[0m         \"\"\"\n\u001b[0;32m-> 1857\u001b[0;31m         \u001b[0mself\u001b[0m\u001b[0;34m.\u001b[0m\u001b[0m_tracking_client\u001b[0m\u001b[0;34m.\u001b[0m\u001b[0mset_terminated\u001b[0m\u001b[0;34m(\u001b[0m\u001b[0mrun_id\u001b[0m\u001b[0;34m,\u001b[0m \u001b[0mstatus\u001b[0m\u001b[0;34m,\u001b[0m \u001b[0mend_time\u001b[0m\u001b[0;34m)\u001b[0m\u001b[0;34m\u001b[0m\u001b[0;34m\u001b[0m\u001b[0m\n\u001b[0m\u001b[1;32m   1858\u001b[0m \u001b[0;34m\u001b[0m\u001b[0m\n\u001b[1;32m   1859\u001b[0m     \u001b[0;32mdef\u001b[0m \u001b[0mdelete_run\u001b[0m\u001b[0;34m(\u001b[0m\u001b[0mself\u001b[0m\u001b[0;34m,\u001b[0m \u001b[0mrun_id\u001b[0m\u001b[0;34m:\u001b[0m \u001b[0mstr\u001b[0m\u001b[0;34m)\u001b[0m \u001b[0;34m->\u001b[0m \u001b[0;32mNone\u001b[0m\u001b[0;34m:\u001b[0m\u001b[0;34m\u001b[0m\u001b[0;34m\u001b[0m\u001b[0m\n",
            "\u001b[0;32m/usr/local/lib/python3.10/dist-packages/mlflow/tracking/_tracking_service/client.py\u001b[0m in \u001b[0;36mset_terminated\u001b[0;34m(self, run_id, status, end_time)\u001b[0m\n\u001b[1;32m    498\u001b[0m         \u001b[0mend_time\u001b[0m \u001b[0;34m=\u001b[0m \u001b[0mend_time\u001b[0m \u001b[0;32mif\u001b[0m \u001b[0mend_time\u001b[0m \u001b[0;32melse\u001b[0m \u001b[0mget_current_time_millis\u001b[0m\u001b[0;34m(\u001b[0m\u001b[0;34m)\u001b[0m\u001b[0;34m\u001b[0m\u001b[0;34m\u001b[0m\u001b[0m\n\u001b[1;32m    499\u001b[0m         \u001b[0mstatus\u001b[0m \u001b[0;34m=\u001b[0m \u001b[0mstatus\u001b[0m \u001b[0;32mif\u001b[0m \u001b[0mstatus\u001b[0m \u001b[0;32melse\u001b[0m \u001b[0mRunStatus\u001b[0m\u001b[0;34m.\u001b[0m\u001b[0mto_string\u001b[0m\u001b[0;34m(\u001b[0m\u001b[0mRunStatus\u001b[0m\u001b[0;34m.\u001b[0m\u001b[0mFINISHED\u001b[0m\u001b[0;34m)\u001b[0m\u001b[0;34m\u001b[0m\u001b[0;34m\u001b[0m\u001b[0m\n\u001b[0;32m--> 500\u001b[0;31m         self.store.update_run_info(\n\u001b[0m\u001b[1;32m    501\u001b[0m             \u001b[0mrun_id\u001b[0m\u001b[0;34m,\u001b[0m\u001b[0;34m\u001b[0m\u001b[0;34m\u001b[0m\u001b[0m\n\u001b[1;32m    502\u001b[0m             \u001b[0mrun_status\u001b[0m\u001b[0;34m=\u001b[0m\u001b[0mRunStatus\u001b[0m\u001b[0;34m.\u001b[0m\u001b[0mfrom_string\u001b[0m\u001b[0;34m(\u001b[0m\u001b[0mstatus\u001b[0m\u001b[0;34m)\u001b[0m\u001b[0;34m,\u001b[0m\u001b[0;34m\u001b[0m\u001b[0;34m\u001b[0m\u001b[0m\n",
            "\u001b[0;32m/usr/local/lib/python3.10/dist-packages/mlflow/store/tracking/rest_store.py\u001b[0m in \u001b[0;36mupdate_run_info\u001b[0;34m(self, run_id, run_status, end_time, run_name)\u001b[0m\n\u001b[1;32m    149\u001b[0m             )\n\u001b[1;32m    150\u001b[0m         )\n\u001b[0;32m--> 151\u001b[0;31m         \u001b[0mresponse_proto\u001b[0m \u001b[0;34m=\u001b[0m \u001b[0mself\u001b[0m\u001b[0;34m.\u001b[0m\u001b[0m_call_endpoint\u001b[0m\u001b[0;34m(\u001b[0m\u001b[0mUpdateRun\u001b[0m\u001b[0;34m,\u001b[0m \u001b[0mreq_body\u001b[0m\u001b[0;34m)\u001b[0m\u001b[0;34m\u001b[0m\u001b[0;34m\u001b[0m\u001b[0m\n\u001b[0m\u001b[1;32m    152\u001b[0m         \u001b[0;32mreturn\u001b[0m \u001b[0mRunInfo\u001b[0m\u001b[0;34m.\u001b[0m\u001b[0mfrom_proto\u001b[0m\u001b[0;34m(\u001b[0m\u001b[0mresponse_proto\u001b[0m\u001b[0;34m.\u001b[0m\u001b[0mrun_info\u001b[0m\u001b[0;34m)\u001b[0m\u001b[0;34m\u001b[0m\u001b[0;34m\u001b[0m\u001b[0m\n\u001b[1;32m    153\u001b[0m \u001b[0;34m\u001b[0m\u001b[0m\n",
            "\u001b[0;32m/usr/local/lib/python3.10/dist-packages/mlflow/store/tracking/rest_store.py\u001b[0m in \u001b[0;36m_call_endpoint\u001b[0;34m(self, api, json_body)\u001b[0m\n\u001b[1;32m     57\u001b[0m         \u001b[0mendpoint\u001b[0m\u001b[0;34m,\u001b[0m \u001b[0mmethod\u001b[0m \u001b[0;34m=\u001b[0m \u001b[0m_METHOD_TO_INFO\u001b[0m\u001b[0;34m[\u001b[0m\u001b[0mapi\u001b[0m\u001b[0;34m]\u001b[0m\u001b[0;34m\u001b[0m\u001b[0;34m\u001b[0m\u001b[0m\n\u001b[1;32m     58\u001b[0m         \u001b[0mresponse_proto\u001b[0m \u001b[0;34m=\u001b[0m \u001b[0mapi\u001b[0m\u001b[0;34m.\u001b[0m\u001b[0mResponse\u001b[0m\u001b[0;34m(\u001b[0m\u001b[0;34m)\u001b[0m\u001b[0;34m\u001b[0m\u001b[0;34m\u001b[0m\u001b[0m\n\u001b[0;32m---> 59\u001b[0;31m         \u001b[0;32mreturn\u001b[0m \u001b[0mcall_endpoint\u001b[0m\u001b[0;34m(\u001b[0m\u001b[0mself\u001b[0m\u001b[0;34m.\u001b[0m\u001b[0mget_host_creds\u001b[0m\u001b[0;34m(\u001b[0m\u001b[0;34m)\u001b[0m\u001b[0;34m,\u001b[0m \u001b[0mendpoint\u001b[0m\u001b[0;34m,\u001b[0m \u001b[0mmethod\u001b[0m\u001b[0;34m,\u001b[0m \u001b[0mjson_body\u001b[0m\u001b[0;34m,\u001b[0m \u001b[0mresponse_proto\u001b[0m\u001b[0;34m)\u001b[0m\u001b[0;34m\u001b[0m\u001b[0;34m\u001b[0m\u001b[0m\n\u001b[0m\u001b[1;32m     60\u001b[0m \u001b[0;34m\u001b[0m\u001b[0m\n\u001b[1;32m     61\u001b[0m     def search_experiments(\n",
            "\u001b[0;32m/usr/local/lib/python3.10/dist-packages/mlflow/utils/rest_utils.py\u001b[0m in \u001b[0;36mcall_endpoint\u001b[0;34m(host_creds, endpoint, method, json_body, response_proto, extra_headers)\u001b[0m\n\u001b[1;32m    200\u001b[0m         \u001b[0mcall_kwargs\u001b[0m\u001b[0;34m[\u001b[0m\u001b[0;34m\"json\"\u001b[0m\u001b[0;34m]\u001b[0m \u001b[0;34m=\u001b[0m \u001b[0mjson_body\u001b[0m\u001b[0;34m\u001b[0m\u001b[0;34m\u001b[0m\u001b[0m\n\u001b[1;32m    201\u001b[0m         \u001b[0mresponse\u001b[0m \u001b[0;34m=\u001b[0m \u001b[0mhttp_request\u001b[0m\u001b[0;34m(\u001b[0m\u001b[0;34m**\u001b[0m\u001b[0mcall_kwargs\u001b[0m\u001b[0;34m)\u001b[0m\u001b[0;34m\u001b[0m\u001b[0;34m\u001b[0m\u001b[0m\n\u001b[0;32m--> 202\u001b[0;31m     \u001b[0mresponse\u001b[0m \u001b[0;34m=\u001b[0m \u001b[0mverify_rest_response\u001b[0m\u001b[0;34m(\u001b[0m\u001b[0mresponse\u001b[0m\u001b[0;34m,\u001b[0m \u001b[0mendpoint\u001b[0m\u001b[0;34m)\u001b[0m\u001b[0;34m\u001b[0m\u001b[0;34m\u001b[0m\u001b[0m\n\u001b[0m\u001b[1;32m    203\u001b[0m     \u001b[0mjs_dict\u001b[0m \u001b[0;34m=\u001b[0m \u001b[0mjson\u001b[0m\u001b[0;34m.\u001b[0m\u001b[0mloads\u001b[0m\u001b[0;34m(\u001b[0m\u001b[0mresponse\u001b[0m\u001b[0;34m.\u001b[0m\u001b[0mtext\u001b[0m\u001b[0;34m)\u001b[0m\u001b[0;34m\u001b[0m\u001b[0;34m\u001b[0m\u001b[0m\n\u001b[1;32m    204\u001b[0m     \u001b[0mparse_dict\u001b[0m\u001b[0;34m(\u001b[0m\u001b[0mjs_dict\u001b[0m\u001b[0;34m=\u001b[0m\u001b[0mjs_dict\u001b[0m\u001b[0;34m,\u001b[0m \u001b[0mmessage\u001b[0m\u001b[0;34m=\u001b[0m\u001b[0mresponse_proto\u001b[0m\u001b[0;34m)\u001b[0m\u001b[0;34m\u001b[0m\u001b[0;34m\u001b[0m\u001b[0m\n",
            "\u001b[0;32m/usr/local/lib/python3.10/dist-packages/mlflow/utils/rest_utils.py\u001b[0m in \u001b[0;36mverify_rest_response\u001b[0;34m(response, endpoint)\u001b[0m\n\u001b[1;32m    138\u001b[0m                 \u001b[0;34mf\"failed with error code {response.status_code} != 200\"\u001b[0m\u001b[0;34m\u001b[0m\u001b[0;34m\u001b[0m\u001b[0m\n\u001b[1;32m    139\u001b[0m             )\n\u001b[0;32m--> 140\u001b[0;31m             raise MlflowException(\n\u001b[0m\u001b[1;32m    141\u001b[0m                 \u001b[0;34mf\"{base_msg}. Response body: '{response.text}'\"\u001b[0m\u001b[0;34m,\u001b[0m\u001b[0;34m\u001b[0m\u001b[0;34m\u001b[0m\u001b[0m\n\u001b[1;32m    142\u001b[0m                 \u001b[0merror_code\u001b[0m\u001b[0;34m=\u001b[0m\u001b[0mget_error_code\u001b[0m\u001b[0;34m(\u001b[0m\u001b[0mresponse\u001b[0m\u001b[0;34m.\u001b[0m\u001b[0mstatus_code\u001b[0m\u001b[0;34m)\u001b[0m\u001b[0;34m,\u001b[0m\u001b[0;34m\u001b[0m\u001b[0;34m\u001b[0m\u001b[0m\n",
            "\u001b[0;31mMlflowException\u001b[0m: API request to endpoint /api/2.0/mlflow/runs/update failed with error code 400 != 200. Response body: '\"repo not associated with run\"'"
          ]
        }
      ]
    },
    {
      "cell_type": "code",
      "source": [
        "mlflow.autolog()\n",
        "# predicted_qualities = RFC.predict(test_x)\n",
        "(rmse, mae, r2) = eval_metrics(test_y, predicted_qualities)\n",
        "print(f\"  RMSE: {rmse}\")\n",
        "print(f\"  MAE: {mae}\")\n",
        "print(f\"  R2: {r2}\")\n",
        "mlflow.sklearn.log_model(RFC,\"RandomForestClassifier\")\n",
        "# mlflow.log_metric(\"rmse\", rmse)\n",
        "# mlflow.log_metric(\"r2\", r2)\n",
        "# mlflow.log_metric(\"mae\", mae)\n",
        "# predictions = RFC.predict(train_x)\n",
        "# signature = infer_signature(train_x, predictions)"
      ],
      "metadata": {
        "colab": {
          "base_uri": "https://localhost:8080/",
          "height": 679
        },
        "id": "gtO4gPFC8h-J",
        "outputId": "d3f99b46-ef81-4d7d-89f7-f89196fab7fa"
      },
      "execution_count": 30,
      "outputs": [
        {
          "output_type": "stream",
          "name": "stderr",
          "text": [
            "2023/10/21 20:39:40 INFO mlflow.tracking.fluent: Autologging successfully enabled for sklearn.\n",
            "2023/10/21 20:39:40 INFO mlflow.tracking.fluent: Autologging successfully enabled for statsmodels.\n"
          ]
        },
        {
          "output_type": "stream",
          "name": "stdout",
          "text": [
            "  RMSE: 1.284220231004849\n",
            "  MAE: 0.513765395508134\n",
            "  R2: 0.7228176739255991\n"
          ]
        },
        {
          "output_type": "error",
          "ename": "MlflowException",
          "evalue": "ignored",
          "traceback": [
            "\u001b[0;31m---------------------------------------------------------------------------\u001b[0m",
            "\u001b[0;31mMaxRetryError\u001b[0m                             Traceback (most recent call last)",
            "\u001b[0;32m/usr/local/lib/python3.10/dist-packages/requests/adapters.py\u001b[0m in \u001b[0;36msend\u001b[0;34m(self, request, stream, timeout, verify, cert, proxies)\u001b[0m\n\u001b[1;32m    485\u001b[0m         \u001b[0;32mtry\u001b[0m\u001b[0;34m:\u001b[0m\u001b[0;34m\u001b[0m\u001b[0;34m\u001b[0m\u001b[0m\n\u001b[0;32m--> 486\u001b[0;31m             resp = conn.urlopen(\n\u001b[0m\u001b[1;32m    487\u001b[0m                 \u001b[0mmethod\u001b[0m\u001b[0;34m=\u001b[0m\u001b[0mrequest\u001b[0m\u001b[0;34m.\u001b[0m\u001b[0mmethod\u001b[0m\u001b[0;34m,\u001b[0m\u001b[0;34m\u001b[0m\u001b[0;34m\u001b[0m\u001b[0m\n",
            "\u001b[0;32m/usr/local/lib/python3.10/dist-packages/urllib3/connectionpool.py\u001b[0m in \u001b[0;36murlopen\u001b[0;34m(self, method, url, body, headers, retries, redirect, assert_same_host, timeout, pool_timeout, release_conn, chunked, body_pos, **response_kw)\u001b[0m\n\u001b[1;32m    893\u001b[0m             \u001b[0mlog\u001b[0m\u001b[0;34m.\u001b[0m\u001b[0mdebug\u001b[0m\u001b[0;34m(\u001b[0m\u001b[0;34m\"Retry: %s\"\u001b[0m\u001b[0;34m,\u001b[0m \u001b[0murl\u001b[0m\u001b[0;34m)\u001b[0m\u001b[0;34m\u001b[0m\u001b[0;34m\u001b[0m\u001b[0m\n\u001b[0;32m--> 894\u001b[0;31m             return self.urlopen(\n\u001b[0m\u001b[1;32m    895\u001b[0m                 \u001b[0mmethod\u001b[0m\u001b[0;34m,\u001b[0m\u001b[0;34m\u001b[0m\u001b[0;34m\u001b[0m\u001b[0m\n",
            "\u001b[0;32m/usr/local/lib/python3.10/dist-packages/urllib3/connectionpool.py\u001b[0m in \u001b[0;36murlopen\u001b[0;34m(self, method, url, body, headers, retries, redirect, assert_same_host, timeout, pool_timeout, release_conn, chunked, body_pos, **response_kw)\u001b[0m\n\u001b[1;32m    893\u001b[0m             \u001b[0mlog\u001b[0m\u001b[0;34m.\u001b[0m\u001b[0mdebug\u001b[0m\u001b[0;34m(\u001b[0m\u001b[0;34m\"Retry: %s\"\u001b[0m\u001b[0;34m,\u001b[0m \u001b[0murl\u001b[0m\u001b[0;34m)\u001b[0m\u001b[0;34m\u001b[0m\u001b[0;34m\u001b[0m\u001b[0m\n\u001b[0;32m--> 894\u001b[0;31m             return self.urlopen(\n\u001b[0m\u001b[1;32m    895\u001b[0m                 \u001b[0mmethod\u001b[0m\u001b[0;34m,\u001b[0m\u001b[0;34m\u001b[0m\u001b[0;34m\u001b[0m\u001b[0m\n",
            "\u001b[0;32m/usr/local/lib/python3.10/dist-packages/urllib3/connectionpool.py\u001b[0m in \u001b[0;36murlopen\u001b[0;34m(self, method, url, body, headers, retries, redirect, assert_same_host, timeout, pool_timeout, release_conn, chunked, body_pos, **response_kw)\u001b[0m\n\u001b[1;32m    893\u001b[0m             \u001b[0mlog\u001b[0m\u001b[0;34m.\u001b[0m\u001b[0mdebug\u001b[0m\u001b[0;34m(\u001b[0m\u001b[0;34m\"Retry: %s\"\u001b[0m\u001b[0;34m,\u001b[0m \u001b[0murl\u001b[0m\u001b[0;34m)\u001b[0m\u001b[0;34m\u001b[0m\u001b[0;34m\u001b[0m\u001b[0m\n\u001b[0;32m--> 894\u001b[0;31m             return self.urlopen(\n\u001b[0m\u001b[1;32m    895\u001b[0m                 \u001b[0mmethod\u001b[0m\u001b[0;34m,\u001b[0m\u001b[0;34m\u001b[0m\u001b[0;34m\u001b[0m\u001b[0m\n",
            "\u001b[0;32m/usr/local/lib/python3.10/dist-packages/urllib3/connectionpool.py\u001b[0m in \u001b[0;36murlopen\u001b[0;34m(self, method, url, body, headers, retries, redirect, assert_same_host, timeout, pool_timeout, release_conn, chunked, body_pos, **response_kw)\u001b[0m\n\u001b[1;32m    893\u001b[0m             \u001b[0mlog\u001b[0m\u001b[0;34m.\u001b[0m\u001b[0mdebug\u001b[0m\u001b[0;34m(\u001b[0m\u001b[0;34m\"Retry: %s\"\u001b[0m\u001b[0;34m,\u001b[0m \u001b[0murl\u001b[0m\u001b[0;34m)\u001b[0m\u001b[0;34m\u001b[0m\u001b[0;34m\u001b[0m\u001b[0m\n\u001b[0;32m--> 894\u001b[0;31m             return self.urlopen(\n\u001b[0m\u001b[1;32m    895\u001b[0m                 \u001b[0mmethod\u001b[0m\u001b[0;34m,\u001b[0m\u001b[0;34m\u001b[0m\u001b[0;34m\u001b[0m\u001b[0m\n",
            "\u001b[0;32m/usr/local/lib/python3.10/dist-packages/urllib3/connectionpool.py\u001b[0m in \u001b[0;36murlopen\u001b[0;34m(self, method, url, body, headers, retries, redirect, assert_same_host, timeout, pool_timeout, release_conn, chunked, body_pos, **response_kw)\u001b[0m\n\u001b[1;32m    893\u001b[0m             \u001b[0mlog\u001b[0m\u001b[0;34m.\u001b[0m\u001b[0mdebug\u001b[0m\u001b[0;34m(\u001b[0m\u001b[0;34m\"Retry: %s\"\u001b[0m\u001b[0;34m,\u001b[0m \u001b[0murl\u001b[0m\u001b[0;34m)\u001b[0m\u001b[0;34m\u001b[0m\u001b[0;34m\u001b[0m\u001b[0m\n\u001b[0;32m--> 894\u001b[0;31m             return self.urlopen(\n\u001b[0m\u001b[1;32m    895\u001b[0m                 \u001b[0mmethod\u001b[0m\u001b[0;34m,\u001b[0m\u001b[0;34m\u001b[0m\u001b[0;34m\u001b[0m\u001b[0m\n",
            "\u001b[0;32m/usr/local/lib/python3.10/dist-packages/urllib3/connectionpool.py\u001b[0m in \u001b[0;36murlopen\u001b[0;34m(self, method, url, body, headers, retries, redirect, assert_same_host, timeout, pool_timeout, release_conn, chunked, body_pos, **response_kw)\u001b[0m\n\u001b[1;32m    883\u001b[0m             \u001b[0;32mtry\u001b[0m\u001b[0;34m:\u001b[0m\u001b[0;34m\u001b[0m\u001b[0;34m\u001b[0m\u001b[0m\n\u001b[0;32m--> 884\u001b[0;31m                 \u001b[0mretries\u001b[0m \u001b[0;34m=\u001b[0m \u001b[0mretries\u001b[0m\u001b[0;34m.\u001b[0m\u001b[0mincrement\u001b[0m\u001b[0;34m(\u001b[0m\u001b[0mmethod\u001b[0m\u001b[0;34m,\u001b[0m \u001b[0murl\u001b[0m\u001b[0;34m,\u001b[0m \u001b[0mresponse\u001b[0m\u001b[0;34m=\u001b[0m\u001b[0mresponse\u001b[0m\u001b[0;34m,\u001b[0m \u001b[0m_pool\u001b[0m\u001b[0;34m=\u001b[0m\u001b[0mself\u001b[0m\u001b[0;34m)\u001b[0m\u001b[0;34m\u001b[0m\u001b[0;34m\u001b[0m\u001b[0m\n\u001b[0m\u001b[1;32m    885\u001b[0m             \u001b[0;32mexcept\u001b[0m \u001b[0mMaxRetryError\u001b[0m\u001b[0;34m:\u001b[0m\u001b[0;34m\u001b[0m\u001b[0;34m\u001b[0m\u001b[0m\n",
            "\u001b[0;32m/usr/local/lib/python3.10/dist-packages/urllib3/util/retry.py\u001b[0m in \u001b[0;36mincrement\u001b[0;34m(self, method, url, response, error, _pool, _stacktrace)\u001b[0m\n\u001b[1;32m    591\u001b[0m         \u001b[0;32mif\u001b[0m \u001b[0mnew_retry\u001b[0m\u001b[0;34m.\u001b[0m\u001b[0mis_exhausted\u001b[0m\u001b[0;34m(\u001b[0m\u001b[0;34m)\u001b[0m\u001b[0;34m:\u001b[0m\u001b[0;34m\u001b[0m\u001b[0;34m\u001b[0m\u001b[0m\n\u001b[0;32m--> 592\u001b[0;31m             \u001b[0;32mraise\u001b[0m \u001b[0mMaxRetryError\u001b[0m\u001b[0;34m(\u001b[0m\u001b[0m_pool\u001b[0m\u001b[0;34m,\u001b[0m \u001b[0murl\u001b[0m\u001b[0;34m,\u001b[0m \u001b[0merror\u001b[0m \u001b[0;32mor\u001b[0m \u001b[0mResponseError\u001b[0m\u001b[0;34m(\u001b[0m\u001b[0mcause\u001b[0m\u001b[0;34m)\u001b[0m\u001b[0;34m)\u001b[0m\u001b[0;34m\u001b[0m\u001b[0;34m\u001b[0m\u001b[0m\n\u001b[0m\u001b[1;32m    593\u001b[0m \u001b[0;34m\u001b[0m\u001b[0m\n",
            "\u001b[0;31mMaxRetryError\u001b[0m: HTTPSConnectionPool(host='dagshub.com', port=443): Max retries exceeded with url: /harryvasisht/ADAP.mlflow/api/2.0/mlflow/runs/create (Caused by ResponseError('too many 500 error responses'))",
            "\nDuring handling of the above exception, another exception occurred:\n",
            "\u001b[0;31mRetryError\u001b[0m                                Traceback (most recent call last)",
            "\u001b[0;32m/usr/local/lib/python3.10/dist-packages/mlflow/utils/rest_utils.py\u001b[0m in \u001b[0;36mhttp_request\u001b[0;34m(host_creds, endpoint, method, max_retries, backoff_factor, extra_headers, retry_codes, timeout, **kwargs)\u001b[0m\n\u001b[1;32m     91\u001b[0m     \u001b[0;32mtry\u001b[0m\u001b[0;34m:\u001b[0m\u001b[0;34m\u001b[0m\u001b[0;34m\u001b[0m\u001b[0m\n\u001b[0;32m---> 92\u001b[0;31m         return _get_http_response_with_retries(\n\u001b[0m\u001b[1;32m     93\u001b[0m             \u001b[0mmethod\u001b[0m\u001b[0;34m,\u001b[0m\u001b[0;34m\u001b[0m\u001b[0;34m\u001b[0m\u001b[0m\n",
            "\u001b[0;32m/usr/local/lib/python3.10/dist-packages/mlflow/utils/request_utils.py\u001b[0m in \u001b[0;36m_get_http_response_with_retries\u001b[0;34m(method, url, max_retries, backoff_factor, retry_codes, **kwargs)\u001b[0m\n\u001b[1;32m    134\u001b[0m     \u001b[0msession\u001b[0m \u001b[0;34m=\u001b[0m \u001b[0m_get_request_session\u001b[0m\u001b[0;34m(\u001b[0m\u001b[0mmax_retries\u001b[0m\u001b[0;34m,\u001b[0m \u001b[0mbackoff_factor\u001b[0m\u001b[0;34m,\u001b[0m \u001b[0mretry_codes\u001b[0m\u001b[0;34m)\u001b[0m\u001b[0;34m\u001b[0m\u001b[0;34m\u001b[0m\u001b[0m\n\u001b[0;32m--> 135\u001b[0;31m     \u001b[0;32mreturn\u001b[0m \u001b[0msession\u001b[0m\u001b[0;34m.\u001b[0m\u001b[0mrequest\u001b[0m\u001b[0;34m(\u001b[0m\u001b[0mmethod\u001b[0m\u001b[0;34m,\u001b[0m \u001b[0murl\u001b[0m\u001b[0;34m,\u001b[0m \u001b[0;34m**\u001b[0m\u001b[0mkwargs\u001b[0m\u001b[0;34m)\u001b[0m\u001b[0;34m\u001b[0m\u001b[0;34m\u001b[0m\u001b[0m\n\u001b[0m\u001b[1;32m    136\u001b[0m \u001b[0;34m\u001b[0m\u001b[0m\n",
            "\u001b[0;32m/usr/local/lib/python3.10/dist-packages/requests/sessions.py\u001b[0m in \u001b[0;36mrequest\u001b[0;34m(self, method, url, params, data, headers, cookies, files, auth, timeout, allow_redirects, proxies, hooks, stream, verify, cert, json)\u001b[0m\n\u001b[1;32m    588\u001b[0m         \u001b[0msend_kwargs\u001b[0m\u001b[0;34m.\u001b[0m\u001b[0mupdate\u001b[0m\u001b[0;34m(\u001b[0m\u001b[0msettings\u001b[0m\u001b[0;34m)\u001b[0m\u001b[0;34m\u001b[0m\u001b[0;34m\u001b[0m\u001b[0m\n\u001b[0;32m--> 589\u001b[0;31m         \u001b[0mresp\u001b[0m \u001b[0;34m=\u001b[0m \u001b[0mself\u001b[0m\u001b[0;34m.\u001b[0m\u001b[0msend\u001b[0m\u001b[0;34m(\u001b[0m\u001b[0mprep\u001b[0m\u001b[0;34m,\u001b[0m \u001b[0;34m**\u001b[0m\u001b[0msend_kwargs\u001b[0m\u001b[0;34m)\u001b[0m\u001b[0;34m\u001b[0m\u001b[0;34m\u001b[0m\u001b[0m\n\u001b[0m\u001b[1;32m    590\u001b[0m \u001b[0;34m\u001b[0m\u001b[0m\n",
            "\u001b[0;32m/usr/local/lib/python3.10/dist-packages/requests/sessions.py\u001b[0m in \u001b[0;36msend\u001b[0;34m(self, request, **kwargs)\u001b[0m\n\u001b[1;32m    702\u001b[0m         \u001b[0;31m# Send the request\u001b[0m\u001b[0;34m\u001b[0m\u001b[0;34m\u001b[0m\u001b[0m\n\u001b[0;32m--> 703\u001b[0;31m         \u001b[0mr\u001b[0m \u001b[0;34m=\u001b[0m \u001b[0madapter\u001b[0m\u001b[0;34m.\u001b[0m\u001b[0msend\u001b[0m\u001b[0;34m(\u001b[0m\u001b[0mrequest\u001b[0m\u001b[0;34m,\u001b[0m \u001b[0;34m**\u001b[0m\u001b[0mkwargs\u001b[0m\u001b[0;34m)\u001b[0m\u001b[0;34m\u001b[0m\u001b[0;34m\u001b[0m\u001b[0m\n\u001b[0m\u001b[1;32m    704\u001b[0m \u001b[0;34m\u001b[0m\u001b[0m\n",
            "\u001b[0;32m/usr/local/lib/python3.10/dist-packages/requests/adapters.py\u001b[0m in \u001b[0;36msend\u001b[0;34m(self, request, stream, timeout, verify, cert, proxies)\u001b[0m\n\u001b[1;32m    509\u001b[0m             \u001b[0;32mif\u001b[0m \u001b[0misinstance\u001b[0m\u001b[0;34m(\u001b[0m\u001b[0me\u001b[0m\u001b[0;34m.\u001b[0m\u001b[0mreason\u001b[0m\u001b[0;34m,\u001b[0m \u001b[0mResponseError\u001b[0m\u001b[0;34m)\u001b[0m\u001b[0;34m:\u001b[0m\u001b[0;34m\u001b[0m\u001b[0;34m\u001b[0m\u001b[0m\n\u001b[0;32m--> 510\u001b[0;31m                 \u001b[0;32mraise\u001b[0m \u001b[0mRetryError\u001b[0m\u001b[0;34m(\u001b[0m\u001b[0me\u001b[0m\u001b[0;34m,\u001b[0m \u001b[0mrequest\u001b[0m\u001b[0;34m=\u001b[0m\u001b[0mrequest\u001b[0m\u001b[0;34m)\u001b[0m\u001b[0;34m\u001b[0m\u001b[0;34m\u001b[0m\u001b[0m\n\u001b[0m\u001b[1;32m    511\u001b[0m \u001b[0;34m\u001b[0m\u001b[0m\n",
            "\u001b[0;31mRetryError\u001b[0m: HTTPSConnectionPool(host='dagshub.com', port=443): Max retries exceeded with url: /harryvasisht/ADAP.mlflow/api/2.0/mlflow/runs/create (Caused by ResponseError('too many 500 error responses'))",
            "\nDuring handling of the above exception, another exception occurred:\n",
            "\u001b[0;31mMlflowException\u001b[0m                           Traceback (most recent call last)",
            "\u001b[0;32m<ipython-input-30-3af1013a82cc>\u001b[0m in \u001b[0;36m<cell line: 7>\u001b[0;34m()\u001b[0m\n\u001b[1;32m      5\u001b[0m \u001b[0mprint\u001b[0m\u001b[0;34m(\u001b[0m\u001b[0;34mf\"  MAE: {mae}\"\u001b[0m\u001b[0;34m)\u001b[0m\u001b[0;34m\u001b[0m\u001b[0;34m\u001b[0m\u001b[0m\n\u001b[1;32m      6\u001b[0m \u001b[0mprint\u001b[0m\u001b[0;34m(\u001b[0m\u001b[0;34mf\"  R2: {r2}\"\u001b[0m\u001b[0;34m)\u001b[0m\u001b[0;34m\u001b[0m\u001b[0;34m\u001b[0m\u001b[0m\n\u001b[0;32m----> 7\u001b[0;31m \u001b[0mmlflow\u001b[0m\u001b[0;34m.\u001b[0m\u001b[0msklearn\u001b[0m\u001b[0;34m.\u001b[0m\u001b[0mlog_model\u001b[0m\u001b[0;34m(\u001b[0m\u001b[0mRFC\u001b[0m\u001b[0;34m,\u001b[0m\u001b[0;34m\"RandomForestClassifier\"\u001b[0m\u001b[0;34m)\u001b[0m\u001b[0;34m\u001b[0m\u001b[0;34m\u001b[0m\u001b[0m\n\u001b[0m\u001b[1;32m      8\u001b[0m \u001b[0;31m# mlflow.log_metric(\"rmse\", rmse)\u001b[0m\u001b[0;34m\u001b[0m\u001b[0;34m\u001b[0m\u001b[0m\n\u001b[1;32m      9\u001b[0m \u001b[0;31m# mlflow.log_metric(\"r2\", r2)\u001b[0m\u001b[0;34m\u001b[0m\u001b[0;34m\u001b[0m\u001b[0m\n",
            "\u001b[0;32m/usr/local/lib/python3.10/dist-packages/mlflow/sklearn/__init__.py\u001b[0m in \u001b[0;36mlog_model\u001b[0;34m(sk_model, artifact_path, conda_env, code_paths, serialization_format, registered_model_name, signature, input_example, await_registration_for, pip_requirements, extra_pip_requirements, pyfunc_predict_fn, metadata)\u001b[0m\n\u001b[1;32m    406\u001b[0m \u001b[0;34m\u001b[0m\u001b[0m\n\u001b[1;32m    407\u001b[0m     \"\"\"\n\u001b[0;32m--> 408\u001b[0;31m     return Model.log(\n\u001b[0m\u001b[1;32m    409\u001b[0m         \u001b[0martifact_path\u001b[0m\u001b[0;34m=\u001b[0m\u001b[0martifact_path\u001b[0m\u001b[0;34m,\u001b[0m\u001b[0;34m\u001b[0m\u001b[0;34m\u001b[0m\u001b[0m\n\u001b[1;32m    410\u001b[0m         \u001b[0mflavor\u001b[0m\u001b[0;34m=\u001b[0m\u001b[0mmlflow\u001b[0m\u001b[0;34m.\u001b[0m\u001b[0msklearn\u001b[0m\u001b[0;34m,\u001b[0m\u001b[0;34m\u001b[0m\u001b[0;34m\u001b[0m\u001b[0m\n",
            "\u001b[0;32m/usr/local/lib/python3.10/dist-packages/mlflow/models/model.py\u001b[0m in \u001b[0;36mlog\u001b[0;34m(cls, artifact_path, flavor, registered_model_name, await_registration_for, metadata, **kwargs)\u001b[0m\n\u001b[1;32m    568\u001b[0m         \u001b[0;32mwith\u001b[0m \u001b[0mTempDir\u001b[0m\u001b[0;34m(\u001b[0m\u001b[0;34m)\u001b[0m \u001b[0;32mas\u001b[0m \u001b[0mtmp\u001b[0m\u001b[0;34m:\u001b[0m\u001b[0;34m\u001b[0m\u001b[0;34m\u001b[0m\u001b[0m\n\u001b[1;32m    569\u001b[0m             \u001b[0mlocal_path\u001b[0m \u001b[0;34m=\u001b[0m \u001b[0mtmp\u001b[0m\u001b[0;34m.\u001b[0m\u001b[0mpath\u001b[0m\u001b[0;34m(\u001b[0m\u001b[0;34m\"model\"\u001b[0m\u001b[0;34m)\u001b[0m\u001b[0;34m\u001b[0m\u001b[0;34m\u001b[0m\u001b[0m\n\u001b[0;32m--> 570\u001b[0;31m             \u001b[0mrun_id\u001b[0m \u001b[0;34m=\u001b[0m \u001b[0mmlflow\u001b[0m\u001b[0;34m.\u001b[0m\u001b[0mtracking\u001b[0m\u001b[0;34m.\u001b[0m\u001b[0mfluent\u001b[0m\u001b[0;34m.\u001b[0m\u001b[0m_get_or_start_run\u001b[0m\u001b[0;34m(\u001b[0m\u001b[0;34m)\u001b[0m\u001b[0;34m.\u001b[0m\u001b[0minfo\u001b[0m\u001b[0;34m.\u001b[0m\u001b[0mrun_id\u001b[0m\u001b[0;34m\u001b[0m\u001b[0;34m\u001b[0m\u001b[0m\n\u001b[0m\u001b[1;32m    571\u001b[0m             \u001b[0mmlflow_model\u001b[0m \u001b[0;34m=\u001b[0m \u001b[0mcls\u001b[0m\u001b[0;34m(\u001b[0m\u001b[0martifact_path\u001b[0m\u001b[0;34m=\u001b[0m\u001b[0martifact_path\u001b[0m\u001b[0;34m,\u001b[0m \u001b[0mrun_id\u001b[0m\u001b[0;34m=\u001b[0m\u001b[0mrun_id\u001b[0m\u001b[0;34m,\u001b[0m \u001b[0mmetadata\u001b[0m\u001b[0;34m=\u001b[0m\u001b[0mmetadata\u001b[0m\u001b[0;34m)\u001b[0m\u001b[0;34m\u001b[0m\u001b[0;34m\u001b[0m\u001b[0m\n\u001b[1;32m    572\u001b[0m             \u001b[0mtracking_uri\u001b[0m \u001b[0;34m=\u001b[0m \u001b[0m_resolve_tracking_uri\u001b[0m\u001b[0;34m(\u001b[0m\u001b[0;34m)\u001b[0m\u001b[0;34m\u001b[0m\u001b[0;34m\u001b[0m\u001b[0m\n",
            "\u001b[0;32m/usr/local/lib/python3.10/dist-packages/mlflow/tracking/fluent.py\u001b[0m in \u001b[0;36m_get_or_start_run\u001b[0;34m()\u001b[0m\n\u001b[1;32m   1765\u001b[0m     \u001b[0;32mif\u001b[0m \u001b[0mlen\u001b[0m\u001b[0;34m(\u001b[0m\u001b[0m_active_run_stack\u001b[0m\u001b[0;34m)\u001b[0m \u001b[0;34m>\u001b[0m \u001b[0;36m0\u001b[0m\u001b[0;34m:\u001b[0m\u001b[0;34m\u001b[0m\u001b[0;34m\u001b[0m\u001b[0m\n\u001b[1;32m   1766\u001b[0m         \u001b[0;32mreturn\u001b[0m \u001b[0m_active_run_stack\u001b[0m\u001b[0;34m[\u001b[0m\u001b[0;34m-\u001b[0m\u001b[0;36m1\u001b[0m\u001b[0;34m]\u001b[0m\u001b[0;34m\u001b[0m\u001b[0;34m\u001b[0m\u001b[0m\n\u001b[0;32m-> 1767\u001b[0;31m     \u001b[0;32mreturn\u001b[0m \u001b[0mstart_run\u001b[0m\u001b[0;34m(\u001b[0m\u001b[0;34m)\u001b[0m\u001b[0;34m\u001b[0m\u001b[0;34m\u001b[0m\u001b[0m\n\u001b[0m\u001b[1;32m   1768\u001b[0m \u001b[0;34m\u001b[0m\u001b[0m\n\u001b[1;32m   1769\u001b[0m \u001b[0;34m\u001b[0m\u001b[0m\n",
            "\u001b[0;32m/usr/local/lib/python3.10/dist-packages/mlflow/tracking/fluent.py\u001b[0m in \u001b[0;36mstart_run\u001b[0;34m(run_id, experiment_id, run_name, nested, tags, description)\u001b[0m\n\u001b[1;32m    363\u001b[0m         \u001b[0mresolved_tags\u001b[0m \u001b[0;34m=\u001b[0m \u001b[0mcontext_registry\u001b[0m\u001b[0;34m.\u001b[0m\u001b[0mresolve_tags\u001b[0m\u001b[0;34m(\u001b[0m\u001b[0muser_specified_tags\u001b[0m\u001b[0;34m)\u001b[0m\u001b[0;34m\u001b[0m\u001b[0;34m\u001b[0m\u001b[0m\n\u001b[1;32m    364\u001b[0m \u001b[0;34m\u001b[0m\u001b[0m\n\u001b[0;32m--> 365\u001b[0;31m         active_run_obj = client.create_run(\n\u001b[0m\u001b[1;32m    366\u001b[0m             \u001b[0mexperiment_id\u001b[0m\u001b[0;34m=\u001b[0m\u001b[0mexp_id_for_run\u001b[0m\u001b[0;34m,\u001b[0m \u001b[0mtags\u001b[0m\u001b[0;34m=\u001b[0m\u001b[0mresolved_tags\u001b[0m\u001b[0;34m,\u001b[0m \u001b[0mrun_name\u001b[0m\u001b[0;34m=\u001b[0m\u001b[0mrun_name\u001b[0m\u001b[0;34m\u001b[0m\u001b[0;34m\u001b[0m\u001b[0m\n\u001b[1;32m    367\u001b[0m         )\n",
            "\u001b[0;32m/usr/local/lib/python3.10/dist-packages/mlflow/tracking/client.py\u001b[0m in \u001b[0;36mcreate_run\u001b[0;34m(self, experiment_id, start_time, tags, run_name)\u001b[0m\n\u001b[1;32m    325\u001b[0m             \u001b[0mstatus\u001b[0m\u001b[0;34m:\u001b[0m \u001b[0mRUNNING\u001b[0m\u001b[0;34m\u001b[0m\u001b[0;34m\u001b[0m\u001b[0m\n\u001b[1;32m    326\u001b[0m         \"\"\"\n\u001b[0;32m--> 327\u001b[0;31m         \u001b[0;32mreturn\u001b[0m \u001b[0mself\u001b[0m\u001b[0;34m.\u001b[0m\u001b[0m_tracking_client\u001b[0m\u001b[0;34m.\u001b[0m\u001b[0mcreate_run\u001b[0m\u001b[0;34m(\u001b[0m\u001b[0mexperiment_id\u001b[0m\u001b[0;34m,\u001b[0m \u001b[0mstart_time\u001b[0m\u001b[0;34m,\u001b[0m \u001b[0mtags\u001b[0m\u001b[0;34m,\u001b[0m \u001b[0mrun_name\u001b[0m\u001b[0;34m)\u001b[0m\u001b[0;34m\u001b[0m\u001b[0;34m\u001b[0m\u001b[0m\n\u001b[0m\u001b[1;32m    328\u001b[0m \u001b[0;34m\u001b[0m\u001b[0m\n\u001b[1;32m    329\u001b[0m     def search_experiments(\n",
            "\u001b[0;32m/usr/local/lib/python3.10/dist-packages/mlflow/tracking/_tracking_service/client.py\u001b[0m in \u001b[0;36mcreate_run\u001b[0;34m(self, experiment_id, start_time, tags, run_name)\u001b[0m\n\u001b[1;32m    129\u001b[0m         \u001b[0muser_id\u001b[0m \u001b[0;34m=\u001b[0m \u001b[0mtags\u001b[0m\u001b[0;34m.\u001b[0m\u001b[0mget\u001b[0m\u001b[0;34m(\u001b[0m\u001b[0mMLFLOW_USER\u001b[0m\u001b[0;34m,\u001b[0m \u001b[0;34m\"unknown\"\u001b[0m\u001b[0;34m)\u001b[0m\u001b[0;34m\u001b[0m\u001b[0;34m\u001b[0m\u001b[0m\n\u001b[1;32m    130\u001b[0m \u001b[0;34m\u001b[0m\u001b[0m\n\u001b[0;32m--> 131\u001b[0;31m         return self.store.create_run(\n\u001b[0m\u001b[1;32m    132\u001b[0m             \u001b[0mexperiment_id\u001b[0m\u001b[0;34m=\u001b[0m\u001b[0mexperiment_id\u001b[0m\u001b[0;34m,\u001b[0m\u001b[0;34m\u001b[0m\u001b[0;34m\u001b[0m\u001b[0m\n\u001b[1;32m    133\u001b[0m             \u001b[0muser_id\u001b[0m\u001b[0;34m=\u001b[0m\u001b[0muser_id\u001b[0m\u001b[0;34m,\u001b[0m\u001b[0;34m\u001b[0m\u001b[0;34m\u001b[0m\u001b[0m\n",
            "\u001b[0;32m/usr/local/lib/python3.10/dist-packages/mlflow/store/tracking/rest_store.py\u001b[0m in \u001b[0;36mcreate_run\u001b[0;34m(self, experiment_id, user_id, start_time, tags, run_name)\u001b[0m\n\u001b[1;32m    176\u001b[0m             )\n\u001b[1;32m    177\u001b[0m         )\n\u001b[0;32m--> 178\u001b[0;31m         \u001b[0mresponse_proto\u001b[0m \u001b[0;34m=\u001b[0m \u001b[0mself\u001b[0m\u001b[0;34m.\u001b[0m\u001b[0m_call_endpoint\u001b[0m\u001b[0;34m(\u001b[0m\u001b[0mCreateRun\u001b[0m\u001b[0;34m,\u001b[0m \u001b[0mreq_body\u001b[0m\u001b[0;34m)\u001b[0m\u001b[0;34m\u001b[0m\u001b[0;34m\u001b[0m\u001b[0m\n\u001b[0m\u001b[1;32m    179\u001b[0m         \u001b[0;32mreturn\u001b[0m \u001b[0mRun\u001b[0m\u001b[0;34m.\u001b[0m\u001b[0mfrom_proto\u001b[0m\u001b[0;34m(\u001b[0m\u001b[0mresponse_proto\u001b[0m\u001b[0;34m.\u001b[0m\u001b[0mrun\u001b[0m\u001b[0;34m)\u001b[0m\u001b[0;34m\u001b[0m\u001b[0;34m\u001b[0m\u001b[0m\n\u001b[1;32m    180\u001b[0m \u001b[0;34m\u001b[0m\u001b[0m\n",
            "\u001b[0;32m/usr/local/lib/python3.10/dist-packages/mlflow/store/tracking/rest_store.py\u001b[0m in \u001b[0;36m_call_endpoint\u001b[0;34m(self, api, json_body)\u001b[0m\n\u001b[1;32m     57\u001b[0m         \u001b[0mendpoint\u001b[0m\u001b[0;34m,\u001b[0m \u001b[0mmethod\u001b[0m \u001b[0;34m=\u001b[0m \u001b[0m_METHOD_TO_INFO\u001b[0m\u001b[0;34m[\u001b[0m\u001b[0mapi\u001b[0m\u001b[0;34m]\u001b[0m\u001b[0;34m\u001b[0m\u001b[0;34m\u001b[0m\u001b[0m\n\u001b[1;32m     58\u001b[0m         \u001b[0mresponse_proto\u001b[0m \u001b[0;34m=\u001b[0m \u001b[0mapi\u001b[0m\u001b[0;34m.\u001b[0m\u001b[0mResponse\u001b[0m\u001b[0;34m(\u001b[0m\u001b[0;34m)\u001b[0m\u001b[0;34m\u001b[0m\u001b[0;34m\u001b[0m\u001b[0m\n\u001b[0;32m---> 59\u001b[0;31m         \u001b[0;32mreturn\u001b[0m \u001b[0mcall_endpoint\u001b[0m\u001b[0;34m(\u001b[0m\u001b[0mself\u001b[0m\u001b[0;34m.\u001b[0m\u001b[0mget_host_creds\u001b[0m\u001b[0;34m(\u001b[0m\u001b[0;34m)\u001b[0m\u001b[0;34m,\u001b[0m \u001b[0mendpoint\u001b[0m\u001b[0;34m,\u001b[0m \u001b[0mmethod\u001b[0m\u001b[0;34m,\u001b[0m \u001b[0mjson_body\u001b[0m\u001b[0;34m,\u001b[0m \u001b[0mresponse_proto\u001b[0m\u001b[0;34m)\u001b[0m\u001b[0;34m\u001b[0m\u001b[0;34m\u001b[0m\u001b[0m\n\u001b[0m\u001b[1;32m     60\u001b[0m \u001b[0;34m\u001b[0m\u001b[0m\n\u001b[1;32m     61\u001b[0m     def search_experiments(\n",
            "\u001b[0;32m/usr/local/lib/python3.10/dist-packages/mlflow/utils/rest_utils.py\u001b[0m in \u001b[0;36mcall_endpoint\u001b[0;34m(host_creds, endpoint, method, json_body, response_proto, extra_headers)\u001b[0m\n\u001b[1;32m    199\u001b[0m     \u001b[0;32melse\u001b[0m\u001b[0;34m:\u001b[0m\u001b[0;34m\u001b[0m\u001b[0;34m\u001b[0m\u001b[0m\n\u001b[1;32m    200\u001b[0m         \u001b[0mcall_kwargs\u001b[0m\u001b[0;34m[\u001b[0m\u001b[0;34m\"json\"\u001b[0m\u001b[0;34m]\u001b[0m \u001b[0;34m=\u001b[0m \u001b[0mjson_body\u001b[0m\u001b[0;34m\u001b[0m\u001b[0;34m\u001b[0m\u001b[0m\n\u001b[0;32m--> 201\u001b[0;31m         \u001b[0mresponse\u001b[0m \u001b[0;34m=\u001b[0m \u001b[0mhttp_request\u001b[0m\u001b[0;34m(\u001b[0m\u001b[0;34m**\u001b[0m\u001b[0mcall_kwargs\u001b[0m\u001b[0;34m)\u001b[0m\u001b[0;34m\u001b[0m\u001b[0;34m\u001b[0m\u001b[0m\n\u001b[0m\u001b[1;32m    202\u001b[0m     \u001b[0mresponse\u001b[0m \u001b[0;34m=\u001b[0m \u001b[0mverify_rest_response\u001b[0m\u001b[0;34m(\u001b[0m\u001b[0mresponse\u001b[0m\u001b[0;34m,\u001b[0m \u001b[0mendpoint\u001b[0m\u001b[0;34m)\u001b[0m\u001b[0;34m\u001b[0m\u001b[0;34m\u001b[0m\u001b[0m\n\u001b[1;32m    203\u001b[0m     \u001b[0mjs_dict\u001b[0m \u001b[0;34m=\u001b[0m \u001b[0mjson\u001b[0m\u001b[0;34m.\u001b[0m\u001b[0mloads\u001b[0m\u001b[0;34m(\u001b[0m\u001b[0mresponse\u001b[0m\u001b[0;34m.\u001b[0m\u001b[0mtext\u001b[0m\u001b[0;34m)\u001b[0m\u001b[0;34m\u001b[0m\u001b[0;34m\u001b[0m\u001b[0m\n",
            "\u001b[0;32m/usr/local/lib/python3.10/dist-packages/mlflow/utils/rest_utils.py\u001b[0m in \u001b[0;36mhttp_request\u001b[0;34m(host_creds, endpoint, method, max_retries, backoff_factor, extra_headers, retry_codes, timeout, **kwargs)\u001b[0m\n\u001b[1;32m    110\u001b[0m         \u001b[0;32mraise\u001b[0m \u001b[0mInvalidUrlException\u001b[0m\u001b[0;34m(\u001b[0m\u001b[0;34mf\"Invalid url: {url}\"\u001b[0m\u001b[0;34m)\u001b[0m \u001b[0;32mfrom\u001b[0m \u001b[0miu\u001b[0m\u001b[0;34m\u001b[0m\u001b[0;34m\u001b[0m\u001b[0m\n\u001b[1;32m    111\u001b[0m     \u001b[0;32mexcept\u001b[0m \u001b[0mException\u001b[0m \u001b[0;32mas\u001b[0m \u001b[0me\u001b[0m\u001b[0;34m:\u001b[0m\u001b[0;34m\u001b[0m\u001b[0;34m\u001b[0m\u001b[0m\n\u001b[0;32m--> 112\u001b[0;31m         \u001b[0;32mraise\u001b[0m \u001b[0mMlflowException\u001b[0m\u001b[0;34m(\u001b[0m\u001b[0;34mf\"API request to {url} failed with exception {e}\"\u001b[0m\u001b[0;34m)\u001b[0m\u001b[0;34m\u001b[0m\u001b[0;34m\u001b[0m\u001b[0m\n\u001b[0m\u001b[1;32m    113\u001b[0m \u001b[0;34m\u001b[0m\u001b[0m\n\u001b[1;32m    114\u001b[0m \u001b[0;34m\u001b[0m\u001b[0m\n",
            "\u001b[0;31mMlflowException\u001b[0m: API request to https://dagshub.com/harryvasisht/ADAP.mlflow/api/2.0/mlflow/runs/create failed with exception HTTPSConnectionPool(host='dagshub.com', port=443): Max retries exceeded with url: /harryvasisht/ADAP.mlflow/api/2.0/mlflow/runs/create (Caused by ResponseError('too many 500 error responses'))"
          ]
        }
      ]
    },
    {
      "cell_type": "code",
      "source": [],
      "metadata": {
        "id": "DUnMJU_G9dQr"
      },
      "execution_count": null,
      "outputs": []
    },
    {
      "cell_type": "markdown",
      "source": [
        "## ***`Decison Tree`***"
      ],
      "metadata": {
        "id": "7Aj0rlwZjiYz"
      }
    },
    {
      "cell_type": "code",
      "source": [
        "os.environ['MLFLOW_TRACKING_USERNAME'] = 'harryvasisht'\n",
        "os.environ['MLFLOW_TRACKING_PASSWORD'] = '4a7bea066695ef999dfda84bab1b8bba477df009'\n",
        "with mlflow.start_run():\n",
        "      mlflow.set_experiment(\"DecisionTreeTest\")\n",
        "      mlflow.autolog()\n",
        "      DT = DecisionTreeClassifier(criterion=\"entropy\",random_state=17)\n",
        "      DT.fit(train_x, train_y)\n",
        "      predicted_qualities = DT.predict(test_x)\n",
        "      (rmse, mae, r2) = eval_metrics(test_y, predicted_qualities)\n",
        "      print(f\"  RMSE: {rmse}\")\n",
        "      print(f\"  MAE: {mae}\")\n",
        "      print(f\"  R2: {r2}\")\n",
        "      mlflow.log_metric(\"rmse\", rmse)\n",
        "      mlflow.log_metric(\"r2\", r2)\n",
        "      mlflow.log_metric(\"mae\", mae)\n",
        "      predictions = DT.predict(train_x)\n",
        "      signature = infer_signature(train_x, predictions)\n",
        "      remote_server_uri = \"https://dagshub.com/harryvasisht/ADAP.mlflow\"\n",
        "      mlflow.set_tracking_uri(remote_server_uri)\n",
        "      tracking_url_type_store = urlparse(mlflow.get_tracking_uri()).scheme\n",
        "                # Model registry does not work with file store\n",
        "      if tracking_url_type_store != \"file\":\n",
        "        mlflow.sklearn.log_model(\n",
        "                DT, \"model\", registered_model_name=\"DecisionTreeClassifier\", signature=signature\n",
        "            )\n",
        "      else:\n",
        "        mlflow.sklearn.log_model(DT, \"model\", signature=signature)"
      ],
      "metadata": {
        "colab": {
          "base_uri": "https://localhost:8080/"
        },
        "id": "epOok-iijmN7",
        "outputId": "2996175a-6d42-42ea-c346-ae470312ca67"
      },
      "execution_count": 66,
      "outputs": [
        {
          "output_type": "stream",
          "name": "stderr",
          "text": [
            "2023/10/21 20:04:06 INFO mlflow.tracking.fluent: Autologging successfully enabled for statsmodels.\n",
            "2023/10/21 20:04:06 INFO mlflow.tracking.fluent: Autologging successfully enabled for sklearn.\n",
            "2023/10/21 20:04:07 WARNING mlflow.sklearn: Failed to log training dataset information to MLflow Tracking. Reason: 'DataFrame' object has no attribute 'flatten'\n",
            "2023/10/21 20:04:25 WARNING mlflow.sklearn.utils: roc_auc_score failed. The metric training_roc_auc will not be recorded. Metric error: too many indices for array: array is 2-dimensional, but 3 were indexed\n"
          ]
        },
        {
          "output_type": "stream",
          "name": "stdout",
          "text": [
            "  RMSE: 1.434282911129107\n",
            "  MAE: 0.6417166706531197\n",
            "  R2: 0.6542547929095172\n"
          ]
        },
        {
          "output_type": "stream",
          "name": "stderr",
          "text": [
            "Successfully registered model 'DecisionTreeClassifier'.\n",
            "2023/10/21 20:05:33 INFO mlflow.tracking._model_registry.client: Waiting up to 300 seconds for model version to finish creation. Model name: DecisionTreeClassifier, version 1\n",
            "Created version '1' of model 'DecisionTreeClassifier'.\n"
          ]
        }
      ]
    },
    {
      "cell_type": "code",
      "source": [
        "os.environ['MLFLOW_TRACKING_USERNAME'] = 'harryvasisht'\n",
        "os.environ['MLFLOW_TRACKING_PASSWORD'] = '4a7bea066695ef999dfda84bab1b8bba477df009'\n",
        "with mlflow.start_run() as run:\n",
        "      mlflow.set_experiment(\"DecisionTreeTest1\")\n",
        "      mlflow.autolog()\n",
        "      alpha = 0.5 if float(0.5) is None else float(0.5)\n",
        "       # Set default values if no l1_ratio is provided\n",
        "      l1_ratio = 0.5 if float(0.5) is None else float(0.5)\n",
        "      DT = DecisionTreeClassifier(alpha = alpha, l1_ratio = l1_ratio, criterion=\"entropy\",random_state=17)\n",
        "      DT.fit(train_x, train_y)\n",
        "      predicted_qualities = DT.predict(test_x)\n",
        "      (rmse, mae, r2) = eval_metrics(test_y, predicted_qualities)\n",
        "      print(f\"  RMSE: {rmse}\")\n",
        "      print(f\"  MAE: {mae}\")\n",
        "      print(f\"  R2: {r2}\")\n",
        "      mlflow.log_metric(\"rmse\", rmse)\n",
        "      mlflow.log_metric(\"r2\", r2)\n",
        "      mlflow.log_metric(\"mae\", mae)\n",
        "      predictions = DT.predict(train_x)\n",
        "      signature = infer_signature(train_x, predictions)\n",
        "      remote_server_uri = \"https://dagshub.com/harryvasisht/ADAP.mlflow\"\n",
        "      mlflow.set_tracking_uri(remote_server_uri)\n",
        "      tracking_url_type_store = urlparse(mlflow.get_tracking_uri()).scheme\n",
        "      mlflow.sklearn.log_model(DT, \"model\", signature=signature)\n",
        "      print(f\"Run ID: {run.info.run_id}\")\n",
        "                # Model registry does not work with file store\n",
        "      if tracking_url_type_store != \"file\":\n",
        "        mlflow.sklearn.log_model(\n",
        "                DT, \"model\", registered_model_name=\"DecisionTreeClassifier1\", signature=signature\n",
        "            )\n",
        "      else:\n",
        "        mlflow.sklearn.log_model(DT, \"model\", signature=signature)"
      ],
      "metadata": {
        "id": "6mFP2wsH_xXJ"
      },
      "execution_count": null,
      "outputs": []
    },
    {
      "cell_type": "code",
      "source": [],
      "metadata": {
        "id": "9cuulK-xCwYC"
      },
      "execution_count": null,
      "outputs": []
    },
    {
      "cell_type": "code",
      "source": [
        "from dagshub.notebook import save_notebook\n",
        "save_notebook(repo=\"harryvasisht/ADAP\", path=\"/content/drive/MyDrive/Assignment Robotics/Assignment1.ipynb\")"
      ],
      "metadata": {
        "colab": {
          "base_uri": "https://localhost:8080/",
          "height": 327
        },
        "id": "qvvMdOpYAdgk",
        "outputId": "df3eae79-53f4-44ef-c398-ee0574c14865"
      },
      "execution_count": 42,
      "outputs": [
        {
          "output_type": "error",
          "ename": "RuntimeError",
          "evalue": "ignored",
          "traceback": [
            "\u001b[0;31m---------------------------------------------------------------------------\u001b[0m",
            "\u001b[0;31mRuntimeError\u001b[0m                              Traceback (most recent call last)",
            "\u001b[0;32m<ipython-input-42-6d2f54261b5e>\u001b[0m in \u001b[0;36m<cell line: 2>\u001b[0;34m()\u001b[0m\n\u001b[1;32m      1\u001b[0m \u001b[0;32mfrom\u001b[0m \u001b[0mdagshub\u001b[0m\u001b[0;34m.\u001b[0m\u001b[0mnotebook\u001b[0m \u001b[0;32mimport\u001b[0m \u001b[0msave_notebook\u001b[0m\u001b[0;34m\u001b[0m\u001b[0;34m\u001b[0m\u001b[0m\n\u001b[0;32m----> 2\u001b[0;31m \u001b[0msave_notebook\u001b[0m\u001b[0;34m(\u001b[0m\u001b[0mrepo\u001b[0m\u001b[0;34m=\u001b[0m\u001b[0;34m\"harryvasisht/ADAP\"\u001b[0m\u001b[0;34m,\u001b[0m \u001b[0mpath\u001b[0m\u001b[0;34m=\u001b[0m\u001b[0;34m\"/content/drive/MyDrive/Assignment Robotics/Assignment1.ipynb\"\u001b[0m\u001b[0;34m)\u001b[0m\u001b[0;34m\u001b[0m\u001b[0;34m\u001b[0m\u001b[0m\n\u001b[0m",
            "\u001b[0;32m/usr/local/lib/python3.10/dist-packages/dagshub/notebook.py\u001b[0m in \u001b[0;36msave_notebook\u001b[0;34m(repo, path, branch, commit_message, versioning)\u001b[0m\n\u001b[1;32m     85\u001b[0m             \u001b[0mnotebook_ipynb\u001b[0m \u001b[0;34m=\u001b[0m \u001b[0m_message\u001b[0m\u001b[0;34m.\u001b[0m\u001b[0mblocking_request\u001b[0m\u001b[0;34m(\u001b[0m\u001b[0;34m\"get_ipynb\"\u001b[0m\u001b[0;34m)\u001b[0m\u001b[0;34m\u001b[0m\u001b[0;34m\u001b[0m\u001b[0m\n\u001b[1;32m     86\u001b[0m             \u001b[0;32mif\u001b[0m \u001b[0mnotebook_ipynb\u001b[0m \u001b[0;32mis\u001b[0m \u001b[0;32mNone\u001b[0m \u001b[0;32mor\u001b[0m \u001b[0;34m\"ipynb\"\u001b[0m \u001b[0;32mnot\u001b[0m \u001b[0;32min\u001b[0m \u001b[0mnotebook_ipynb\u001b[0m\u001b[0;34m:\u001b[0m\u001b[0;34m\u001b[0m\u001b[0;34m\u001b[0m\u001b[0m\n\u001b[0;32m---> 87\u001b[0;31m                 \u001b[0;32mraise\u001b[0m \u001b[0mRuntimeError\u001b[0m\u001b[0;34m(\u001b[0m\u001b[0;34m\"Couldn't get notebook data from colab.\"\u001b[0m\u001b[0;34m)\u001b[0m\u001b[0;34m\u001b[0m\u001b[0;34m\u001b[0m\u001b[0m\n\u001b[0m\u001b[1;32m     88\u001b[0m             \u001b[0;32mwith\u001b[0m \u001b[0mopen\u001b[0m\u001b[0;34m(\u001b[0m\u001b[0mout_path\u001b[0m\u001b[0;34m,\u001b[0m \u001b[0;34m\"w\"\u001b[0m\u001b[0;34m)\u001b[0m \u001b[0;32mas\u001b[0m \u001b[0mfile\u001b[0m\u001b[0;34m:\u001b[0m\u001b[0;34m\u001b[0m\u001b[0;34m\u001b[0m\u001b[0m\n\u001b[1;32m     89\u001b[0m                 \u001b[0mfile\u001b[0m\u001b[0;34m.\u001b[0m\u001b[0mwrite\u001b[0m\u001b[0;34m(\u001b[0m\u001b[0mjson\u001b[0m\u001b[0;34m.\u001b[0m\u001b[0mdumps\u001b[0m\u001b[0;34m(\u001b[0m\u001b[0mnotebook_ipynb\u001b[0m\u001b[0;34m[\u001b[0m\u001b[0;34m\"ipynb\"\u001b[0m\u001b[0;34m]\u001b[0m\u001b[0;34m,\u001b[0m \u001b[0mindent\u001b[0m\u001b[0;34m=\u001b[0m\u001b[0;36m4\u001b[0m\u001b[0;34m)\u001b[0m\u001b[0;34m)\u001b[0m\u001b[0;34m\u001b[0m\u001b[0;34m\u001b[0m\u001b[0m\n",
            "\u001b[0;31mRuntimeError\u001b[0m: Couldn't get notebook data from colab."
          ]
        }
      ]
    },
    {
      "cell_type": "markdown",
      "source": [
        "# ***`CNN`***"
      ],
      "metadata": {
        "id": "7BzLr0uMmTn3"
      }
    },
    {
      "cell_type": "markdown",
      "source": [
        "9 by 9 and 3 by 3 kernel, from scratch. image using Numpy. With proper manner. atleast 1 iterration. plot Relu and Sigmoid. Leaky Relu\n",
        "\n",
        "\n",
        "[!image] ![1.png](data:image/png;base64,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)"
      ],
      "metadata": {
        "id": "flI3oBT4dr_0"
      }
    },
    {
      "cell_type": "markdown",
      "source": [
        "An RGB Image has 3 channels.\n",
        "\n",
        "![3.png](data:image/png;base64,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)"
      ],
      "metadata": {
        "id": "M7aytwJreN7m"
      }
    },
    {
      "cell_type": "code",
      "source": [
        "import skimage.data\n",
        "# Reading the image\n",
        "img = skimage.data.chelsea()\n",
        "# Converting the image into gray.\n",
        "img = skimage.color.rgb2gray(img)"
      ],
      "metadata": {
        "id": "-g4gz4U6drtS"
      },
      "execution_count": null,
      "outputs": []
    },
    {
      "cell_type": "code",
      "source": [
        "# Define a 9x9 grayscale image\n",
        "image = np.array([\n",
        "    [10, 20, 30, 40, 50, 60, 70, 80, 90],\n",
        "    [15, 25, 35, 45, 55, 65, 75, 85, 95],\n",
        "    [12, 22, 32, 42, 52, 62, 72, 82, 92],\n",
        "    [10, 20, 30, 40, 50, 60, 70, 80, 90],\n",
        "    [15, 25, 35, 45, 55, 65, 75, 85, 95],\n",
        "    [12, 22, 32, 42, 52, 62, 72, 82, 92],\n",
        "    [10, 20, 30, 40, 50, 60, 70, 80, 90],\n",
        "    [15, 25, 35, 45, 55, 65, 75, 85, 95],\n",
        "    [12, 22, 32, 42, 52, 62, 72, 82, 92]\n",
        "])\n",
        "\n",
        "# Define a 3x3 kernel (edge detection)\n",
        "kernel = np.array([\n",
        "    [1, 0, -1],\n",
        "    [1, 0, -1],\n",
        "    [1, 0, -1]\n",
        "])\n",
        "\n",
        "\n",
        "image_height, image_width = image.shape\n",
        "kernel_height, kernel_width = kernel.shape\n",
        "\n",
        "output_height = image_height - kernel_height + 1\n",
        "output_width = image_width - kernel_width + 1\n",
        "\n",
        "# Initialize the output feature map\n",
        "feature_map = np.zeros((output_height, output_width))\n",
        "\n",
        "for i in range(output_height): # Perform convolution by sliding the kernel over the image\n",
        "    for j in range(output_width):\n",
        "        roi = image[i:i + kernel_height, j:j + kernel_width]\n",
        "        feature_map[i, j] = np.sum(roi * kernel)\n",
        "\n",
        "\n",
        "print(\"Image:\")\n",
        "print(image)\n",
        "print(\"\\nKernel:\")\n",
        "print(kernel)\n",
        "print(\"\\nFeature Map (Result of Convolution):\")\n",
        "print(feature_map)"
      ],
      "metadata": {
        "id": "I8Kyl-BepHqH"
      },
      "execution_count": null,
      "outputs": []
    }
  ],
  "metadata": {
    "colab": {
      "provenance": [],
      "gpuType": "T4"
    },
    "kernelspec": {
      "display_name": "Python 3",
      "name": "python3"
    },
    "language_info": {
      "name": "python"
    },
    "accelerator": "GPU"
  },
  "nbformat": 4,
  "nbformat_minor": 0
}